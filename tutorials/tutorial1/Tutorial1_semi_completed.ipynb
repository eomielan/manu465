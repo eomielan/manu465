{
  "cells": [
    {
      "cell_type": "markdown",
      "source": [
        "## Mounting Colab on my Google Drive"
      ],
      "metadata": {
        "id": "wLFqy6VIKWJo"
      },
      "id": "wLFqy6VIKWJo"
    },
    {
      "cell_type": "code",
      "source": [
        "from google.colab import drive\n",
        "drive.mount(\"/content/drive\")"
      ],
      "metadata": {
        "colab": {
          "base_uri": "https://localhost:8080/"
        },
        "id": "xD8ZvDg3KUaJ",
        "outputId": "d22c50f0-643f-4b46-9a51-e0f491415a26"
      },
      "id": "xD8ZvDg3KUaJ",
      "execution_count": 1,
      "outputs": [
        {
          "output_type": "stream",
          "name": "stdout",
          "text": [
            "Mounted at /content/drive\n"
          ]
        }
      ]
    },
    {
      "cell_type": "markdown",
      "source": [
        "Changing the directory "
      ],
      "metadata": {
        "id": "eB31355CKvjA"
      },
      "id": "eB31355CKvjA"
    },
    {
      "cell_type": "code",
      "source": [
        "%cd \"code here\""
      ],
      "metadata": {
        "colab": {
          "base_uri": "https://localhost:8080/"
        },
        "id": "FM4c8abAKyKc",
        "outputId": "2fb08927-f7c2-4069-c092-d974808dac91"
      },
      "id": "FM4c8abAKyKc",
      "execution_count": 2,
      "outputs": [
        {
          "output_type": "stream",
          "name": "stdout",
          "text": [
            "/content/drive/MyDrive/Tutorials/Tutorial 1\n"
          ]
        }
      ]
    },
    {
      "cell_type": "markdown",
      "source": [
        "Checking the contents of the current directory"
      ],
      "metadata": {
        "id": "eZfG94mbK47h"
      },
      "id": "eZfG94mbK47h"
    },
    {
      "cell_type": "code",
      "source": [
        "!ls"
      ],
      "metadata": {
        "colab": {
          "base_uri": "https://localhost:8080/"
        },
        "id": "7_UQB5QOK8tC",
        "outputId": "f3f3902f-065b-4f7c-9904-dff2e5af0cac"
      },
      "id": "7_UQB5QOK8tC",
      "execution_count": 3,
      "outputs": [
        {
          "output_type": "stream",
          "name": "stdout",
          "text": [
            " Titanic_Data.csv  'Tutorial1 Solution.ipynb'  'Tutorial1 Template.ipynb'\n"
          ]
        }
      ]
    },
    {
      "cell_type": "markdown",
      "id": "d3605422-b34f-4199-aa01-c6d7ba080622",
      "metadata": {
        "id": "d3605422-b34f-4199-aa01-c6d7ba080622"
      },
      "source": [
        "# Tutorial 1 The Titanic Disaster\n",
        "\n",
        "## Project Summary\n",
        "Predict which passengers survived the Titanic shipwreck."
      ]
    },
    {
      "cell_type": "markdown",
      "id": "681cf9ed-3af2-426e-a4c0-f700e7a9e729",
      "metadata": {
        "id": "681cf9ed-3af2-426e-a4c0-f700e7a9e729"
      },
      "source": [
        "## Importing Some Basic Libraries"
      ]
    },
    {
      "cell_type": "code",
      "execution_count": 4,
      "id": "50435b6a-111b-495e-9af9-ca2aa0c43bb3",
      "metadata": {
        "id": "50435b6a-111b-495e-9af9-ca2aa0c43bb3"
      },
      "outputs": [],
      "source": [
        "import numpy as np \n",
        "import pandas as pd \n",
        "from matplotlib import pyplot as plt"
      ]
    },
    {
      "cell_type": "markdown",
      "id": "d65cf566-b637-4a74-893a-4e88e813b96d",
      "metadata": {
        "id": "d65cf566-b637-4a74-893a-4e88e813b96d"
      },
      "source": [
        "## Importing the Dataset"
      ]
    },
    {
      "cell_type": "code",
      "execution_count": 5,
      "id": "95d47113-cba9-49e0-8240-afacc0e46774",
      "metadata": {
        "id": "95d47113-cba9-49e0-8240-afacc0e46774"
      },
      "outputs": [],
      "source": [
        "dataset = pd.read_csv('code here')"
      ]
    },
    {
      "cell_type": "markdown",
      "id": "485b15b0-a80c-4f4b-9a3c-a90b7b54eb56",
      "metadata": {
        "id": "485b15b0-a80c-4f4b-9a3c-a90b7b54eb56"
      },
      "source": [
        "## Showing the Dataset in a Table"
      ]
    },
    {
      "cell_type": "code",
      "execution_count": null,
      "id": "3e1988e3-1997-476e-8e95-18e45e222715",
      "metadata": {
        "id": "3e1988e3-1997-476e-8e95-18e45e222715"
      },
      "outputs": [],
      "source": [
        "\"code here\""
      ]
    },
    {
      "cell_type": "markdown",
      "id": "057741e5-5c38-4bde-ba63-b5a25831ad0f",
      "metadata": {
        "id": "057741e5-5c38-4bde-ba63-b5a25831ad0f"
      },
      "source": [
        "## A Quick Review of the Data"
      ]
    },
    {
      "cell_type": "code",
      "execution_count": null,
      "id": "3a68688c-a2e0-4fd9-83cb-6d891981ab75",
      "metadata": {
        "id": "3a68688c-a2e0-4fd9-83cb-6d891981ab75"
      },
      "outputs": [],
      "source": [
        "\"code here\""
      ]
    },
    {
      "cell_type": "markdown",
      "id": "1ca8655e-b265-43b8-a39d-9fe23a31d1c6",
      "metadata": {
        "id": "1ca8655e-b265-43b8-a39d-9fe23a31d1c6"
      },
      "source": [
        "## Encoding Categorical Data"
      ]
    },
    {
      "cell_type": "markdown",
      "id": "c17a56f1-51c6-48c7-af34-e54f0fb96194",
      "metadata": {
        "id": "c17a56f1-51c6-48c7-af34-e54f0fb96194"
      },
      "source": [
        "### Encoding the Input Data"
      ]
    },
    {
      "cell_type": "markdown",
      "source": [
        "**For the gender column**"
      ],
      "metadata": {
        "id": "iiSEvHBVL74R"
      },
      "id": "iiSEvHBVL74R"
    },
    {
      "cell_type": "code",
      "source": [
        "\"code here\""
      ],
      "metadata": {
        "id": "dg8zaUWgOh7-"
      },
      "id": "dg8zaUWgOh7-",
      "execution_count": null,
      "outputs": []
    },
    {
      "cell_type": "markdown",
      "source": [
        "For the 'embarked' column"
      ],
      "metadata": {
        "id": "-6L9uB4qMAAC"
      },
      "id": "-6L9uB4qMAAC"
    },
    {
      "cell_type": "code",
      "source": [
        "\"code here\""
      ],
      "metadata": {
        "id": "2So1zEfQOkXl"
      },
      "id": "2So1zEfQOkXl",
      "execution_count": null,
      "outputs": []
    },
    {
      "cell_type": "markdown",
      "id": "409fc8a0-205f-4cc0-af4e-95bf0b8230ba",
      "metadata": {
        "id": "409fc8a0-205f-4cc0-af4e-95bf0b8230ba"
      },
      "source": [
        "### Encoding the Output Data (Labels)"
      ]
    },
    {
      "cell_type": "code",
      "source": [
        "from sklearn.preprocessing import LabelEncoder\n",
        "\n",
        "\"code here\""
      ],
      "metadata": {
        "id": "79e1MF69D07i"
      },
      "id": "79e1MF69D07i",
      "execution_count": 18,
      "outputs": []
    },
    {
      "cell_type": "markdown",
      "id": "a8ed9f0e-cfb9-4b9c-ab58-fbd28c313198",
      "metadata": {
        "id": "a8ed9f0e-cfb9-4b9c-ab58-fbd28c313198"
      },
      "source": [
        "## Dropping Irrelevant Input Data "
      ]
    },
    {
      "cell_type": "code",
      "source": [
        "\"code here\""
      ],
      "metadata": {
        "id": "n2lz60YCD3M8"
      },
      "id": "n2lz60YCD3M8",
      "execution_count": 22,
      "outputs": []
    },
    {
      "cell_type": "markdown",
      "id": "8227d4a3-7ce9-4acb-bd66-12b42ea53280",
      "metadata": {
        "id": "8227d4a3-7ce9-4acb-bd66-12b42ea53280"
      },
      "source": [
        "## Checking the Preprocessed Dataset"
      ]
    },
    {
      "cell_type": "code",
      "source": [
        "\"code here\""
      ],
      "metadata": {
        "colab": {
          "base_uri": "https://localhost:8080/",
          "height": 206
        },
        "id": "30YKyLvfD5fu",
        "outputId": "fd33e64c-1f73-4dc8-8130-3f6d9f1a716b"
      },
      "id": "30YKyLvfD5fu",
      "execution_count": 24,
      "outputs": [
        {
          "output_type": "execute_result",
          "data": {
            "text/plain": [
              "   Pclass  Sex   Age  Number of Siblings/Spouses Aboard  \\\n",
              "0       3  0.0  22.0                                  1   \n",
              "1       1  1.0  38.0                                  1   \n",
              "2       3  1.0  26.0                                  0   \n",
              "3       1  1.0  35.0                                  1   \n",
              "4       3  0.0  35.0                                  0   \n",
              "\n",
              "   Number of Parents/Children Aboard     Fare  Embarked  Survived  \n",
              "0                                  0   7.2500       0.0         0  \n",
              "1                                  0  71.2833       1.0         1  \n",
              "2                                  0   7.9250       0.0         1  \n",
              "3                                  0  53.1000       0.0         1  \n",
              "4                                  0   8.0500       0.0         0  "
            ],
            "text/html": [
              "\n",
              "  <div id=\"df-043d7c9b-6356-4a54-ad4a-b76ac9cf2e56\">\n",
              "    <div class=\"colab-df-container\">\n",
              "      <div>\n",
              "<style scoped>\n",
              "    .dataframe tbody tr th:only-of-type {\n",
              "        vertical-align: middle;\n",
              "    }\n",
              "\n",
              "    .dataframe tbody tr th {\n",
              "        vertical-align: top;\n",
              "    }\n",
              "\n",
              "    .dataframe thead th {\n",
              "        text-align: right;\n",
              "    }\n",
              "</style>\n",
              "<table border=\"1\" class=\"dataframe\">\n",
              "  <thead>\n",
              "    <tr style=\"text-align: right;\">\n",
              "      <th></th>\n",
              "      <th>Pclass</th>\n",
              "      <th>Sex</th>\n",
              "      <th>Age</th>\n",
              "      <th>Number of Siblings/Spouses Aboard</th>\n",
              "      <th>Number of Parents/Children Aboard</th>\n",
              "      <th>Fare</th>\n",
              "      <th>Embarked</th>\n",
              "      <th>Survived</th>\n",
              "    </tr>\n",
              "  </thead>\n",
              "  <tbody>\n",
              "    <tr>\n",
              "      <th>0</th>\n",
              "      <td>3</td>\n",
              "      <td>0.0</td>\n",
              "      <td>22.0</td>\n",
              "      <td>1</td>\n",
              "      <td>0</td>\n",
              "      <td>7.2500</td>\n",
              "      <td>0.0</td>\n",
              "      <td>0</td>\n",
              "    </tr>\n",
              "    <tr>\n",
              "      <th>1</th>\n",
              "      <td>1</td>\n",
              "      <td>1.0</td>\n",
              "      <td>38.0</td>\n",
              "      <td>1</td>\n",
              "      <td>0</td>\n",
              "      <td>71.2833</td>\n",
              "      <td>1.0</td>\n",
              "      <td>1</td>\n",
              "    </tr>\n",
              "    <tr>\n",
              "      <th>2</th>\n",
              "      <td>3</td>\n",
              "      <td>1.0</td>\n",
              "      <td>26.0</td>\n",
              "      <td>0</td>\n",
              "      <td>0</td>\n",
              "      <td>7.9250</td>\n",
              "      <td>0.0</td>\n",
              "      <td>1</td>\n",
              "    </tr>\n",
              "    <tr>\n",
              "      <th>3</th>\n",
              "      <td>1</td>\n",
              "      <td>1.0</td>\n",
              "      <td>35.0</td>\n",
              "      <td>1</td>\n",
              "      <td>0</td>\n",
              "      <td>53.1000</td>\n",
              "      <td>0.0</td>\n",
              "      <td>1</td>\n",
              "    </tr>\n",
              "    <tr>\n",
              "      <th>4</th>\n",
              "      <td>3</td>\n",
              "      <td>0.0</td>\n",
              "      <td>35.0</td>\n",
              "      <td>0</td>\n",
              "      <td>0</td>\n",
              "      <td>8.0500</td>\n",
              "      <td>0.0</td>\n",
              "      <td>0</td>\n",
              "    </tr>\n",
              "  </tbody>\n",
              "</table>\n",
              "</div>\n",
              "      <button class=\"colab-df-convert\" onclick=\"convertToInteractive('df-043d7c9b-6356-4a54-ad4a-b76ac9cf2e56')\"\n",
              "              title=\"Convert this dataframe to an interactive table.\"\n",
              "              style=\"display:none;\">\n",
              "        \n",
              "  <svg xmlns=\"http://www.w3.org/2000/svg\" height=\"24px\"viewBox=\"0 0 24 24\"\n",
              "       width=\"24px\">\n",
              "    <path d=\"M0 0h24v24H0V0z\" fill=\"none\"/>\n",
              "    <path d=\"M18.56 5.44l.94 2.06.94-2.06 2.06-.94-2.06-.94-.94-2.06-.94 2.06-2.06.94zm-11 1L8.5 8.5l.94-2.06 2.06-.94-2.06-.94L8.5 2.5l-.94 2.06-2.06.94zm10 10l.94 2.06.94-2.06 2.06-.94-2.06-.94-.94-2.06-.94 2.06-2.06.94z\"/><path d=\"M17.41 7.96l-1.37-1.37c-.4-.4-.92-.59-1.43-.59-.52 0-1.04.2-1.43.59L10.3 9.45l-7.72 7.72c-.78.78-.78 2.05 0 2.83L4 21.41c.39.39.9.59 1.41.59.51 0 1.02-.2 1.41-.59l7.78-7.78 2.81-2.81c.8-.78.8-2.07 0-2.86zM5.41 20L4 18.59l7.72-7.72 1.47 1.35L5.41 20z\"/>\n",
              "  </svg>\n",
              "      </button>\n",
              "      \n",
              "  <style>\n",
              "    .colab-df-container {\n",
              "      display:flex;\n",
              "      flex-wrap:wrap;\n",
              "      gap: 12px;\n",
              "    }\n",
              "\n",
              "    .colab-df-convert {\n",
              "      background-color: #E8F0FE;\n",
              "      border: none;\n",
              "      border-radius: 50%;\n",
              "      cursor: pointer;\n",
              "      display: none;\n",
              "      fill: #1967D2;\n",
              "      height: 32px;\n",
              "      padding: 0 0 0 0;\n",
              "      width: 32px;\n",
              "    }\n",
              "\n",
              "    .colab-df-convert:hover {\n",
              "      background-color: #E2EBFA;\n",
              "      box-shadow: 0px 1px 2px rgba(60, 64, 67, 0.3), 0px 1px 3px 1px rgba(60, 64, 67, 0.15);\n",
              "      fill: #174EA6;\n",
              "    }\n",
              "\n",
              "    [theme=dark] .colab-df-convert {\n",
              "      background-color: #3B4455;\n",
              "      fill: #D2E3FC;\n",
              "    }\n",
              "\n",
              "    [theme=dark] .colab-df-convert:hover {\n",
              "      background-color: #434B5C;\n",
              "      box-shadow: 0px 1px 3px 1px rgba(0, 0, 0, 0.15);\n",
              "      filter: drop-shadow(0px 1px 2px rgba(0, 0, 0, 0.3));\n",
              "      fill: #FFFFFF;\n",
              "    }\n",
              "  </style>\n",
              "\n",
              "      <script>\n",
              "        const buttonEl =\n",
              "          document.querySelector('#df-043d7c9b-6356-4a54-ad4a-b76ac9cf2e56 button.colab-df-convert');\n",
              "        buttonEl.style.display =\n",
              "          google.colab.kernel.accessAllowed ? 'block' : 'none';\n",
              "\n",
              "        async function convertToInteractive(key) {\n",
              "          const element = document.querySelector('#df-043d7c9b-6356-4a54-ad4a-b76ac9cf2e56');\n",
              "          const dataTable =\n",
              "            await google.colab.kernel.invokeFunction('convertToInteractive',\n",
              "                                                     [key], {});\n",
              "          if (!dataTable) return;\n",
              "\n",
              "          const docLinkHtml = 'Like what you see? Visit the ' +\n",
              "            '<a target=\"_blank\" href=https://colab.research.google.com/notebooks/data_table.ipynb>data table notebook</a>'\n",
              "            + ' to learn more about interactive tables.';\n",
              "          element.innerHTML = '';\n",
              "          dataTable['output_type'] = 'display_data';\n",
              "          await google.colab.output.renderOutput(dataTable, element);\n",
              "          const docLink = document.createElement('div');\n",
              "          docLink.innerHTML = docLinkHtml;\n",
              "          element.appendChild(docLink);\n",
              "        }\n",
              "      </script>\n",
              "    </div>\n",
              "  </div>\n",
              "  "
            ]
          },
          "metadata": {},
          "execution_count": 24
        }
      ]
    },
    {
      "cell_type": "markdown",
      "source": [
        "## Seperate the input and output"
      ],
      "metadata": {
        "id": "bqDJ2nsbOCrZ"
      },
      "id": "bqDJ2nsbOCrZ"
    },
    {
      "cell_type": "code",
      "source": [
        "\"code here\""
      ],
      "metadata": {
        "id": "u8HpDM2ED6-X"
      },
      "id": "u8HpDM2ED6-X",
      "execution_count": 25,
      "outputs": []
    },
    {
      "cell_type": "markdown",
      "id": "43a4add3-522d-4854-8f50-919175b3cbe6",
      "metadata": {
        "id": "43a4add3-522d-4854-8f50-919175b3cbe6"
      },
      "source": [
        "## Showing the Input Data in a Table Format"
      ]
    },
    {
      "cell_type": "code",
      "source": [
        "\"code here\""
      ],
      "metadata": {
        "id": "QjZPFE8YD9uT"
      },
      "id": "QjZPFE8YD9uT",
      "execution_count": null,
      "outputs": []
    },
    {
      "cell_type": "markdown",
      "id": "29b469a6-89a5-4e9c-a0ba-5642bb1db9dc",
      "metadata": {
        "id": "29b469a6-89a5-4e9c-a0ba-5642bb1db9dc"
      },
      "source": [
        "## A Quick Check of the Output Data"
      ]
    },
    {
      "cell_type": "code",
      "source": [
        "\"code here\""
      ],
      "metadata": {
        "colab": {
          "base_uri": "https://localhost:8080/",
          "height": 206
        },
        "id": "t-16kWppD_iI",
        "outputId": "82afba53-4613-4365-ffc8-4935297afa2a"
      },
      "id": "t-16kWppD_iI",
      "execution_count": 27,
      "outputs": [
        {
          "output_type": "execute_result",
          "data": {
            "text/plain": [
              "   Survived\n",
              "0         0\n",
              "1         1\n",
              "2         1\n",
              "3         1\n",
              "4         0"
            ],
            "text/html": [
              "\n",
              "  <div id=\"df-49a4df77-fee1-4af9-816a-0758b240b2f7\">\n",
              "    <div class=\"colab-df-container\">\n",
              "      <div>\n",
              "<style scoped>\n",
              "    .dataframe tbody tr th:only-of-type {\n",
              "        vertical-align: middle;\n",
              "    }\n",
              "\n",
              "    .dataframe tbody tr th {\n",
              "        vertical-align: top;\n",
              "    }\n",
              "\n",
              "    .dataframe thead th {\n",
              "        text-align: right;\n",
              "    }\n",
              "</style>\n",
              "<table border=\"1\" class=\"dataframe\">\n",
              "  <thead>\n",
              "    <tr style=\"text-align: right;\">\n",
              "      <th></th>\n",
              "      <th>Survived</th>\n",
              "    </tr>\n",
              "  </thead>\n",
              "  <tbody>\n",
              "    <tr>\n",
              "      <th>0</th>\n",
              "      <td>0</td>\n",
              "    </tr>\n",
              "    <tr>\n",
              "      <th>1</th>\n",
              "      <td>1</td>\n",
              "    </tr>\n",
              "    <tr>\n",
              "      <th>2</th>\n",
              "      <td>1</td>\n",
              "    </tr>\n",
              "    <tr>\n",
              "      <th>3</th>\n",
              "      <td>1</td>\n",
              "    </tr>\n",
              "    <tr>\n",
              "      <th>4</th>\n",
              "      <td>0</td>\n",
              "    </tr>\n",
              "  </tbody>\n",
              "</table>\n",
              "</div>\n",
              "      <button class=\"colab-df-convert\" onclick=\"convertToInteractive('df-49a4df77-fee1-4af9-816a-0758b240b2f7')\"\n",
              "              title=\"Convert this dataframe to an interactive table.\"\n",
              "              style=\"display:none;\">\n",
              "        \n",
              "  <svg xmlns=\"http://www.w3.org/2000/svg\" height=\"24px\"viewBox=\"0 0 24 24\"\n",
              "       width=\"24px\">\n",
              "    <path d=\"M0 0h24v24H0V0z\" fill=\"none\"/>\n",
              "    <path d=\"M18.56 5.44l.94 2.06.94-2.06 2.06-.94-2.06-.94-.94-2.06-.94 2.06-2.06.94zm-11 1L8.5 8.5l.94-2.06 2.06-.94-2.06-.94L8.5 2.5l-.94 2.06-2.06.94zm10 10l.94 2.06.94-2.06 2.06-.94-2.06-.94-.94-2.06-.94 2.06-2.06.94z\"/><path d=\"M17.41 7.96l-1.37-1.37c-.4-.4-.92-.59-1.43-.59-.52 0-1.04.2-1.43.59L10.3 9.45l-7.72 7.72c-.78.78-.78 2.05 0 2.83L4 21.41c.39.39.9.59 1.41.59.51 0 1.02-.2 1.41-.59l7.78-7.78 2.81-2.81c.8-.78.8-2.07 0-2.86zM5.41 20L4 18.59l7.72-7.72 1.47 1.35L5.41 20z\"/>\n",
              "  </svg>\n",
              "      </button>\n",
              "      \n",
              "  <style>\n",
              "    .colab-df-container {\n",
              "      display:flex;\n",
              "      flex-wrap:wrap;\n",
              "      gap: 12px;\n",
              "    }\n",
              "\n",
              "    .colab-df-convert {\n",
              "      background-color: #E8F0FE;\n",
              "      border: none;\n",
              "      border-radius: 50%;\n",
              "      cursor: pointer;\n",
              "      display: none;\n",
              "      fill: #1967D2;\n",
              "      height: 32px;\n",
              "      padding: 0 0 0 0;\n",
              "      width: 32px;\n",
              "    }\n",
              "\n",
              "    .colab-df-convert:hover {\n",
              "      background-color: #E2EBFA;\n",
              "      box-shadow: 0px 1px 2px rgba(60, 64, 67, 0.3), 0px 1px 3px 1px rgba(60, 64, 67, 0.15);\n",
              "      fill: #174EA6;\n",
              "    }\n",
              "\n",
              "    [theme=dark] .colab-df-convert {\n",
              "      background-color: #3B4455;\n",
              "      fill: #D2E3FC;\n",
              "    }\n",
              "\n",
              "    [theme=dark] .colab-df-convert:hover {\n",
              "      background-color: #434B5C;\n",
              "      box-shadow: 0px 1px 3px 1px rgba(0, 0, 0, 0.15);\n",
              "      filter: drop-shadow(0px 1px 2px rgba(0, 0, 0, 0.3));\n",
              "      fill: #FFFFFF;\n",
              "    }\n",
              "  </style>\n",
              "\n",
              "      <script>\n",
              "        const buttonEl =\n",
              "          document.querySelector('#df-49a4df77-fee1-4af9-816a-0758b240b2f7 button.colab-df-convert');\n",
              "        buttonEl.style.display =\n",
              "          google.colab.kernel.accessAllowed ? 'block' : 'none';\n",
              "\n",
              "        async function convertToInteractive(key) {\n",
              "          const element = document.querySelector('#df-49a4df77-fee1-4af9-816a-0758b240b2f7');\n",
              "          const dataTable =\n",
              "            await google.colab.kernel.invokeFunction('convertToInteractive',\n",
              "                                                     [key], {});\n",
              "          if (!dataTable) return;\n",
              "\n",
              "          const docLinkHtml = 'Like what you see? Visit the ' +\n",
              "            '<a target=\"_blank\" href=https://colab.research.google.com/notebooks/data_table.ipynb>data table notebook</a>'\n",
              "            + ' to learn more about interactive tables.';\n",
              "          element.innerHTML = '';\n",
              "          dataTable['output_type'] = 'display_data';\n",
              "          await google.colab.output.renderOutput(dataTable, element);\n",
              "          const docLink = document.createElement('div');\n",
              "          docLink.innerHTML = docLinkHtml;\n",
              "          element.appendChild(docLink);\n",
              "        }\n",
              "      </script>\n",
              "    </div>\n",
              "  </div>\n",
              "  "
            ]
          },
          "metadata": {},
          "execution_count": 27
        }
      ]
    },
    {
      "cell_type": "markdown",
      "id": "e71613ba-1be3-46f5-9d35-ec8bb569e8ed",
      "metadata": {
        "id": "e71613ba-1be3-46f5-9d35-ec8bb569e8ed"
      },
      "source": [
        "## Taking Care of Missing Data Inputs"
      ]
    },
    {
      "cell_type": "code",
      "source": [
        "from sklearn.impute import SimpleImputer\n",
        "\"code here\""
      ],
      "metadata": {
        "id": "JR8mdGQZEAhd"
      },
      "id": "JR8mdGQZEAhd",
      "execution_count": 28,
      "outputs": []
    },
    {
      "cell_type": "markdown",
      "id": "5a3158a8-d49a-44b9-bd32-0c5dbf55b680",
      "metadata": {
        "id": "5a3158a8-d49a-44b9-bd32-0c5dbf55b680"
      },
      "source": [
        "## Splitting the Dataset into the Training Set and Test Set"
      ]
    },
    {
      "cell_type": "code",
      "source": [
        "from sklearn.model_selection import train_test_split\n",
        "\"code here\""
      ],
      "metadata": {
        "id": "hPtdZ9OcEErL"
      },
      "id": "hPtdZ9OcEErL",
      "execution_count": 29,
      "outputs": []
    },
    {
      "cell_type": "markdown",
      "id": "7732945b-2f59-4d5b-9da3-25ab66fd8d75",
      "metadata": {
        "id": "7732945b-2f59-4d5b-9da3-25ab66fd8d75"
      },
      "source": [
        "## Scaling the Features"
      ]
    },
    {
      "cell_type": "code",
      "execution_count": 30,
      "id": "d9b662ae-42ab-4c1d-bcf7-2d77ddeb5da9",
      "metadata": {
        "id": "d9b662ae-42ab-4c1d-bcf7-2d77ddeb5da9"
      },
      "outputs": [],
      "source": [
        "# Scale the age and fare\n",
        "from sklearn.preprocessing import StandardScaler\n",
        "\"code here\""
      ]
    },
    {
      "cell_type": "markdown",
      "id": "50ad566d-d2a5-46b3-9fc5-ee9ee974ba6e",
      "metadata": {
        "id": "50ad566d-d2a5-46b3-9fc5-ee9ee974ba6e"
      },
      "source": [
        "## Training and Testing Predictive Models"
      ]
    },
    {
      "cell_type": "code",
      "source": [
        "from sklearn.metrics import accuracy_score"
      ],
      "metadata": {
        "id": "b5odbzykOARq"
      },
      "id": "b5odbzykOARq",
      "execution_count": null,
      "outputs": []
    },
    {
      "cell_type": "code",
      "source": [
        "# Support vector machine\n",
        "from sklearn.svm import SVC\n",
        "sv_classfier = SVC(kernel = 'rbf')\n",
        "sv_classfier.fit(X_train, y_train)\n",
        "Y_pred = sv_classfier.predict(X_test)\n",
        "print(accuracy_score(y_test, Y_pred))"
      ],
      "metadata": {
        "colab": {
          "base_uri": "https://localhost:8080/"
        },
        "id": "EC-qnNujSK77",
        "outputId": "19a5dc3e-f381-41f5-fa65-90a6c4da30dc"
      },
      "id": "EC-qnNujSK77",
      "execution_count": 37,
      "outputs": [
        {
          "output_type": "stream",
          "name": "stdout",
          "text": [
            "0.6536312849162011\n"
          ]
        }
      ]
    },
    {
      "cell_type": "code",
      "source": [
        "from sklearn.linear_model import LogisticRegression\n",
        "# Linear regression\n",
        "lr = LogisticRegression()\n",
        "lr.fit(X_train, y_train)\n",
        "Y_pred = lr.predict(X_test)\n",
        "print(accuracy_score(y_test, Y_pred))"
      ],
      "metadata": {
        "id": "740DRpBuSLEx",
        "colab": {
          "base_uri": "https://localhost:8080/"
        },
        "outputId": "1750807e-05ce-4476-dd76-348baa2c57ea"
      },
      "id": "740DRpBuSLEx",
      "execution_count": 38,
      "outputs": [
        {
          "output_type": "stream",
          "name": "stdout",
          "text": [
            "0.7988826815642458\n"
          ]
        }
      ]
    }
  ],
  "metadata": {
    "kernelspec": {
      "display_name": "Python 3 (ipykernel)",
      "language": "python",
      "name": "python3"
    },
    "language_info": {
      "codemirror_mode": {
        "name": "ipython",
        "version": 3
      },
      "file_extension": ".py",
      "mimetype": "text/x-python",
      "name": "python",
      "nbconvert_exporter": "python",
      "pygments_lexer": "ipython3",
      "version": "3.9.12"
    },
    "colab": {
      "provenance": []
    }
  },
  "nbformat": 4,
  "nbformat_minor": 5
}
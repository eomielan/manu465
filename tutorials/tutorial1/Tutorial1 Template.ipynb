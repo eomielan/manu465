{
 "cells": [
  {
   "cell_type": "markdown",
   "id": "d3605422-b34f-4199-aa01-c6d7ba080622",
   "metadata": {},
   "source": [
    "# Tutorial 1 The Titanic Disaster\n",
    "\n",
    "## Project Summary\n",
    "Predict which passengers survived the Titanic shipwreck."
   ]
  },
  {
   "cell_type": "markdown",
   "id": "681cf9ed-3af2-426e-a4c0-f700e7a9e729",
   "metadata": {},
   "source": [
    "## Importing Some Basic Libraries"
   ]
  },
  {
   "cell_type": "code",
   "execution_count": 2,
   "id": "50435b6a-111b-495e-9af9-ca2aa0c43bb3",
   "metadata": {},
   "outputs": [],
   "source": [
    "import numpy as np\n",
    "import pandas as pd\n",
    "from matplotlib import pyplot as plt"
   ]
  },
  {
   "cell_type": "markdown",
   "id": "d65cf566-b637-4a74-893a-4e88e813b96d",
   "metadata": {},
   "source": [
    "## Importing the Dataset"
   ]
  },
  {
   "cell_type": "code",
   "execution_count": 3,
   "id": "95d47113-cba9-49e0-8240-afacc0e46774",
   "metadata": {},
   "outputs": [],
   "source": [
    "dataset = pd.read_csv('./Titanic_Data.csv')"
   ]
  },
  {
   "cell_type": "markdown",
   "id": "485b15b0-a80c-4f4b-9a3c-a90b7b54eb56",
   "metadata": {},
   "source": [
    "## Showing the Dataset in a Table"
   ]
  },
  {
   "cell_type": "code",
   "execution_count": 4,
   "id": "3e1988e3-1997-476e-8e95-18e45e222715",
   "metadata": {},
   "outputs": [
    {
     "data": {
      "text/html": [
       "<div>\n",
       "<style scoped>\n",
       "    .dataframe tbody tr th:only-of-type {\n",
       "        vertical-align: middle;\n",
       "    }\n",
       "\n",
       "    .dataframe tbody tr th {\n",
       "        vertical-align: top;\n",
       "    }\n",
       "\n",
       "    .dataframe thead th {\n",
       "        text-align: right;\n",
       "    }\n",
       "</style>\n",
       "<table border=\"1\" class=\"dataframe\">\n",
       "  <thead>\n",
       "    <tr style=\"text-align: right;\">\n",
       "      <th></th>\n",
       "      <th>PassengerId</th>\n",
       "      <th>Pclass</th>\n",
       "      <th>Name</th>\n",
       "      <th>Sex</th>\n",
       "      <th>Age</th>\n",
       "      <th>Number of Siblings/Spouses Aboard</th>\n",
       "      <th>Number of Parents/Children Aboard</th>\n",
       "      <th>Fare</th>\n",
       "      <th>Embarked</th>\n",
       "      <th>Survived</th>\n",
       "    </tr>\n",
       "  </thead>\n",
       "  <tbody>\n",
       "    <tr>\n",
       "      <th>0</th>\n",
       "      <td>1</td>\n",
       "      <td>3</td>\n",
       "      <td>Braund, Mr. Owen Harris</td>\n",
       "      <td>male</td>\n",
       "      <td>22.0</td>\n",
       "      <td>1</td>\n",
       "      <td>0</td>\n",
       "      <td>7.2500</td>\n",
       "      <td>S</td>\n",
       "      <td>No</td>\n",
       "    </tr>\n",
       "    <tr>\n",
       "      <th>1</th>\n",
       "      <td>2</td>\n",
       "      <td>1</td>\n",
       "      <td>Cumings, Mrs. John Bradley (Florence Briggs Th...</td>\n",
       "      <td>female</td>\n",
       "      <td>38.0</td>\n",
       "      <td>1</td>\n",
       "      <td>0</td>\n",
       "      <td>71.2833</td>\n",
       "      <td>C</td>\n",
       "      <td>Yes</td>\n",
       "    </tr>\n",
       "    <tr>\n",
       "      <th>2</th>\n",
       "      <td>3</td>\n",
       "      <td>3</td>\n",
       "      <td>Heikkinen, Miss. Laina</td>\n",
       "      <td>female</td>\n",
       "      <td>26.0</td>\n",
       "      <td>0</td>\n",
       "      <td>0</td>\n",
       "      <td>7.9250</td>\n",
       "      <td>S</td>\n",
       "      <td>Yes</td>\n",
       "    </tr>\n",
       "    <tr>\n",
       "      <th>3</th>\n",
       "      <td>4</td>\n",
       "      <td>1</td>\n",
       "      <td>Futrelle, Mrs. Jacques Heath (Lily May Peel)</td>\n",
       "      <td>female</td>\n",
       "      <td>35.0</td>\n",
       "      <td>1</td>\n",
       "      <td>0</td>\n",
       "      <td>53.1000</td>\n",
       "      <td>S</td>\n",
       "      <td>Yes</td>\n",
       "    </tr>\n",
       "    <tr>\n",
       "      <th>4</th>\n",
       "      <td>5</td>\n",
       "      <td>3</td>\n",
       "      <td>Allen, Mr. William Henry</td>\n",
       "      <td>male</td>\n",
       "      <td>35.0</td>\n",
       "      <td>0</td>\n",
       "      <td>0</td>\n",
       "      <td>8.0500</td>\n",
       "      <td>S</td>\n",
       "      <td>No</td>\n",
       "    </tr>\n",
       "    <tr>\n",
       "      <th>5</th>\n",
       "      <td>6</td>\n",
       "      <td>3</td>\n",
       "      <td>Moran, Mr. James</td>\n",
       "      <td>male</td>\n",
       "      <td>NaN</td>\n",
       "      <td>0</td>\n",
       "      <td>0</td>\n",
       "      <td>8.4583</td>\n",
       "      <td>Q</td>\n",
       "      <td>No</td>\n",
       "    </tr>\n",
       "    <tr>\n",
       "      <th>6</th>\n",
       "      <td>7</td>\n",
       "      <td>1</td>\n",
       "      <td>McCarthy, Mr. Timothy J</td>\n",
       "      <td>male</td>\n",
       "      <td>54.0</td>\n",
       "      <td>0</td>\n",
       "      <td>0</td>\n",
       "      <td>51.8625</td>\n",
       "      <td>S</td>\n",
       "      <td>No</td>\n",
       "    </tr>\n",
       "    <tr>\n",
       "      <th>7</th>\n",
       "      <td>8</td>\n",
       "      <td>3</td>\n",
       "      <td>Palsson, Master. Gosta Leonard</td>\n",
       "      <td>male</td>\n",
       "      <td>2.0</td>\n",
       "      <td>3</td>\n",
       "      <td>1</td>\n",
       "      <td>21.0750</td>\n",
       "      <td>S</td>\n",
       "      <td>No</td>\n",
       "    </tr>\n",
       "  </tbody>\n",
       "</table>\n",
       "</div>"
      ],
      "text/plain": [
       "   PassengerId  Pclass                                               Name  \\\n",
       "0            1       3                            Braund, Mr. Owen Harris   \n",
       "1            2       1  Cumings, Mrs. John Bradley (Florence Briggs Th...   \n",
       "2            3       3                             Heikkinen, Miss. Laina   \n",
       "3            4       1       Futrelle, Mrs. Jacques Heath (Lily May Peel)   \n",
       "4            5       3                           Allen, Mr. William Henry   \n",
       "5            6       3                                   Moran, Mr. James   \n",
       "6            7       1                            McCarthy, Mr. Timothy J   \n",
       "7            8       3                     Palsson, Master. Gosta Leonard   \n",
       "\n",
       "      Sex   Age  Number of Siblings/Spouses Aboard  \\\n",
       "0    male  22.0                                  1   \n",
       "1  female  38.0                                  1   \n",
       "2  female  26.0                                  0   \n",
       "3  female  35.0                                  1   \n",
       "4    male  35.0                                  0   \n",
       "5    male   NaN                                  0   \n",
       "6    male  54.0                                  0   \n",
       "7    male   2.0                                  3   \n",
       "\n",
       "   Number of Parents/Children Aboard     Fare Embarked Survived  \n",
       "0                                  0   7.2500        S       No  \n",
       "1                                  0  71.2833        C      Yes  \n",
       "2                                  0   7.9250        S      Yes  \n",
       "3                                  0  53.1000        S      Yes  \n",
       "4                                  0   8.0500        S       No  \n",
       "5                                  0   8.4583        Q       No  \n",
       "6                                  0  51.8625        S       No  \n",
       "7                                  1  21.0750        S       No  "
      ]
     },
     "execution_count": 4,
     "metadata": {},
     "output_type": "execute_result"
    }
   ],
   "source": [
    "dataset.head(8)  # first 8 rows"
   ]
  },
  {
   "cell_type": "markdown",
   "id": "057741e5-5c38-4bde-ba63-b5a25831ad0f",
   "metadata": {},
   "source": [
    "## A Quick Review of the Data"
   ]
  },
  {
   "cell_type": "code",
   "execution_count": 5,
   "id": "3a68688c-a2e0-4fd9-83cb-6d891981ab75",
   "metadata": {},
   "outputs": [
    {
     "name": "stdout",
     "output_type": "stream",
     "text": [
      "<class 'pandas.core.frame.DataFrame'>\n",
      "RangeIndex: 891 entries, 0 to 890\n",
      "Data columns (total 10 columns):\n",
      " #   Column                             Non-Null Count  Dtype  \n",
      "---  ------                             --------------  -----  \n",
      " 0   PassengerId                        891 non-null    int64  \n",
      " 1   Pclass                             891 non-null    int64  \n",
      " 2   Name                               891 non-null    object \n",
      " 3   Sex                                891 non-null    object \n",
      " 4   Age                                714 non-null    float64\n",
      " 5   Number of Siblings/Spouses Aboard  891 non-null    int64  \n",
      " 6   Number of Parents/Children Aboard  891 non-null    int64  \n",
      " 7   Fare                               891 non-null    float64\n",
      " 8   Embarked                           889 non-null    object \n",
      " 9   Survived                           891 non-null    object \n",
      "dtypes: float64(2), int64(4), object(4)\n",
      "memory usage: 69.7+ KB\n"
     ]
    }
   ],
   "source": [
    "dataset.info()"
   ]
  },
  {
   "cell_type": "markdown",
   "id": "1ca8655e-b265-43b8-a39d-9fe23a31d1c6",
   "metadata": {},
   "source": [
    "## Encoding Categorical Data"
   ]
  },
  {
   "cell_type": "markdown",
   "id": "c17a56f1-51c6-48c7-af34-e54f0fb96194",
   "metadata": {},
   "source": [
    "### Encoding the Input Data"
   ]
  },
  {
   "cell_type": "code",
   "execution_count": 6,
   "id": "16ec6696",
   "metadata": {},
   "outputs": [],
   "source": [
    "gender = {'male':0.0, 'female':1.0}"
   ]
  },
  {
   "cell_type": "code",
   "execution_count": 7,
   "id": "7d93fdae",
   "metadata": {},
   "outputs": [],
   "source": [
    "dataset['Sex'] = dataset['Sex'].map(gender)"
   ]
  },
  {
   "cell_type": "code",
   "execution_count": 8,
   "id": "12ee05c4",
   "metadata": {},
   "outputs": [
    {
     "data": {
      "text/plain": [
       "0    0.0\n",
       "1    1.0\n",
       "2    1.0\n",
       "3    1.0\n",
       "4    0.0\n",
       "Name: Sex, dtype: float64"
      ]
     },
     "execution_count": 8,
     "metadata": {},
     "output_type": "execute_result"
    }
   ],
   "source": [
    "dataset['Sex'].head()"
   ]
  },
  {
   "cell_type": "code",
   "execution_count": 9,
   "id": "e9b26b0d",
   "metadata": {},
   "outputs": [
    {
     "name": "stdout",
     "output_type": "stream",
     "text": [
      "['S' 'C' 'Q' nan]\n"
     ]
    }
   ],
   "source": [
    "print(dataset['Embarked'].unique())"
   ]
  },
  {
   "cell_type": "code",
   "execution_count": 10,
   "id": "c026babd",
   "metadata": {},
   "outputs": [],
   "source": [
    "ports = {'S':0.0, 'C':1.0, 'Q':2.0}"
   ]
  },
  {
   "cell_type": "code",
   "execution_count": 11,
   "id": "e7823505",
   "metadata": {},
   "outputs": [],
   "source": [
    "dataset['Embarked'] = dataset['Embarked'].map(ports)"
   ]
  },
  {
   "cell_type": "code",
   "execution_count": 12,
   "id": "d591fcb3",
   "metadata": {},
   "outputs": [
    {
     "data": {
      "text/plain": [
       "0    0.0\n",
       "1    1.0\n",
       "2    0.0\n",
       "3    0.0\n",
       "4    0.0\n",
       "Name: Embarked, dtype: float64"
      ]
     },
     "execution_count": 12,
     "metadata": {},
     "output_type": "execute_result"
    }
   ],
   "source": [
    "dataset['Embarked'].head()"
   ]
  },
  {
   "cell_type": "markdown",
   "id": "409fc8a0-205f-4cc0-af4e-95bf0b8230ba",
   "metadata": {},
   "source": [
    "### Encoding the Output Data (Labels)"
   ]
  },
  {
   "cell_type": "code",
   "execution_count": 13,
   "id": "171eccd9-cd79-4ece-b27b-b091cc947bdb",
   "metadata": {},
   "outputs": [],
   "source": [
    "from sklearn.preprocessing import LabelEncoder\n",
    "\n",
    "le = LabelEncoder()\n",
    "dataset['Survived'] = le.fit_transform(dataset['Survived'])"
   ]
  },
  {
   "cell_type": "code",
   "execution_count": 14,
   "id": "62a8cae4",
   "metadata": {},
   "outputs": [
    {
     "data": {
      "text/plain": [
       "0    0\n",
       "1    1\n",
       "2    1\n",
       "3    1\n",
       "4    0\n",
       "Name: Survived, dtype: int64"
      ]
     },
     "execution_count": 14,
     "metadata": {},
     "output_type": "execute_result"
    }
   ],
   "source": [
    "dataset['Survived'].head()"
   ]
  },
  {
   "cell_type": "markdown",
   "id": "a8ed9f0e-cfb9-4b9c-ab58-fbd28c313198",
   "metadata": {},
   "source": [
    "## Dropping Irrelevant Input Data "
   ]
  },
  {
   "cell_type": "code",
   "execution_count": 15,
   "id": "4a903c48-dd32-4333-bd3d-127a790f639b",
   "metadata": {},
   "outputs": [],
   "source": [
    "dataset.drop(['PassengerId', 'Name'], axis=1, inplace=True)"
   ]
  },
  {
   "cell_type": "markdown",
   "id": "8227d4a3-7ce9-4acb-bd66-12b42ea53280",
   "metadata": {},
   "source": [
    "## Checking the Preprocessed Dataset"
   ]
  },
  {
   "cell_type": "code",
   "execution_count": 16,
   "id": "a836950c-44a7-4260-aa42-f8e5ec8173a5",
   "metadata": {},
   "outputs": [
    {
     "data": {
      "text/html": [
       "<div>\n",
       "<style scoped>\n",
       "    .dataframe tbody tr th:only-of-type {\n",
       "        vertical-align: middle;\n",
       "    }\n",
       "\n",
       "    .dataframe tbody tr th {\n",
       "        vertical-align: top;\n",
       "    }\n",
       "\n",
       "    .dataframe thead th {\n",
       "        text-align: right;\n",
       "    }\n",
       "</style>\n",
       "<table border=\"1\" class=\"dataframe\">\n",
       "  <thead>\n",
       "    <tr style=\"text-align: right;\">\n",
       "      <th></th>\n",
       "      <th>Pclass</th>\n",
       "      <th>Sex</th>\n",
       "      <th>Age</th>\n",
       "      <th>Number of Siblings/Spouses Aboard</th>\n",
       "      <th>Number of Parents/Children Aboard</th>\n",
       "      <th>Fare</th>\n",
       "      <th>Embarked</th>\n",
       "      <th>Survived</th>\n",
       "    </tr>\n",
       "  </thead>\n",
       "  <tbody>\n",
       "    <tr>\n",
       "      <th>0</th>\n",
       "      <td>3</td>\n",
       "      <td>0.0</td>\n",
       "      <td>22.0</td>\n",
       "      <td>1</td>\n",
       "      <td>0</td>\n",
       "      <td>7.2500</td>\n",
       "      <td>0.0</td>\n",
       "      <td>0</td>\n",
       "    </tr>\n",
       "    <tr>\n",
       "      <th>1</th>\n",
       "      <td>1</td>\n",
       "      <td>1.0</td>\n",
       "      <td>38.0</td>\n",
       "      <td>1</td>\n",
       "      <td>0</td>\n",
       "      <td>71.2833</td>\n",
       "      <td>1.0</td>\n",
       "      <td>1</td>\n",
       "    </tr>\n",
       "    <tr>\n",
       "      <th>2</th>\n",
       "      <td>3</td>\n",
       "      <td>1.0</td>\n",
       "      <td>26.0</td>\n",
       "      <td>0</td>\n",
       "      <td>0</td>\n",
       "      <td>7.9250</td>\n",
       "      <td>0.0</td>\n",
       "      <td>1</td>\n",
       "    </tr>\n",
       "    <tr>\n",
       "      <th>3</th>\n",
       "      <td>1</td>\n",
       "      <td>1.0</td>\n",
       "      <td>35.0</td>\n",
       "      <td>1</td>\n",
       "      <td>0</td>\n",
       "      <td>53.1000</td>\n",
       "      <td>0.0</td>\n",
       "      <td>1</td>\n",
       "    </tr>\n",
       "    <tr>\n",
       "      <th>4</th>\n",
       "      <td>3</td>\n",
       "      <td>0.0</td>\n",
       "      <td>35.0</td>\n",
       "      <td>0</td>\n",
       "      <td>0</td>\n",
       "      <td>8.0500</td>\n",
       "      <td>0.0</td>\n",
       "      <td>0</td>\n",
       "    </tr>\n",
       "  </tbody>\n",
       "</table>\n",
       "</div>"
      ],
      "text/plain": [
       "   Pclass  Sex   Age  Number of Siblings/Spouses Aboard  \\\n",
       "0       3  0.0  22.0                                  1   \n",
       "1       1  1.0  38.0                                  1   \n",
       "2       3  1.0  26.0                                  0   \n",
       "3       1  1.0  35.0                                  1   \n",
       "4       3  0.0  35.0                                  0   \n",
       "\n",
       "   Number of Parents/Children Aboard     Fare  Embarked  Survived  \n",
       "0                                  0   7.2500       0.0         0  \n",
       "1                                  0  71.2833       1.0         1  \n",
       "2                                  0   7.9250       0.0         1  \n",
       "3                                  0  53.1000       0.0         1  \n",
       "4                                  0   8.0500       0.0         0  "
      ]
     },
     "execution_count": 16,
     "metadata": {},
     "output_type": "execute_result"
    }
   ],
   "source": [
    "dataset.head()"
   ]
  },
  {
   "cell_type": "markdown",
   "id": "5a3158a8-d49a-44b9-bd32-0c5dbf55b680",
   "metadata": {},
   "source": [
    "## Splitting the Dataset into the Training Set and Test Set"
   ]
  },
  {
   "cell_type": "code",
   "execution_count": 17,
   "id": "f1393161-46cd-4ba8-9821-a4298733f28c",
   "metadata": {},
   "outputs": [],
   "source": [
    "X = dataset.iloc[:, 0:7]\n",
    "y = dataset.iloc[:, -1]"
   ]
  },
  {
   "cell_type": "markdown",
   "id": "43a4add3-522d-4854-8f50-919175b3cbe6",
   "metadata": {},
   "source": [
    "## Showing the Input Data in a Table Format"
   ]
  },
  {
   "cell_type": "code",
   "execution_count": 18,
   "id": "8c67d6fe-247a-4e5c-9b68-489d5c9fb34f",
   "metadata": {},
   "outputs": [
    {
     "data": {
      "text/html": [
       "<div>\n",
       "<style scoped>\n",
       "    .dataframe tbody tr th:only-of-type {\n",
       "        vertical-align: middle;\n",
       "    }\n",
       "\n",
       "    .dataframe tbody tr th {\n",
       "        vertical-align: top;\n",
       "    }\n",
       "\n",
       "    .dataframe thead th {\n",
       "        text-align: right;\n",
       "    }\n",
       "</style>\n",
       "<table border=\"1\" class=\"dataframe\">\n",
       "  <thead>\n",
       "    <tr style=\"text-align: right;\">\n",
       "      <th></th>\n",
       "      <th>Pclass</th>\n",
       "      <th>Sex</th>\n",
       "      <th>Age</th>\n",
       "      <th>Number of Siblings/Spouses Aboard</th>\n",
       "      <th>Number of Parents/Children Aboard</th>\n",
       "      <th>Fare</th>\n",
       "      <th>Embarked</th>\n",
       "    </tr>\n",
       "  </thead>\n",
       "  <tbody>\n",
       "    <tr>\n",
       "      <th>0</th>\n",
       "      <td>3</td>\n",
       "      <td>0.0</td>\n",
       "      <td>22.0</td>\n",
       "      <td>1</td>\n",
       "      <td>0</td>\n",
       "      <td>7.2500</td>\n",
       "      <td>0.0</td>\n",
       "    </tr>\n",
       "    <tr>\n",
       "      <th>1</th>\n",
       "      <td>1</td>\n",
       "      <td>1.0</td>\n",
       "      <td>38.0</td>\n",
       "      <td>1</td>\n",
       "      <td>0</td>\n",
       "      <td>71.2833</td>\n",
       "      <td>1.0</td>\n",
       "    </tr>\n",
       "    <tr>\n",
       "      <th>2</th>\n",
       "      <td>3</td>\n",
       "      <td>1.0</td>\n",
       "      <td>26.0</td>\n",
       "      <td>0</td>\n",
       "      <td>0</td>\n",
       "      <td>7.9250</td>\n",
       "      <td>0.0</td>\n",
       "    </tr>\n",
       "    <tr>\n",
       "      <th>3</th>\n",
       "      <td>1</td>\n",
       "      <td>1.0</td>\n",
       "      <td>35.0</td>\n",
       "      <td>1</td>\n",
       "      <td>0</td>\n",
       "      <td>53.1000</td>\n",
       "      <td>0.0</td>\n",
       "    </tr>\n",
       "    <tr>\n",
       "      <th>4</th>\n",
       "      <td>3</td>\n",
       "      <td>0.0</td>\n",
       "      <td>35.0</td>\n",
       "      <td>0</td>\n",
       "      <td>0</td>\n",
       "      <td>8.0500</td>\n",
       "      <td>0.0</td>\n",
       "    </tr>\n",
       "  </tbody>\n",
       "</table>\n",
       "</div>"
      ],
      "text/plain": [
       "   Pclass  Sex   Age  Number of Siblings/Spouses Aboard  \\\n",
       "0       3  0.0  22.0                                  1   \n",
       "1       1  1.0  38.0                                  1   \n",
       "2       3  1.0  26.0                                  0   \n",
       "3       1  1.0  35.0                                  1   \n",
       "4       3  0.0  35.0                                  0   \n",
       "\n",
       "   Number of Parents/Children Aboard     Fare  Embarked  \n",
       "0                                  0   7.2500       0.0  \n",
       "1                                  0  71.2833       1.0  \n",
       "2                                  0   7.9250       0.0  \n",
       "3                                  0  53.1000       0.0  \n",
       "4                                  0   8.0500       0.0  "
      ]
     },
     "execution_count": 18,
     "metadata": {},
     "output_type": "execute_result"
    }
   ],
   "source": [
    "X.head()"
   ]
  },
  {
   "cell_type": "markdown",
   "id": "29b469a6-89a5-4e9c-a0ba-5642bb1db9dc",
   "metadata": {},
   "source": [
    "## A Quick Check of the Output Data"
   ]
  },
  {
   "cell_type": "code",
   "execution_count": 19,
   "id": "0acdbab5-61b2-4402-8e18-718c32c8c06b",
   "metadata": {},
   "outputs": [
    {
     "data": {
      "text/plain": [
       "0    0\n",
       "1    1\n",
       "2    1\n",
       "3    1\n",
       "4    0\n",
       "Name: Survived, dtype: int64"
      ]
     },
     "execution_count": 19,
     "metadata": {},
     "output_type": "execute_result"
    }
   ],
   "source": [
    "y.head()"
   ]
  },
  {
   "cell_type": "markdown",
   "id": "e71613ba-1be3-46f5-9d35-ec8bb569e8ed",
   "metadata": {},
   "source": [
    "## Taking Care of Missing Data Inputs"
   ]
  },
  {
   "cell_type": "code",
   "execution_count": 20,
   "id": "ec20b8ae-bc67-438e-a87c-50b82600f127",
   "metadata": {},
   "outputs": [],
   "source": [
    "from sklearn.impute import SimpleImputer"
   ]
  },
  {
   "cell_type": "code",
   "execution_count": 21,
   "id": "e2c5c09e",
   "metadata": {},
   "outputs": [],
   "source": [
    "imputer = SimpleImputer(missing_values=np.nan, strategy='mean')"
   ]
  },
  {
   "cell_type": "code",
   "execution_count": 22,
   "id": "92e55d09",
   "metadata": {},
   "outputs": [],
   "source": [
    "X = imputer.fit_transform(X)"
   ]
  },
  {
   "cell_type": "markdown",
   "id": "2cffa4c5",
   "metadata": {},
   "source": [
    "## Split Dataset into training & test sets"
   ]
  },
  {
   "cell_type": "code",
   "execution_count": 23,
   "id": "f9613140",
   "metadata": {},
   "outputs": [],
   "source": [
    "from sklearn.model_selection import train_test_split"
   ]
  },
  {
   "cell_type": "code",
   "execution_count": 24,
   "id": "986337f9",
   "metadata": {},
   "outputs": [],
   "source": [
    "X_train, X_test, y_train, y_test = train_test_split(X, y, test_size=0.2, random_state=1)"
   ]
  },
  {
   "cell_type": "code",
   "execution_count": 25,
   "id": "47eb1834",
   "metadata": {},
   "outputs": [
    {
     "data": {
      "text/plain": [
       "(712, 7)"
      ]
     },
     "execution_count": 25,
     "metadata": {},
     "output_type": "execute_result"
    }
   ],
   "source": [
    "X_train.shape"
   ]
  },
  {
   "cell_type": "code",
   "execution_count": 26,
   "id": "338cdd30",
   "metadata": {},
   "outputs": [
    {
     "data": {
      "text/plain": [
       "(179, 7)"
      ]
     },
     "execution_count": 26,
     "metadata": {},
     "output_type": "execute_result"
    }
   ],
   "source": [
    "X_test.shape"
   ]
  },
  {
   "cell_type": "markdown",
   "id": "7732945b-2f59-4d5b-9da3-25ab66fd8d75",
   "metadata": {},
   "source": [
    "## Scaling the Features"
   ]
  },
  {
   "cell_type": "code",
   "execution_count": 27,
   "id": "d9b662ae-42ab-4c1d-bcf7-2d77ddeb5da9",
   "metadata": {},
   "outputs": [],
   "source": [
    "# Scale the age and fare\n",
    "from sklearn.preprocessing import StandardScaler\n",
    "sc = StandardScaler()\n",
    "X_train[:, [2,5]] = sc.fit_transform(X_train[:, [2,5]])"
   ]
  },
  {
   "cell_type": "markdown",
   "id": "50ad566d-d2a5-46b3-9fc5-ee9ee974ba6e",
   "metadata": {},
   "source": [
    "## Training and Testing Predictive Models"
   ]
  },
  {
   "cell_type": "code",
   "execution_count": 28,
   "id": "f72ea651-590a-447e-8653-a16c765e0eb1",
   "metadata": {},
   "outputs": [],
   "source": [
    "from sklearn.metrics import accuracy_score"
   ]
  },
  {
   "cell_type": "code",
   "execution_count": 29,
   "id": "6fc18180",
   "metadata": {},
   "outputs": [
    {
     "name": "stdout",
     "output_type": "stream",
     "text": [
      "0.7932960893854749\n"
     ]
    }
   ],
   "source": [
    "# Support vector machine\n",
    "from sklearn.svm import SVC\n",
    "sv_classifier = SVC(kernel='rbf')\n",
    "sv_classifier.fit(X_train, y_train)\n",
    "X_test[:, [2,5]] = sc.fit_transform(X_test[:, [2,5]])\n",
    "Y_pred = sv_classifier.predict(X_test)\n",
    "print(accuracy_score(y_test, Y_pred))"
   ]
  },
  {
   "cell_type": "code",
   "execution_count": 30,
   "id": "d27b28ec",
   "metadata": {},
   "outputs": [
    {
     "name": "stdout",
     "output_type": "stream",
     "text": [
      "0.8100558659217877\n"
     ]
    }
   ],
   "source": [
    "from sklearn.linear_model import LogisticRegression\n",
    "# Linear regression\n",
    "lr = LogisticRegression()\n",
    "lr.fit(X_train, y_train)\n",
    "X_test[:, [2,5]] = sc.fit_transform(X_test[:, [2,5]])\n",
    "Y_pred = lr.predict(X_test)\n",
    "print(accuracy_score(y_test, Y_pred))"
   ]
  }
 ],
 "metadata": {
  "kernelspec": {
   "display_name": "Python 3 (ipykernel)",
   "language": "python",
   "name": "python3"
  },
  "language_info": {
   "codemirror_mode": {
    "name": "ipython",
    "version": 3
   },
   "file_extension": ".py",
   "mimetype": "text/x-python",
   "name": "python",
   "nbconvert_exporter": "python",
   "pygments_lexer": "ipython3",
   "version": "3.9.10"
  }
 },
 "nbformat": 4,
 "nbformat_minor": 5
}

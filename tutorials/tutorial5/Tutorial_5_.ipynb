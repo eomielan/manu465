{
  "nbformat": 4,
  "nbformat_minor": 0,
  "metadata": {
    "colab": {
      "provenance": []
    },
    "kernelspec": {
      "name": "python3",
      "display_name": "Python 3"
    },
    "language_info": {
      "name": "python"
    }
  },
  "cells": [
    {
      "cell_type": "markdown",
      "source": [
        "# Mounting on Google Drive"
      ],
      "metadata": {
        "id": "oFerFS04HgKZ"
      }
    },
    {
      "cell_type": "code",
      "source": [
        "from google.colab import drive\n",
        "drive.mount('/content/drive/')"
      ],
      "metadata": {
        "colab": {
          "base_uri": "https://localhost:8080/"
        },
        "id": "kiStmUjQHc-E",
        "outputId": "4a48c553-6a2e-4512-8d0d-6217ead9c7c8"
      },
      "execution_count": 63,
      "outputs": [
        {
          "output_type": "stream",
          "name": "stdout",
          "text": [
            "Drive already mounted at /content/drive/; to attempt to forcibly remount, call drive.mount(\"/content/drive/\", force_remount=True).\n"
          ]
        }
      ]
    },
    {
      "cell_type": "code",
      "source": [
        "%cd /content/drive/MyDrive/Tutorials/Tutorial 5"
      ],
      "metadata": {
        "colab": {
          "base_uri": "https://localhost:8080/"
        },
        "id": "v-9-AlIWHnxr",
        "outputId": "3df4d1cf-a3d3-43c4-ce48-c95e27969c43"
      },
      "execution_count": 64,
      "outputs": [
        {
          "output_type": "stream",
          "name": "stdout",
          "text": [
            "/content/drive/MyDrive/Tutorials/Tutorial 5\n"
          ]
        }
      ]
    },
    {
      "cell_type": "code",
      "source": [
        "!ls"
      ],
      "metadata": {
        "colab": {
          "base_uri": "https://localhost:8080/"
        },
        "id": "r1eSMX5yH06N",
        "outputId": "703bb488-2067-448c-b0f6-f47cbeba0e1c"
      },
      "execution_count": 65,
      "outputs": [
        {
          "output_type": "stream",
          "name": "stdout",
          "text": [
            " Glue_Data.csv\t    'Glue Manufacturer.ipynb'\n",
            "'Glue Failure.png'  'Tutorial 5.ipynb'\n"
          ]
        }
      ]
    },
    {
      "cell_type": "markdown",
      "source": [
        "## Project discription\n",
        "\n",
        "A manufacturer of advanced adhesive is studying the effect of 15 ingredients on the failure modes of adhered surfaces. When subjected to loading, debonding may occur at different locations in the adhesive joint. \n",
        "The Dataset listed the amount of these 15 ingredients (all scaled) for \n",
        "60 Samples with type 1 failure.\n",
        "70 Samples with type 2 failure.\n",
        "50 Samples with type 3 failure.\n",
        "\n",
        "##### Part A\n",
        "Do a PCA and find the first two Principal Components (PC1 and PC2). Plot PC1-PC2 for these 180 samples (identify the 3 types of failures).\n",
        "Check how much information will preserve if we only use the first 4 principal components (in other words, if instead of using all 15 variables, we use the 4 new variables (the first 4 PCs).\n",
        "\n",
        "##### Part B\n",
        "Build an ANN classifier for these dataset. Once with these new 4 variables."
      ],
      "metadata": {
        "id": "LQkLuisDH4lt"
      }
    },
    {
      "cell_type": "markdown",
      "source": [
        "## Import libraries"
      ],
      "metadata": {
        "id": "RiNk-LDmID34"
      }
    },
    {
      "cell_type": "code",
      "source": [
        "import numpy as np\n",
        "import pandas as pd\n",
        "import matplotlib.pyplot as plt\n",
        "import tensorflow as tf\n",
        "import time"
      ],
      "metadata": {
        "id": "I47C4fvbH1fP"
      },
      "execution_count": 66,
      "outputs": []
    },
    {
      "cell_type": "markdown",
      "source": [
        "## Import the data"
      ],
      "metadata": {
        "id": "3Ed6Zn8NINUg"
      }
    },
    {
      "cell_type": "code",
      "source": [
        "dataset = pd.read_csv('Glue_Data.csv')\n",
        "X = dataset.iloc[:, :-1].values\n",
        "y = dataset.iloc[:, -1].values"
      ],
      "metadata": {
        "id": "peFXN1u1IC9y"
      },
      "execution_count": 67,
      "outputs": []
    },
    {
      "cell_type": "code",
      "source": [
        "dataset.head()"
      ],
      "metadata": {
        "colab": {
          "base_uri": "https://localhost:8080/",
          "height": 206
        },
        "id": "Rhwt77BKIC_y",
        "outputId": "498db367-b0f0-4243-a4da-03085586b14b"
      },
      "execution_count": 93,
      "outputs": [
        {
          "output_type": "execute_result",
          "data": {
            "text/plain": [
              "   1.423  1.71  2.43  1.56  1.27   2.8  3.06  2.8.1  2.29   2.82  1.04  3.92  \\\n",
              "0  1.320  1.78  2.14  1.12  1.00  2.65  2.76    2.6  1.28  2.190  1.05  3.40   \n",
              "1  1.316  2.36  2.67  1.86  1.01  2.80  3.24    3.0  2.81  2.840  1.03  3.17   \n",
              "2  1.437  1.95  2.50  1.68  1.13  3.85  3.49    2.4  2.18  3.900  0.86  3.45   \n",
              "3  1.324  2.59  2.87  2.10  1.18  2.80  2.69    3.9  1.82  2.160  1.04  2.93   \n",
              "4  1.420  1.76  2.45  1.52  1.12  3.27  3.39    3.4  1.97  3.375  1.05  2.85   \n",
              "\n",
              "   0.27  1.065  2.08  Type 1  \n",
              "0  0.25  1.050  2.10  Type 1  \n",
              "1  0.29  1.185  2.06  Type 1  \n",
              "2  0.23  1.480  1.72  Type 1  \n",
              "3  0.38  0.735  2.08  Type 1  \n",
              "4  0.33  1.450  2.10  Type 1  "
            ],
            "text/html": [
              "\n",
              "  <div id=\"df-e91ea41a-e67a-485a-ae60-a32ce3c88df3\">\n",
              "    <div class=\"colab-df-container\">\n",
              "      <div>\n",
              "<style scoped>\n",
              "    .dataframe tbody tr th:only-of-type {\n",
              "        vertical-align: middle;\n",
              "    }\n",
              "\n",
              "    .dataframe tbody tr th {\n",
              "        vertical-align: top;\n",
              "    }\n",
              "\n",
              "    .dataframe thead th {\n",
              "        text-align: right;\n",
              "    }\n",
              "</style>\n",
              "<table border=\"1\" class=\"dataframe\">\n",
              "  <thead>\n",
              "    <tr style=\"text-align: right;\">\n",
              "      <th></th>\n",
              "      <th>1.423</th>\n",
              "      <th>1.71</th>\n",
              "      <th>2.43</th>\n",
              "      <th>1.56</th>\n",
              "      <th>1.27</th>\n",
              "      <th>2.8</th>\n",
              "      <th>3.06</th>\n",
              "      <th>2.8.1</th>\n",
              "      <th>2.29</th>\n",
              "      <th>2.82</th>\n",
              "      <th>1.04</th>\n",
              "      <th>3.92</th>\n",
              "      <th>0.27</th>\n",
              "      <th>1.065</th>\n",
              "      <th>2.08</th>\n",
              "      <th>Type 1</th>\n",
              "    </tr>\n",
              "  </thead>\n",
              "  <tbody>\n",
              "    <tr>\n",
              "      <th>0</th>\n",
              "      <td>1.320</td>\n",
              "      <td>1.78</td>\n",
              "      <td>2.14</td>\n",
              "      <td>1.12</td>\n",
              "      <td>1.00</td>\n",
              "      <td>2.65</td>\n",
              "      <td>2.76</td>\n",
              "      <td>2.6</td>\n",
              "      <td>1.28</td>\n",
              "      <td>2.190</td>\n",
              "      <td>1.05</td>\n",
              "      <td>3.40</td>\n",
              "      <td>0.25</td>\n",
              "      <td>1.050</td>\n",
              "      <td>2.10</td>\n",
              "      <td>Type 1</td>\n",
              "    </tr>\n",
              "    <tr>\n",
              "      <th>1</th>\n",
              "      <td>1.316</td>\n",
              "      <td>2.36</td>\n",
              "      <td>2.67</td>\n",
              "      <td>1.86</td>\n",
              "      <td>1.01</td>\n",
              "      <td>2.80</td>\n",
              "      <td>3.24</td>\n",
              "      <td>3.0</td>\n",
              "      <td>2.81</td>\n",
              "      <td>2.840</td>\n",
              "      <td>1.03</td>\n",
              "      <td>3.17</td>\n",
              "      <td>0.29</td>\n",
              "      <td>1.185</td>\n",
              "      <td>2.06</td>\n",
              "      <td>Type 1</td>\n",
              "    </tr>\n",
              "    <tr>\n",
              "      <th>2</th>\n",
              "      <td>1.437</td>\n",
              "      <td>1.95</td>\n",
              "      <td>2.50</td>\n",
              "      <td>1.68</td>\n",
              "      <td>1.13</td>\n",
              "      <td>3.85</td>\n",
              "      <td>3.49</td>\n",
              "      <td>2.4</td>\n",
              "      <td>2.18</td>\n",
              "      <td>3.900</td>\n",
              "      <td>0.86</td>\n",
              "      <td>3.45</td>\n",
              "      <td>0.23</td>\n",
              "      <td>1.480</td>\n",
              "      <td>1.72</td>\n",
              "      <td>Type 1</td>\n",
              "    </tr>\n",
              "    <tr>\n",
              "      <th>3</th>\n",
              "      <td>1.324</td>\n",
              "      <td>2.59</td>\n",
              "      <td>2.87</td>\n",
              "      <td>2.10</td>\n",
              "      <td>1.18</td>\n",
              "      <td>2.80</td>\n",
              "      <td>2.69</td>\n",
              "      <td>3.9</td>\n",
              "      <td>1.82</td>\n",
              "      <td>2.160</td>\n",
              "      <td>1.04</td>\n",
              "      <td>2.93</td>\n",
              "      <td>0.38</td>\n",
              "      <td>0.735</td>\n",
              "      <td>2.08</td>\n",
              "      <td>Type 1</td>\n",
              "    </tr>\n",
              "    <tr>\n",
              "      <th>4</th>\n",
              "      <td>1.420</td>\n",
              "      <td>1.76</td>\n",
              "      <td>2.45</td>\n",
              "      <td>1.52</td>\n",
              "      <td>1.12</td>\n",
              "      <td>3.27</td>\n",
              "      <td>3.39</td>\n",
              "      <td>3.4</td>\n",
              "      <td>1.97</td>\n",
              "      <td>3.375</td>\n",
              "      <td>1.05</td>\n",
              "      <td>2.85</td>\n",
              "      <td>0.33</td>\n",
              "      <td>1.450</td>\n",
              "      <td>2.10</td>\n",
              "      <td>Type 1</td>\n",
              "    </tr>\n",
              "  </tbody>\n",
              "</table>\n",
              "</div>\n",
              "      <button class=\"colab-df-convert\" onclick=\"convertToInteractive('df-e91ea41a-e67a-485a-ae60-a32ce3c88df3')\"\n",
              "              title=\"Convert this dataframe to an interactive table.\"\n",
              "              style=\"display:none;\">\n",
              "        \n",
              "  <svg xmlns=\"http://www.w3.org/2000/svg\" height=\"24px\"viewBox=\"0 0 24 24\"\n",
              "       width=\"24px\">\n",
              "    <path d=\"M0 0h24v24H0V0z\" fill=\"none\"/>\n",
              "    <path d=\"M18.56 5.44l.94 2.06.94-2.06 2.06-.94-2.06-.94-.94-2.06-.94 2.06-2.06.94zm-11 1L8.5 8.5l.94-2.06 2.06-.94-2.06-.94L8.5 2.5l-.94 2.06-2.06.94zm10 10l.94 2.06.94-2.06 2.06-.94-2.06-.94-.94-2.06-.94 2.06-2.06.94z\"/><path d=\"M17.41 7.96l-1.37-1.37c-.4-.4-.92-.59-1.43-.59-.52 0-1.04.2-1.43.59L10.3 9.45l-7.72 7.72c-.78.78-.78 2.05 0 2.83L4 21.41c.39.39.9.59 1.41.59.51 0 1.02-.2 1.41-.59l7.78-7.78 2.81-2.81c.8-.78.8-2.07 0-2.86zM5.41 20L4 18.59l7.72-7.72 1.47 1.35L5.41 20z\"/>\n",
              "  </svg>\n",
              "      </button>\n",
              "      \n",
              "  <style>\n",
              "    .colab-df-container {\n",
              "      display:flex;\n",
              "      flex-wrap:wrap;\n",
              "      gap: 12px;\n",
              "    }\n",
              "\n",
              "    .colab-df-convert {\n",
              "      background-color: #E8F0FE;\n",
              "      border: none;\n",
              "      border-radius: 50%;\n",
              "      cursor: pointer;\n",
              "      display: none;\n",
              "      fill: #1967D2;\n",
              "      height: 32px;\n",
              "      padding: 0 0 0 0;\n",
              "      width: 32px;\n",
              "    }\n",
              "\n",
              "    .colab-df-convert:hover {\n",
              "      background-color: #E2EBFA;\n",
              "      box-shadow: 0px 1px 2px rgba(60, 64, 67, 0.3), 0px 1px 3px 1px rgba(60, 64, 67, 0.15);\n",
              "      fill: #174EA6;\n",
              "    }\n",
              "\n",
              "    [theme=dark] .colab-df-convert {\n",
              "      background-color: #3B4455;\n",
              "      fill: #D2E3FC;\n",
              "    }\n",
              "\n",
              "    [theme=dark] .colab-df-convert:hover {\n",
              "      background-color: #434B5C;\n",
              "      box-shadow: 0px 1px 3px 1px rgba(0, 0, 0, 0.15);\n",
              "      filter: drop-shadow(0px 1px 2px rgba(0, 0, 0, 0.3));\n",
              "      fill: #FFFFFF;\n",
              "    }\n",
              "  </style>\n",
              "\n",
              "      <script>\n",
              "        const buttonEl =\n",
              "          document.querySelector('#df-e91ea41a-e67a-485a-ae60-a32ce3c88df3 button.colab-df-convert');\n",
              "        buttonEl.style.display =\n",
              "          google.colab.kernel.accessAllowed ? 'block' : 'none';\n",
              "\n",
              "        async function convertToInteractive(key) {\n",
              "          const element = document.querySelector('#df-e91ea41a-e67a-485a-ae60-a32ce3c88df3');\n",
              "          const dataTable =\n",
              "            await google.colab.kernel.invokeFunction('convertToInteractive',\n",
              "                                                     [key], {});\n",
              "          if (!dataTable) return;\n",
              "\n",
              "          const docLinkHtml = 'Like what you see? Visit the ' +\n",
              "            '<a target=\"_blank\" href=https://colab.research.google.com/notebooks/data_table.ipynb>data table notebook</a>'\n",
              "            + ' to learn more about interactive tables.';\n",
              "          element.innerHTML = '';\n",
              "          dataTable['output_type'] = 'display_data';\n",
              "          await google.colab.output.renderOutput(dataTable, element);\n",
              "          const docLink = document.createElement('div');\n",
              "          docLink.innerHTML = docLinkHtml;\n",
              "          element.appendChild(docLink);\n",
              "        }\n",
              "      </script>\n",
              "    </div>\n",
              "  </div>\n",
              "  "
            ]
          },
          "metadata": {},
          "execution_count": 93
        }
      ]
    },
    {
      "cell_type": "markdown",
      "source": [
        "## Encoding the output data"
      ],
      "metadata": {
        "id": "DaZ0UyEuI8HL"
      }
    },
    {
      "cell_type": "code",
      "source": [
        "from sklearn.preprocessing import LabelEncoder\n",
        "le = LabelEncoder()\n",
        "y = le.fit_transform(y)"
      ],
      "metadata": {
        "id": "X_4JpeHpIDCi"
      },
      "execution_count": 69,
      "outputs": []
    },
    {
      "cell_type": "markdown",
      "source": [
        "## PCA"
      ],
      "metadata": {
        "id": "6H_WLfw3JMUs"
      }
    },
    {
      "cell_type": "code",
      "source": [
        "from sklearn.decomposition import PCA\n",
        "PrinCom=PCA(n_components=15) # we choose the number of PCs\n",
        "PrinCom.fit(X)\n",
        "Z=PrinCom.transform(X)"
      ],
      "metadata": {
        "id": "OsevVlFeIDFB"
      },
      "execution_count": 70,
      "outputs": []
    },
    {
      "cell_type": "markdown",
      "source": [
        "Visualizing the data after transformation"
      ],
      "metadata": {
        "id": "8vbNZjeSJU2H"
      }
    },
    {
      "cell_type": "code",
      "source": [
        "plt.scatter(Z[:,0],Z[:,1],c=y) \n",
        "plt.title(\"Distribution of the data for the 1st and 2nd PCA\")\n",
        "plt.show()"
      ],
      "metadata": {
        "colab": {
          "base_uri": "https://localhost:8080/",
          "height": 281
        },
        "id": "V7U3X418IDHV",
        "outputId": "681492e0-878b-42c3-86db-5ee484fb90eb"
      },
      "execution_count": 71,
      "outputs": [
        {
          "output_type": "display_data",
          "data": {
            "text/plain": [
              "<Figure size 432x288 with 1 Axes>"
            ],
            "image/png": "[encoded data removed]"
          },
          "metadata": {
            "needs_background": "light"
          }
        }
      ]
    },
    {
      "cell_type": "code",
      "source": [
        "plt.scatter(Z[:,2],Z[:,3],c=y) \n",
        "plt.title(\"Distribution of the data for the 3rd and 4th PCA\")\n",
        "plt.show()"
      ],
      "metadata": {
        "colab": {
          "base_uri": "https://localhost:8080/",
          "height": 281
        },
        "id": "XMx6xajMIDJs",
        "outputId": "6e81ff0b-f03b-4740-d5f3-35611c260814"
      },
      "execution_count": 72,
      "outputs": [
        {
          "output_type": "display_data",
          "data": {
            "text/plain": [
              "<Figure size 432x288 with 1 Axes>"
            ],
            "image/png": "[encoded data removed]"
          },
          "metadata": {
            "needs_background": "light"
          }
        }
      ]
    },
    {
      "cell_type": "code",
      "source": [
        "plt.scatter(Z[:,3],Z[:,4],c=y) \n",
        "plt.title(\"Distribution of the data for the 5th and 6th PCA\")\n",
        "plt.show()"
      ],
      "metadata": {
        "colab": {
          "base_uri": "https://localhost:8080/",
          "height": 281
        },
        "id": "_pyv4NCRIDMR",
        "outputId": "66557ada-5893-4739-ce56-c8d8ccf992af"
      },
      "execution_count": 73,
      "outputs": [
        {
          "output_type": "display_data",
          "data": {
            "text/plain": [
              "<Figure size 432x288 with 1 Axes>"
            ],
            "image/png": "[encoded data removed]"
          },
          "metadata": {
            "needs_background": "light"
          }
        }
      ]
    },
    {
      "cell_type": "markdown",
      "source": [
        "## Checking the contribution of PCs"
      ],
      "metadata": {
        "id": "Nbqg_z2XKMF0"
      }
    },
    {
      "cell_type": "code",
      "source": [
        "e = []\n",
        "for z in Z.T:\n",
        "  e.append(np.var(z))"
      ],
      "metadata": {
        "id": "bLqpu32dX6AQ"
      },
      "execution_count": 74,
      "outputs": []
    },
    {
      "cell_type": "code",
      "source": [
        "contributions = []\n",
        "for i in range(Z.shape[1]):\n",
        "  contributions.append(np.sum(e[:i+1]) / np.sum(e))"
      ],
      "metadata": {
        "id": "tthFI9hRMR2v"
      },
      "execution_count": 75,
      "outputs": []
    },
    {
      "cell_type": "code",
      "source": [
        "plt.figure(figsize=(10,6))\n",
        "plt.plot(list(range(1, 16)), [i*100 for i in contributions])\n",
        "plt.title(\"Contribution of the PCs to the data\")\n",
        "plt.xlabel(\"Number of PCs\")\n",
        "plt.ylabel(\"Contribution\")\n",
        "plt.grid()\n",
        "plt.xticks(list(range(1,16)))\n",
        "plt.show()"
      ],
      "metadata": {
        "colab": {
          "base_uri": "https://localhost:8080/",
          "height": 404
        },
        "id": "Ohil7AqIMel2",
        "outputId": "0d077bcb-1246-4585-fd9e-5a3afeb34d2b"
      },
      "execution_count": 76,
      "outputs": [
        {
          "output_type": "display_data",
          "data": {
            "text/plain": [
              "<Figure size 720x432 with 1 Axes>"
            ],
            "image/png": "[encoded data removed]"
          },
          "metadata": {
            "needs_background": "light"
          }
        }
      ]
    },
    {
      "cell_type": "markdown",
      "source": [
        "# ANN model\n",
        "\n",
        "The first 4 PCs are taken as input to the model"
      ],
      "metadata": {
        "id": "-A0X8oR1VOm_"
      }
    },
    {
      "cell_type": "code",
      "source": [
        "inputs= Z[:, 0:4]"
      ],
      "metadata": {
        "id": "d7CLMqokMqyF"
      },
      "execution_count": 77,
      "outputs": []
    },
    {
      "cell_type": "markdown",
      "source": [
        "Splitting the data to the trainingset and testset"
      ],
      "metadata": {
        "id": "T102UTBAVd4g"
      }
    },
    {
      "cell_type": "code",
      "source": [
        "from sklearn.model_selection import train_test_split\n",
        "X_train, X_test, y_train, y_test = train_test_split(inputs, y, test_size = 0.2, random_state = 0)"
      ],
      "metadata": {
        "id": "V6n5R5gOVbt1"
      },
      "execution_count": 78,
      "outputs": []
    },
    {
      "cell_type": "markdown",
      "source": [
        "Feature scaling"
      ],
      "metadata": {
        "id": "QpG9a8nDVmcf"
      }
    },
    {
      "cell_type": "code",
      "source": [
        "from sklearn.preprocessing import StandardScaler\n",
        "sc = StandardScaler()\n",
        "X_train = sc.fit_transform(X_train)\n",
        "X_test = sc.transform(X_test)"
      ],
      "metadata": {
        "id": "2EKfGUc8ViHY"
      },
      "execution_count": 79,
      "outputs": []
    },
    {
      "cell_type": "markdown",
      "source": [
        "Building the model"
      ],
      "metadata": {
        "id": "DqLElcZKVxB5"
      }
    },
    {
      "cell_type": "code",
      "source": [
        "GlueModel=tf.keras.models.Sequential()\n",
        "GlueModel.add(tf.keras.layers.Dense(4,activation='relu'))\n",
        "GlueModel.add(tf.keras.layers.Dense(2,activation='relu'))\n",
        "GlueModel.add(tf.keras.layers.Dense(3,activation='softmax'))\n",
        "GlueModel.compile(optimizer = 'adam', loss = 'sparse_categorical_crossentropy', metrics = ['accuracy'])\n",
        "GlueModel.fit(X_train, y_train, batch_size = 8, epochs = 100)"
      ],
      "metadata": {
        "colab": {
          "base_uri": "https://localhost:8080/"
        },
        "id": "j4wm_dEEV2Lw",
        "outputId": "f9d70df6-9faf-444d-cbd5-61abfc44a39e"
      },
      "execution_count": 80,
      "outputs": [
        {
          "output_type": "stream",
          "name": "stdout",
          "text": [
            "Epoch 1/100\n",
            "18/18 [==============================] - 0s 3ms/step - loss: 1.2251 - accuracy: 0.2937\n",
            "Epoch 2/100\n",
            "18/18 [==============================] - 0s 2ms/step - loss: 1.1966 - accuracy: 0.2797\n",
            "Epoch 3/100\n",
            "18/18 [==============================] - 0s 2ms/step - loss: 1.1750 - accuracy: 0.2378\n",
            "Epoch 4/100\n",
            "18/18 [==============================] - 0s 2ms/step - loss: 1.1567 - accuracy: 0.2378\n",
            "Epoch 5/100\n",
            "18/18 [==============================] - 0s 2ms/step - loss: 1.1439 - accuracy: 0.2797\n",
            "Epoch 6/100\n",
            "18/18 [==============================] - 0s 2ms/step - loss: 1.1327 - accuracy: 0.3077\n",
            "Epoch 7/100\n",
            "18/18 [==============================] - 0s 2ms/step - loss: 1.1230 - accuracy: 0.3077\n",
            "Epoch 8/100\n",
            "18/18 [==============================] - 0s 2ms/step - loss: 1.1159 - accuracy: 0.3287\n",
            "Epoch 9/100\n",
            "18/18 [==============================] - 0s 2ms/step - loss: 1.1087 - accuracy: 0.3427\n",
            "Epoch 10/100\n",
            "18/18 [==============================] - 0s 2ms/step - loss: 1.1030 - accuracy: 0.3776\n",
            "Epoch 11/100\n",
            "18/18 [==============================] - 0s 2ms/step - loss: 1.0988 - accuracy: 0.4056\n",
            "Epoch 12/100\n",
            "18/18 [==============================] - 0s 2ms/step - loss: 1.0954 - accuracy: 0.4126\n",
            "Epoch 13/100\n",
            "18/18 [==============================] - 0s 2ms/step - loss: 1.0923 - accuracy: 0.4196\n",
            "Epoch 14/100\n",
            "18/18 [==============================] - 0s 2ms/step - loss: 1.0898 - accuracy: 0.4336\n",
            "Epoch 15/100\n",
            "18/18 [==============================] - 0s 2ms/step - loss: 1.0872 - accuracy: 0.4406\n",
            "Epoch 16/100\n",
            "18/18 [==============================] - 0s 2ms/step - loss: 1.0850 - accuracy: 0.4406\n",
            "Epoch 17/100\n",
            "18/18 [==============================] - 0s 2ms/step - loss: 1.0831 - accuracy: 0.4406\n",
            "Epoch 18/100\n",
            "18/18 [==============================] - 0s 2ms/step - loss: 1.0813 - accuracy: 0.4476\n",
            "Epoch 19/100\n",
            "18/18 [==============================] - 0s 2ms/step - loss: 1.0794 - accuracy: 0.4615\n",
            "Epoch 20/100\n",
            "18/18 [==============================] - 0s 2ms/step - loss: 1.0775 - accuracy: 0.4755\n",
            "Epoch 21/100\n",
            "18/18 [==============================] - 0s 2ms/step - loss: 1.0750 - accuracy: 0.4825\n",
            "Epoch 22/100\n",
            "18/18 [==============================] - 0s 2ms/step - loss: 1.0729 - accuracy: 0.4895\n",
            "Epoch 23/100\n",
            "18/18 [==============================] - 0s 3ms/step - loss: 1.0702 - accuracy: 0.5035\n",
            "Epoch 24/100\n",
            "18/18 [==============================] - 0s 2ms/step - loss: 1.0670 - accuracy: 0.5105\n",
            "Epoch 25/100\n",
            "18/18 [==============================] - 0s 2ms/step - loss: 1.0637 - accuracy: 0.5175\n",
            "Epoch 26/100\n",
            "18/18 [==============================] - 0s 2ms/step - loss: 1.0591 - accuracy: 0.5385\n",
            "Epoch 27/100\n",
            "18/18 [==============================] - 0s 2ms/step - loss: 1.0534 - accuracy: 0.5594\n",
            "Epoch 28/100\n",
            "18/18 [==============================] - 0s 2ms/step - loss: 1.0464 - accuracy: 0.5804\n",
            "Epoch 29/100\n",
            "18/18 [==============================] - 0s 2ms/step - loss: 1.0387 - accuracy: 0.6014\n",
            "Epoch 30/100\n",
            "18/18 [==============================] - 0s 2ms/step - loss: 1.0301 - accuracy: 0.6014\n",
            "Epoch 31/100\n",
            "18/18 [==============================] - 0s 2ms/step - loss: 1.0212 - accuracy: 0.6154\n",
            "Epoch 32/100\n",
            "18/18 [==============================] - 0s 2ms/step - loss: 1.0106 - accuracy: 0.6294\n",
            "Epoch 33/100\n",
            "18/18 [==============================] - 0s 2ms/step - loss: 1.0005 - accuracy: 0.6294\n",
            "Epoch 34/100\n",
            "18/18 [==============================] - 0s 2ms/step - loss: 0.9885 - accuracy: 0.6364\n",
            "Epoch 35/100\n",
            "18/18 [==============================] - 0s 2ms/step - loss: 0.9770 - accuracy: 0.6364\n",
            "Epoch 36/100\n",
            "18/18 [==============================] - 0s 2ms/step - loss: 0.9654 - accuracy: 0.6364\n",
            "Epoch 37/100\n",
            "18/18 [==============================] - 0s 2ms/step - loss: 0.9558 - accuracy: 0.6364\n",
            "Epoch 38/100\n",
            "18/18 [==============================] - 0s 2ms/step - loss: 0.9443 - accuracy: 0.6434\n",
            "Epoch 39/100\n",
            "18/18 [==============================] - 0s 2ms/step - loss: 0.9349 - accuracy: 0.6573\n",
            "Epoch 40/100\n",
            "18/18 [==============================] - 0s 2ms/step - loss: 0.9259 - accuracy: 0.6573\n",
            "Epoch 41/100\n",
            "18/18 [==============================] - 0s 2ms/step - loss: 0.9180 - accuracy: 0.6643\n",
            "Epoch 42/100\n",
            "18/18 [==============================] - 0s 2ms/step - loss: 0.9099 - accuracy: 0.6643\n",
            "Epoch 43/100\n",
            "18/18 [==============================] - 0s 2ms/step - loss: 0.9028 - accuracy: 0.6643\n",
            "Epoch 44/100\n",
            "18/18 [==============================] - 0s 2ms/step - loss: 0.8967 - accuracy: 0.6573\n",
            "Epoch 45/100\n",
            "18/18 [==============================] - 0s 2ms/step - loss: 0.8891 - accuracy: 0.6573\n",
            "Epoch 46/100\n",
            "18/18 [==============================] - 0s 2ms/step - loss: 0.8820 - accuracy: 0.6573\n",
            "Epoch 47/100\n",
            "18/18 [==============================] - 0s 2ms/step - loss: 0.8760 - accuracy: 0.6573\n",
            "Epoch 48/100\n",
            "18/18 [==============================] - 0s 2ms/step - loss: 0.8701 - accuracy: 0.6573\n",
            "Epoch 49/100\n",
            "18/18 [==============================] - 0s 2ms/step - loss: 0.8646 - accuracy: 0.6573\n",
            "Epoch 50/100\n",
            "18/18 [==============================] - 0s 2ms/step - loss: 0.8597 - accuracy: 0.6573\n",
            "Epoch 51/100\n",
            "18/18 [==============================] - 0s 2ms/step - loss: 0.8541 - accuracy: 0.6643\n",
            "Epoch 52/100\n",
            "18/18 [==============================] - 0s 2ms/step - loss: 0.8496 - accuracy: 0.6643\n",
            "Epoch 53/100\n",
            "18/18 [==============================] - 0s 2ms/step - loss: 0.8446 - accuracy: 0.6643\n",
            "Epoch 54/100\n",
            "18/18 [==============================] - 0s 2ms/step - loss: 0.8401 - accuracy: 0.6643\n",
            "Epoch 55/100\n",
            "18/18 [==============================] - 0s 2ms/step - loss: 0.8362 - accuracy: 0.6643\n",
            "Epoch 56/100\n",
            "18/18 [==============================] - 0s 2ms/step - loss: 0.8317 - accuracy: 0.6643\n",
            "Epoch 57/100\n",
            "18/18 [==============================] - 0s 2ms/step - loss: 0.8282 - accuracy: 0.6643\n",
            "Epoch 58/100\n",
            "18/18 [==============================] - 0s 2ms/step - loss: 0.8237 - accuracy: 0.6643\n",
            "Epoch 59/100\n",
            "18/18 [==============================] - 0s 2ms/step - loss: 0.8201 - accuracy: 0.6643\n",
            "Epoch 60/100\n",
            "18/18 [==============================] - 0s 2ms/step - loss: 0.8169 - accuracy: 0.6643\n",
            "Epoch 61/100\n",
            "18/18 [==============================] - 0s 2ms/step - loss: 0.8127 - accuracy: 0.6643\n",
            "Epoch 62/100\n",
            "18/18 [==============================] - 0s 2ms/step - loss: 0.8094 - accuracy: 0.6643\n",
            "Epoch 63/100\n",
            "18/18 [==============================] - 0s 2ms/step - loss: 0.8061 - accuracy: 0.6643\n",
            "Epoch 64/100\n",
            "18/18 [==============================] - 0s 2ms/step - loss: 0.8024 - accuracy: 0.6643\n",
            "Epoch 65/100\n",
            "18/18 [==============================] - 0s 2ms/step - loss: 0.7993 - accuracy: 0.6643\n",
            "Epoch 66/100\n",
            "18/18 [==============================] - 0s 2ms/step - loss: 0.7962 - accuracy: 0.6643\n",
            "Epoch 67/100\n",
            "18/18 [==============================] - 0s 2ms/step - loss: 0.7930 - accuracy: 0.6643\n",
            "Epoch 68/100\n",
            "18/18 [==============================] - 0s 2ms/step - loss: 0.7898 - accuracy: 0.6643\n",
            "Epoch 69/100\n",
            "18/18 [==============================] - 0s 2ms/step - loss: 0.7873 - accuracy: 0.6713\n",
            "Epoch 70/100\n",
            "18/18 [==============================] - 0s 2ms/step - loss: 0.7839 - accuracy: 0.6713\n",
            "Epoch 71/100\n",
            "18/18 [==============================] - 0s 2ms/step - loss: 0.7811 - accuracy: 0.6713\n",
            "Epoch 72/100\n",
            "18/18 [==============================] - 0s 2ms/step - loss: 0.7780 - accuracy: 0.6713\n",
            "Epoch 73/100\n",
            "18/18 [==============================] - 0s 2ms/step - loss: 0.7749 - accuracy: 0.6713\n",
            "Epoch 74/100\n",
            "18/18 [==============================] - 0s 2ms/step - loss: 0.7725 - accuracy: 0.6713\n",
            "Epoch 75/100\n",
            "18/18 [==============================] - 0s 2ms/step - loss: 0.7696 - accuracy: 0.6713\n",
            "Epoch 76/100\n",
            "18/18 [==============================] - 0s 2ms/step - loss: 0.7669 - accuracy: 0.6713\n",
            "Epoch 77/100\n",
            "18/18 [==============================] - 0s 2ms/step - loss: 0.7645 - accuracy: 0.6713\n",
            "Epoch 78/100\n",
            "18/18 [==============================] - 0s 2ms/step - loss: 0.7617 - accuracy: 0.6713\n",
            "Epoch 79/100\n",
            "18/18 [==============================] - 0s 2ms/step - loss: 0.7592 - accuracy: 0.6713\n",
            "Epoch 80/100\n",
            "18/18 [==============================] - 0s 2ms/step - loss: 0.7571 - accuracy: 0.6713\n",
            "Epoch 81/100\n",
            "18/18 [==============================] - 0s 2ms/step - loss: 0.7547 - accuracy: 0.6713\n",
            "Epoch 82/100\n",
            "18/18 [==============================] - 0s 2ms/step - loss: 0.7520 - accuracy: 0.6713\n",
            "Epoch 83/100\n",
            "18/18 [==============================] - 0s 2ms/step - loss: 0.7500 - accuracy: 0.6713\n",
            "Epoch 84/100\n",
            "18/18 [==============================] - 0s 2ms/step - loss: 0.7473 - accuracy: 0.6713\n",
            "Epoch 85/100\n",
            "18/18 [==============================] - 0s 2ms/step - loss: 0.7452 - accuracy: 0.6713\n",
            "Epoch 86/100\n",
            "18/18 [==============================] - 0s 2ms/step - loss: 0.7432 - accuracy: 0.6713\n",
            "Epoch 87/100\n",
            "18/18 [==============================] - 0s 2ms/step - loss: 0.7402 - accuracy: 0.6713\n",
            "Epoch 88/100\n",
            "18/18 [==============================] - 0s 2ms/step - loss: 0.7381 - accuracy: 0.6713\n",
            "Epoch 89/100\n",
            "18/18 [==============================] - 0s 2ms/step - loss: 0.7353 - accuracy: 0.6713\n",
            "Epoch 90/100\n",
            "18/18 [==============================] - 0s 2ms/step - loss: 0.7330 - accuracy: 0.6713\n",
            "Epoch 91/100\n",
            "18/18 [==============================] - 0s 2ms/step - loss: 0.7303 - accuracy: 0.6713\n",
            "Epoch 92/100\n",
            "18/18 [==============================] - 0s 2ms/step - loss: 0.7273 - accuracy: 0.6713\n",
            "Epoch 93/100\n",
            "18/18 [==============================] - 0s 2ms/step - loss: 0.7250 - accuracy: 0.6713\n",
            "Epoch 94/100\n",
            "18/18 [==============================] - 0s 2ms/step - loss: 0.7220 - accuracy: 0.6713\n",
            "Epoch 95/100\n",
            "18/18 [==============================] - 0s 2ms/step - loss: 0.7185 - accuracy: 0.6713\n",
            "Epoch 96/100\n",
            "18/18 [==============================] - 0s 2ms/step - loss: 0.7154 - accuracy: 0.6713\n",
            "Epoch 97/100\n",
            "18/18 [==============================] - 0s 2ms/step - loss: 0.7118 - accuracy: 0.6713\n",
            "Epoch 98/100\n",
            "18/18 [==============================] - 0s 2ms/step - loss: 0.7088 - accuracy: 0.6713\n",
            "Epoch 99/100\n",
            "18/18 [==============================] - 0s 2ms/step - loss: 0.7047 - accuracy: 0.6713\n",
            "Epoch 100/100\n",
            "18/18 [==============================] - 0s 2ms/step - loss: 0.7003 - accuracy: 0.6713\n"
          ]
        },
        {
          "output_type": "execute_result",
          "data": {
            "text/plain": [
              "<keras.callbacks.History at 0x7f978429e910>"
            ]
          },
          "metadata": {},
          "execution_count": 80
        }
      ]
    },
    {
      "cell_type": "markdown",
      "source": [
        "Evaluating the model over the test set"
      ],
      "metadata": {
        "id": "92aL8hDjV8MQ"
      }
    },
    {
      "cell_type": "code",
      "source": [
        "GlueModel.evaluate(X_test,y_test)"
      ],
      "metadata": {
        "colab": {
          "base_uri": "https://localhost:8080/"
        },
        "id": "vtbEoF8hWC-Z",
        "outputId": "d1529d83-9f04-4a77-f23f-6550bdc38ee8"
      },
      "execution_count": 81,
      "outputs": [
        {
          "output_type": "stream",
          "name": "stderr",
          "text": [
            "WARNING:tensorflow:5 out of the last 9 calls to <function Model.make_test_function.<locals>.test_function at 0x7f9784239c20> triggered tf.function retracing. Tracing is expensive and the excessive number of tracings could be due to (1) creating @tf.function repeatedly in a loop, (2) passing tensors with different shapes, (3) passing Python objects instead of tensors. For (1), please define your @tf.function outside of the loop. For (2), @tf.function has reduce_retracing=True option that can avoid unnecessary retracing. For (3), please refer to https://www.tensorflow.org/guide/function#controlling_retracing and https://www.tensorflow.org/api_docs/python/tf/function for  more details.\n"
          ]
        },
        {
          "output_type": "stream",
          "name": "stdout",
          "text": [
            "2/2 [==============================] - 0s 10ms/step - loss: 0.9531 - accuracy: 0.4167\n"
          ]
        },
        {
          "output_type": "execute_result",
          "data": {
            "text/plain": [
              "[0.953141450881958, 0.4166666567325592]"
            ]
          },
          "metadata": {},
          "execution_count": 81
        }
      ]
    },
    {
      "cell_type": "markdown",
      "source": [
        "### Trying the model with all the 15 PCs"
      ],
      "metadata": {
        "id": "j6e90SNUWIFz"
      }
    },
    {
      "cell_type": "code",
      "source": [
        "inputs_2 = Z"
      ],
      "metadata": {
        "id": "T85MdRqwWDNC"
      },
      "execution_count": 82,
      "outputs": []
    },
    {
      "cell_type": "code",
      "source": [
        "from sklearn.model_selection import train_test_split\n",
        "X_train_2, X_test_2, y_train_2, y_test_2 = train_test_split(inputs_2, y, test_size = 0.2, random_state = 0)"
      ],
      "metadata": {
        "id": "S3l8Y019WVXk"
      },
      "execution_count": 83,
      "outputs": []
    },
    {
      "cell_type": "code",
      "source": [
        "from sklearn.preprocessing import StandardScaler\n",
        "sc = StandardScaler()\n",
        "X_train_2 = sc.fit_transform(X_train_2)\n",
        "X_test_2 = sc.transform(X_test_2)"
      ],
      "metadata": {
        "id": "Jd76jCxaWeow"
      },
      "execution_count": 84,
      "outputs": []
    },
    {
      "cell_type": "code",
      "source": [
        "GlueModel_2=tf.keras.models.Sequential()\n",
        "GlueModel_2.add(tf.keras.layers.Dense(4,activation='relu'))\n",
        "GlueModel_2.add(tf.keras.layers.Dense(2,activation='relu'))\n",
        "GlueModel_2.add(tf.keras.layers.Dense(3,activation='softmax'))\n",
        "GlueModel_2.compile(optimizer = 'adam', loss = 'sparse_categorical_crossentropy', metrics = ['accuracy'])\n",
        "GlueModel_2.fit(X_train_2, y_train_2, batch_size = 8, epochs = 100)"
      ],
      "metadata": {
        "colab": {
          "base_uri": "https://localhost:8080/"
        },
        "id": "Z2F5JAwmWhQZ",
        "outputId": "f76ddc0a-0a1e-46cb-fa1e-a7fb66e6d8ca"
      },
      "execution_count": 85,
      "outputs": [
        {
          "output_type": "stream",
          "name": "stdout",
          "text": [
            "Epoch 1/100\n",
            "18/18 [==============================] - 0s 2ms/step - loss: 1.3562 - accuracy: 0.3007\n",
            "Epoch 2/100\n",
            "18/18 [==============================] - 0s 2ms/step - loss: 1.3013 - accuracy: 0.3147\n",
            "Epoch 3/100\n",
            "18/18 [==============================] - 0s 2ms/step - loss: 1.2588 - accuracy: 0.3497\n",
            "Epoch 4/100\n",
            "18/18 [==============================] - 0s 2ms/step - loss: 1.2229 - accuracy: 0.3636\n",
            "Epoch 5/100\n",
            "18/18 [==============================] - 0s 2ms/step - loss: 1.1925 - accuracy: 0.3706\n",
            "Epoch 6/100\n",
            "18/18 [==============================] - 0s 2ms/step - loss: 1.1682 - accuracy: 0.3706\n",
            "Epoch 7/100\n",
            "18/18 [==============================] - 0s 2ms/step - loss: 1.1459 - accuracy: 0.3986\n",
            "Epoch 8/100\n",
            "18/18 [==============================] - 0s 2ms/step - loss: 1.1264 - accuracy: 0.4056\n",
            "Epoch 9/100\n",
            "18/18 [==============================] - 0s 2ms/step - loss: 1.1075 - accuracy: 0.4406\n",
            "Epoch 10/100\n",
            "18/18 [==============================] - 0s 2ms/step - loss: 1.0890 - accuracy: 0.4755\n",
            "Epoch 11/100\n",
            "18/18 [==============================] - 0s 2ms/step - loss: 1.0725 - accuracy: 0.5035\n",
            "Epoch 12/100\n",
            "18/18 [==============================] - 0s 2ms/step - loss: 1.0553 - accuracy: 0.5385\n",
            "Epoch 13/100\n",
            "18/18 [==============================] - 0s 2ms/step - loss: 1.0391 - accuracy: 0.5455\n",
            "Epoch 14/100\n",
            "18/18 [==============================] - 0s 2ms/step - loss: 1.0245 - accuracy: 0.5594\n",
            "Epoch 15/100\n",
            "18/18 [==============================] - 0s 2ms/step - loss: 1.0081 - accuracy: 0.5734\n",
            "Epoch 16/100\n",
            "18/18 [==============================] - 0s 2ms/step - loss: 0.9924 - accuracy: 0.5944\n",
            "Epoch 17/100\n",
            "18/18 [==============================] - 0s 2ms/step - loss: 0.9758 - accuracy: 0.5944\n",
            "Epoch 18/100\n",
            "18/18 [==============================] - 0s 2ms/step - loss: 0.9596 - accuracy: 0.5944\n",
            "Epoch 19/100\n",
            "18/18 [==============================] - 0s 2ms/step - loss: 0.9437 - accuracy: 0.6294\n",
            "Epoch 20/100\n",
            "18/18 [==============================] - 0s 2ms/step - loss: 0.9273 - accuracy: 0.6503\n",
            "Epoch 21/100\n",
            "18/18 [==============================] - 0s 2ms/step - loss: 0.9101 - accuracy: 0.6783\n",
            "Epoch 22/100\n",
            "18/18 [==============================] - 0s 2ms/step - loss: 0.8926 - accuracy: 0.6713\n",
            "Epoch 23/100\n",
            "18/18 [==============================] - 0s 2ms/step - loss: 0.8726 - accuracy: 0.6783\n",
            "Epoch 24/100\n",
            "18/18 [==============================] - 0s 2ms/step - loss: 0.8519 - accuracy: 0.7133\n",
            "Epoch 25/100\n",
            "18/18 [==============================] - 0s 2ms/step - loss: 0.8311 - accuracy: 0.7343\n",
            "Epoch 26/100\n",
            "18/18 [==============================] - 0s 2ms/step - loss: 0.8095 - accuracy: 0.7413\n",
            "Epoch 27/100\n",
            "18/18 [==============================] - 0s 2ms/step - loss: 0.7877 - accuracy: 0.7692\n",
            "Epoch 28/100\n",
            "18/18 [==============================] - 0s 2ms/step - loss: 0.7679 - accuracy: 0.7762\n",
            "Epoch 29/100\n",
            "18/18 [==============================] - 0s 2ms/step - loss: 0.7437 - accuracy: 0.7902\n",
            "Epoch 30/100\n",
            "18/18 [==============================] - 0s 2ms/step - loss: 0.7235 - accuracy: 0.7902\n",
            "Epoch 31/100\n",
            "18/18 [==============================] - 0s 2ms/step - loss: 0.7051 - accuracy: 0.7972\n",
            "Epoch 32/100\n",
            "18/18 [==============================] - 0s 2ms/step - loss: 0.6864 - accuracy: 0.8042\n",
            "Epoch 33/100\n",
            "18/18 [==============================] - 0s 2ms/step - loss: 0.6691 - accuracy: 0.7972\n",
            "Epoch 34/100\n",
            "18/18 [==============================] - 0s 2ms/step - loss: 0.6524 - accuracy: 0.7972\n",
            "Epoch 35/100\n",
            "18/18 [==============================] - 0s 2ms/step - loss: 0.6355 - accuracy: 0.7902\n",
            "Epoch 36/100\n",
            "18/18 [==============================] - 0s 2ms/step - loss: 0.6197 - accuracy: 0.7902\n",
            "Epoch 37/100\n",
            "18/18 [==============================] - 0s 2ms/step - loss: 0.6030 - accuracy: 0.8112\n",
            "Epoch 38/100\n",
            "18/18 [==============================] - 0s 2ms/step - loss: 0.5879 - accuracy: 0.8252\n",
            "Epoch 39/100\n",
            "18/18 [==============================] - 0s 2ms/step - loss: 0.5737 - accuracy: 0.8252\n",
            "Epoch 40/100\n",
            "18/18 [==============================] - 0s 2ms/step - loss: 0.5601 - accuracy: 0.8322\n",
            "Epoch 41/100\n",
            "18/18 [==============================] - 0s 2ms/step - loss: 0.5474 - accuracy: 0.8462\n",
            "Epoch 42/100\n",
            "18/18 [==============================] - 0s 2ms/step - loss: 0.5352 - accuracy: 0.8531\n",
            "Epoch 43/100\n",
            "18/18 [==============================] - 0s 2ms/step - loss: 0.5224 - accuracy: 0.8531\n",
            "Epoch 44/100\n",
            "18/18 [==============================] - 0s 2ms/step - loss: 0.5086 - accuracy: 0.8811\n",
            "Epoch 45/100\n",
            "18/18 [==============================] - 0s 2ms/step - loss: 0.4927 - accuracy: 0.8881\n",
            "Epoch 46/100\n",
            "18/18 [==============================] - 0s 2ms/step - loss: 0.4765 - accuracy: 0.9091\n",
            "Epoch 47/100\n",
            "18/18 [==============================] - 0s 2ms/step - loss: 0.4598 - accuracy: 0.9231\n",
            "Epoch 48/100\n",
            "18/18 [==============================] - 0s 2ms/step - loss: 0.4432 - accuracy: 0.9510\n",
            "Epoch 49/100\n",
            "18/18 [==============================] - 0s 2ms/step - loss: 0.4276 - accuracy: 0.9580\n",
            "Epoch 50/100\n",
            "18/18 [==============================] - 0s 2ms/step - loss: 0.4144 - accuracy: 0.9510\n",
            "Epoch 51/100\n",
            "18/18 [==============================] - 0s 2ms/step - loss: 0.4008 - accuracy: 0.9510\n",
            "Epoch 52/100\n",
            "18/18 [==============================] - 0s 2ms/step - loss: 0.3894 - accuracy: 0.9720\n",
            "Epoch 53/100\n",
            "18/18 [==============================] - 0s 2ms/step - loss: 0.3780 - accuracy: 0.9650\n",
            "Epoch 54/100\n",
            "18/18 [==============================] - 0s 2ms/step - loss: 0.3678 - accuracy: 0.9720\n",
            "Epoch 55/100\n",
            "18/18 [==============================] - 0s 2ms/step - loss: 0.3579 - accuracy: 0.9720\n",
            "Epoch 56/100\n",
            "18/18 [==============================] - 0s 2ms/step - loss: 0.3484 - accuracy: 0.9720\n",
            "Epoch 57/100\n",
            "18/18 [==============================] - 0s 2ms/step - loss: 0.3397 - accuracy: 0.9720\n",
            "Epoch 58/100\n",
            "18/18 [==============================] - 0s 2ms/step - loss: 0.3306 - accuracy: 0.9790\n",
            "Epoch 59/100\n",
            "18/18 [==============================] - 0s 2ms/step - loss: 0.3225 - accuracy: 0.9790\n",
            "Epoch 60/100\n",
            "18/18 [==============================] - 0s 2ms/step - loss: 0.3147 - accuracy: 0.9790\n",
            "Epoch 61/100\n",
            "18/18 [==============================] - 0s 2ms/step - loss: 0.3073 - accuracy: 0.9790\n",
            "Epoch 62/100\n",
            "18/18 [==============================] - 0s 2ms/step - loss: 0.3001 - accuracy: 0.9790\n",
            "Epoch 63/100\n",
            "18/18 [==============================] - 0s 2ms/step - loss: 0.2930 - accuracy: 0.9790\n",
            "Epoch 64/100\n",
            "18/18 [==============================] - 0s 2ms/step - loss: 0.2865 - accuracy: 0.9790\n",
            "Epoch 65/100\n",
            "18/18 [==============================] - 0s 2ms/step - loss: 0.2806 - accuracy: 0.9790\n",
            "Epoch 66/100\n",
            "18/18 [==============================] - 0s 2ms/step - loss: 0.2741 - accuracy: 0.9790\n",
            "Epoch 67/100\n",
            "18/18 [==============================] - 0s 2ms/step - loss: 0.2683 - accuracy: 0.9790\n",
            "Epoch 68/100\n",
            "18/18 [==============================] - 0s 2ms/step - loss: 0.2625 - accuracy: 0.9790\n",
            "Epoch 69/100\n",
            "18/18 [==============================] - 0s 2ms/step - loss: 0.2567 - accuracy: 0.9790\n",
            "Epoch 70/100\n",
            "18/18 [==============================] - 0s 2ms/step - loss: 0.2512 - accuracy: 0.9790\n",
            "Epoch 71/100\n",
            "18/18 [==============================] - 0s 2ms/step - loss: 0.2457 - accuracy: 0.9790\n",
            "Epoch 72/100\n",
            "18/18 [==============================] - 0s 2ms/step - loss: 0.2408 - accuracy: 0.9790\n",
            "Epoch 73/100\n",
            "18/18 [==============================] - 0s 2ms/step - loss: 0.2357 - accuracy: 0.9790\n",
            "Epoch 74/100\n",
            "18/18 [==============================] - 0s 2ms/step - loss: 0.2309 - accuracy: 0.9790\n",
            "Epoch 75/100\n",
            "18/18 [==============================] - 0s 2ms/step - loss: 0.2262 - accuracy: 0.9790\n",
            "Epoch 76/100\n",
            "18/18 [==============================] - 0s 2ms/step - loss: 0.2220 - accuracy: 0.9790\n",
            "Epoch 77/100\n",
            "18/18 [==============================] - 0s 2ms/step - loss: 0.2175 - accuracy: 0.9790\n",
            "Epoch 78/100\n",
            "18/18 [==============================] - 0s 2ms/step - loss: 0.2136 - accuracy: 0.9790\n",
            "Epoch 79/100\n",
            "18/18 [==============================] - 0s 2ms/step - loss: 0.2094 - accuracy: 0.9790\n",
            "Epoch 80/100\n",
            "18/18 [==============================] - 0s 2ms/step - loss: 0.2056 - accuracy: 0.9790\n",
            "Epoch 81/100\n",
            "18/18 [==============================] - 0s 2ms/step - loss: 0.2019 - accuracy: 0.9790\n",
            "Epoch 82/100\n",
            "18/18 [==============================] - 0s 2ms/step - loss: 0.1980 - accuracy: 0.9790\n",
            "Epoch 83/100\n",
            "18/18 [==============================] - 0s 2ms/step - loss: 0.1945 - accuracy: 0.9790\n",
            "Epoch 84/100\n",
            "18/18 [==============================] - 0s 2ms/step - loss: 0.1909 - accuracy: 0.9790\n",
            "Epoch 85/100\n",
            "18/18 [==============================] - 0s 2ms/step - loss: 0.1875 - accuracy: 0.9790\n",
            "Epoch 86/100\n",
            "18/18 [==============================] - 0s 2ms/step - loss: 0.1841 - accuracy: 0.9860\n",
            "Epoch 87/100\n",
            "18/18 [==============================] - 0s 2ms/step - loss: 0.1810 - accuracy: 0.9790\n",
            "Epoch 88/100\n",
            "18/18 [==============================] - 0s 2ms/step - loss: 0.1778 - accuracy: 0.9790\n",
            "Epoch 89/100\n",
            "18/18 [==============================] - 0s 2ms/step - loss: 0.1747 - accuracy: 0.9860\n",
            "Epoch 90/100\n",
            "18/18 [==============================] - 0s 2ms/step - loss: 0.1718 - accuracy: 0.9860\n",
            "Epoch 91/100\n",
            "18/18 [==============================] - 0s 2ms/step - loss: 0.1689 - accuracy: 0.9860\n",
            "Epoch 92/100\n",
            "18/18 [==============================] - 0s 2ms/step - loss: 0.1658 - accuracy: 0.9860\n",
            "Epoch 93/100\n",
            "18/18 [==============================] - 0s 2ms/step - loss: 0.1632 - accuracy: 0.9860\n",
            "Epoch 94/100\n",
            "18/18 [==============================] - 0s 2ms/step - loss: 0.1605 - accuracy: 0.9860\n",
            "Epoch 95/100\n",
            "18/18 [==============================] - 0s 2ms/step - loss: 0.1577 - accuracy: 0.9860\n",
            "Epoch 96/100\n",
            "18/18 [==============================] - 0s 2ms/step - loss: 0.1554 - accuracy: 0.9860\n",
            "Epoch 97/100\n",
            "18/18 [==============================] - 0s 2ms/step - loss: 0.1527 - accuracy: 0.9860\n",
            "Epoch 98/100\n",
            "18/18 [==============================] - 0s 2ms/step - loss: 0.1502 - accuracy: 0.9860\n",
            "Epoch 99/100\n",
            "18/18 [==============================] - 0s 2ms/step - loss: 0.1479 - accuracy: 0.9860\n",
            "Epoch 100/100\n",
            "18/18 [==============================] - 0s 2ms/step - loss: 0.1454 - accuracy: 0.9860\n"
          ]
        },
        {
          "output_type": "execute_result",
          "data": {
            "text/plain": [
              "<keras.callbacks.History at 0x7f9784136c10>"
            ]
          },
          "metadata": {},
          "execution_count": 85
        }
      ]
    },
    {
      "cell_type": "code",
      "source": [
        "GlueModel_2.evaluate(X_test_2,y_test_2)"
      ],
      "metadata": {
        "colab": {
          "base_uri": "https://localhost:8080/"
        },
        "id": "rJ1REI-MYPNS",
        "outputId": "9ba1821f-63fb-4368-d456-7549a722b651"
      },
      "execution_count": 86,
      "outputs": [
        {
          "output_type": "stream",
          "name": "stderr",
          "text": [
            "WARNING:tensorflow:6 out of the last 11 calls to <function Model.make_test_function.<locals>.test_function at 0x7f97838584d0> triggered tf.function retracing. Tracing is expensive and the excessive number of tracings could be due to (1) creating @tf.function repeatedly in a loop, (2) passing tensors with different shapes, (3) passing Python objects instead of tensors. For (1), please define your @tf.function outside of the loop. For (2), @tf.function has reduce_retracing=True option that can avoid unnecessary retracing. For (3), please refer to https://www.tensorflow.org/guide/function#controlling_retracing and https://www.tensorflow.org/api_docs/python/tf/function for  more details.\n"
          ]
        },
        {
          "output_type": "stream",
          "name": "stdout",
          "text": [
            "2/2 [==============================] - 0s 7ms/step - loss: 0.1321 - accuracy: 1.0000\n"
          ]
        },
        {
          "output_type": "execute_result",
          "data": {
            "text/plain": [
              "[0.13207387924194336, 1.0]"
            ]
          },
          "metadata": {},
          "execution_count": 86
        }
      ]
    },
    {
      "cell_type": "markdown",
      "source": [
        "## Let's try some other classifiers like KNN, SVM, etc."
      ],
      "metadata": {
        "id": "xZQKO5BZYJG_"
      }
    },
    {
      "cell_type": "code",
      "source": [
        "from sklearn.metrics import accuracy_score"
      ],
      "metadata": {
        "id": "LAfB56CsZCmc"
      },
      "execution_count": 87,
      "outputs": []
    },
    {
      "cell_type": "markdown",
      "source": [
        "#### KNN"
      ],
      "metadata": {
        "id": "-6pZFoJHYzI3"
      }
    },
    {
      "cell_type": "code",
      "source": [
        "from sklearn.neighbors import KNeighborsClassifier\n",
        "knn = KNeighborsClassifier(n_neighbors=3) # change n_neighbors; boundary becomes smoother with increasing value of K\n",
        "knn.fit(X_train, y_train)\n",
        "y_pred = knn.predict(X_test)\n",
        "print(accuracy_score(y_test, y_pred))\n",
        "# accuracy = np.sum(y_pred==y_test)/len(y_test)\n",
        "# print(accuracy)"
      ],
      "metadata": {
        "colab": {
          "base_uri": "https://localhost:8080/"
        },
        "id": "RWfcC9U7YwvD",
        "outputId": "e5b00c84-568a-4645-da5f-37f3215c6216"
      },
      "execution_count": 89,
      "outputs": [
        {
          "output_type": "stream",
          "name": "stdout",
          "text": [
            "0.8888888888888888\n"
          ]
        }
      ]
    },
    {
      "cell_type": "code",
      "source": [
        "from sklearn.svm import SVC\n",
        "svmrbf = SVC(kernel='rbf')\n",
        "svmrbf.fit(X_train, y_train)\n",
        "y_pred = svmrbf.predict(X_test)\n",
        "print(accuracy_score(y_test, y_pred))"
      ],
      "metadata": {
        "colab": {
          "base_uri": "https://localhost:8080/"
        },
        "id": "CUC7GL6uY0U0",
        "outputId": "71227c3c-ec6b-4f79-b383-cf631ebc637e"
      },
      "execution_count": 90,
      "outputs": [
        {
          "output_type": "stream",
          "name": "stdout",
          "text": [
            "0.8611111111111112\n"
          ]
        }
      ]
    },
    {
      "cell_type": "code",
      "source": [
        "from sklearn.naive_bayes import GaussianNB\n",
        "nb_clf = GaussianNB()\n",
        "nb_clf.fit(X_train, y_train)\n",
        "y_pred = nb_clf.predict(X_test)\n",
        "print(accuracy_score(y_test, y_pred))"
      ],
      "metadata": {
        "colab": {
          "base_uri": "https://localhost:8080/"
        },
        "id": "DDklY1p6Y5I1",
        "outputId": "2b6dd33d-f027-4772-c014-2520855750a7"
      },
      "execution_count": 91,
      "outputs": [
        {
          "output_type": "stream",
          "name": "stdout",
          "text": [
            "0.8055555555555556\n"
          ]
        }
      ]
    },
    {
      "cell_type": "code",
      "source": [],
      "metadata": {
        "id": "81R3Dn4mZduR"
      },
      "execution_count": 91,
      "outputs": []
    }
  ]
}
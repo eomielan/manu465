{
 "cells": [
  {
   "cell_type": "markdown",
   "metadata": {
    "id": "3DR-eO17geWu"
   },
   "source": [
    "\n",
    "<font size=\"7\">__Leaf Identification Model__</font>\n"
   ]
  },
  {
   "cell_type": "markdown",
   "metadata": {
    "id": "yJ1K3EOeN_jC"
   },
   "source": [
    "## Project Description\n",
    "In this Machine Learning project, there are six sets of totally different images. All sets have 100 images each of Cherry Blossom, Gingko, Japanese Maple, Red Oak, Silver Birch and Sweet Gum leaves. All these images are in the Folder, /Images.\n",
    "\n",
    "create a model such that it is capable of recognizing an unknown leaf and distinguish it accurately.<br>\n",
    "create a deep learning model for image classification\n",
    "\n",
    "There is also a Test_Set, containing six Folders each containing images of differenr type of leaves. So, model accuracy can be evaluated with this test_set. Later, model will be used to predict if a single unknown image is of what specie of leaf.<br>\n",
    "\n",
    "\n",
    "In this exercise our objective is to perform the following tasks:\n",
    "\n",
    "1. Import the set of images\n",
    "2. Preprocessing dataset\n",
    "3. Building an appropriate CNN model\n",
    "4. Training the CNN model\n",
    "5. Making Prediction off the trained model\n",
    "6. Checking Accuracy of Model"
   ]
  },
  {
   "cell_type": "markdown",
   "metadata": {
    "id": "EMefrVPCg-60"
   },
   "source": [
    "## Importing the Libraries"
   ]
  },
  {
   "cell_type": "code",
   "execution_count": null,
   "metadata": {
    "colab": {
     "base_uri": "https://localhost:8080/"
    },
    "id": "7yrtJfuQPceY",
    "outputId": "f6886a36-5a3b-4683-9287-6ce28d544dca"
   },
   "outputs": [],
   "source": [
    "from google.colab import drive\n",
    "drive.mount('/content/gdrive')"
   ]
  },
  {
   "cell_type": "code",
   "execution_count": 26,
   "metadata": {
    "id": "sCV30xyVhFbE"
   },
   "outputs": [],
   "source": [
    "import tensorflow as tf\n",
    "from keras.preprocessing.image import ImageDataGenerator"
   ]
  },
  {
   "cell_type": "markdown",
   "metadata": {},
   "source": [
    "- ImageDataGenerator is a class in Keras that helps generate augmented batches of image data during the training of a NN. Data augmentation involves applying random transformations to the input data, such as rotation, zooming, and horizontal/vertical flipping. This helps to artificially increase the diversity of the training dataset, which can improve the generalization of the model"
   ]
  },
  {
   "cell_type": "markdown",
   "metadata": {
    "id": "oxQxCBWyoGPE"
   },
   "source": [
    "## Data Preprocessing"
   ]
  },
  {
   "cell_type": "markdown",
   "metadata": {
    "id": "MvE-heJNo3GG"
   },
   "source": [
    "### Preprocessing the Training Set"
   ]
  },
  {
   "cell_type": "markdown",
   "metadata": {},
   "source": [
    "- After, runnung this code, the training_set can be used to feed batches of augmented images and their labels to your model during training."
   ]
  },
  {
   "cell_type": "code",
   "execution_count": 27,
   "metadata": {
    "colab": {
     "base_uri": "https://localhost:8080/"
    },
    "id": "0koUcJMJpEBD",
    "outputId": "d039c61a-874f-4d67-b2e1-37cf3b2e5bf0"
   },
   "outputs": [
    {
     "name": "stdout",
     "output_type": "stream",
     "text": [
      "Found 337 images belonging to 6 classes.\n",
      "Found 83 images belonging to 6 classes.\n"
     ]
    }
   ],
   "source": [
    "train_datagen = ImageDataGenerator(rescale = 1./255,\n",
    "                                   shear_range = 0.2,\n",
    "                                   zoom_range = 0.2,\n",
    "                                   horizontal_flip = True,\n",
    "                                   validation_split=0.2) # Specify 20% for validation\n",
    "training_set = train_datagen.flow_from_directory('C:\\\\Users\\Pegah\\Downloads\\LeavesIdentifier\\Images\\Train',\n",
    "                                                 target_size = (64, 64),\n",
    "                                                 batch_size = 32,\n",
    "                                                 class_mode = 'categorical',\n",
    "                                                 subset='training')  # Specify that this is the training set\n",
    "validation_set = train_datagen.flow_from_directory('C:\\\\Users\\Pegah\\Downloads\\LeavesIdentifier\\Images\\Train',\n",
    "                                                   target_size=(64, 64),\n",
    "                                                   batch_size=32,\n",
    "                                                   class_mode='categorical',\n",
    "                                                   subset='validation')  # Specify that this is the validation set"
   ]
  },
  {
   "cell_type": "markdown",
   "metadata": {},
   "source": [
    "- rescale=1./255: Rescales the pixel values of the images to be in the range [0, 1]. This is a common preprocessing step for NN as it helps in numerical stability during training.\n",
    "- shear_range: Randomly applies shearing transformations. The image can be sheared by a maximum of 0.2 times its width in either direction.\n",
    "- zoom_range: Randomly applies zooming transformations. The image can be zoomed in or out by a maximum of 20%.\n",
    "- horizontal_flip: Randomly flips images horizontally."
   ]
  },
  {
   "cell_type": "markdown",
   "metadata": {},
   "source": [
    "- 'PATH': This is the path to the directory containing the training images.\n",
    "- target_size=(64, 64): Resizes the input images to a fixed size of 64x64 pixels.\n",
    "- batch_size=32: Number of images in each batch during training.\n",
    "- class_mode='categorical': Since you are working with a categorical classification problem, this parameter indicates that the labels are provided as one-hot encoded categorical labels."
   ]
  },
  {
   "cell_type": "markdown",
   "metadata": {
    "id": "mrCMmGw9pHys"
   },
   "source": [
    "### Preprocessing the Test Set"
   ]
  },
  {
   "cell_type": "markdown",
   "metadata": {},
   "source": [
    "- Setting up an image data generator for your test set using the flow_from_directory function from Keras"
   ]
  },
  {
   "cell_type": "code",
   "execution_count": 28,
   "metadata": {
    "colab": {
     "base_uri": "https://localhost:8080/"
    },
    "id": "SH4WzfOhpKc3",
    "outputId": "b231d5dd-d909-495a-c904-6c0fb324df06"
   },
   "outputs": [
    {
     "name": "stdout",
     "output_type": "stream",
     "text": [
      "Found 190 images belonging to 6 classes.\n"
     ]
    }
   ],
   "source": [
    "test_datagen = ImageDataGenerator(rescale = 1./255)\n",
    "test_set = test_datagen.flow_from_directory('C:\\\\Users\\Pegah\\Downloads\\LeavesIdentifier\\Images\\Test',\n",
    "                                            target_size = (64, 64),\n",
    "                                            batch_size = 32,\n",
    "                                            class_mode = 'categorical')"
   ]
  },
  {
   "cell_type": "markdown",
   "metadata": {},
   "source": [
    "- target_size=(64, 64): It's important to use the same target size as used during training.\n",
    "- After running this code, the test_set can be used to evaluate your neural network on the test data"
   ]
  },
  {
   "cell_type": "markdown",
   "metadata": {
    "id": "af8O4l90gk7B"
   },
   "source": [
    "## Building the CNN Model"
   ]
  },
  {
   "cell_type": "markdown",
   "metadata": {},
   "source": [
    "- Create a CNN model for image classification"
   ]
  },
  {
   "cell_type": "markdown",
   "metadata": {
    "id": "ces1gXY2lmoX"
   },
   "source": [
    "### Step 1 - Initialising the Model"
   ]
  },
  {
   "cell_type": "code",
   "execution_count": 29,
   "metadata": {
    "id": "SAUt4UMPlhLS"
   },
   "outputs": [],
   "source": [
    "Model = tf.keras.models.Sequential()"
   ]
  },
  {
   "cell_type": "markdown",
   "metadata": {},
   "source": [
    "- In Keras, the Sequential class represents a linear stack of layers. You can add layers to this model one by one in a sequential fashion"
   ]
  },
  {
   "cell_type": "markdown",
   "metadata": {
    "id": "u5YJj_XMl5LF"
   },
   "source": [
    "### Step 2 - Adding First Convolution Layer \n",
    "The number of filters directly affects the accuracy level of the model, increasing it will increase the accuracy."
   ]
  },
  {
   "cell_type": "code",
   "execution_count": 30,
   "metadata": {
    "id": "XPzPrMckl-hV"
   },
   "outputs": [],
   "source": [
    "Model.add(tf.keras.layers.Conv2D(filters=16, kernel_size=5, activation='relu', input_shape=[64, 64, 3]))"
   ]
  },
  {
   "cell_type": "markdown",
   "metadata": {},
   "source": [
    "- A convolutional layer is added to the model to capture features in the input images (the essence of leaf patterns).\n",
    "- filters=10: Number of filters/kernels in the layer. These filters learn different aspects of the input images.\n",
    "- kernel_size=5: Size of the convolutional kernels, a 5x5 grid that moves across the input image.\n",
    "- activation='relu': Rectified Linear Unit activation function to introduce non-linearity.\n",
    "- input_shape=[64, 64, 3]: This is the shape of the input data that the model expects. a 64x64 image with 3 channels (RGB)."
   ]
  },
  {
   "cell_type": "markdown",
   "metadata": {
    "id": "tf87FpvxmNOJ"
   },
   "source": [
    "### Step 3 - Pooling the First Layer"
   ]
  },
  {
   "cell_type": "code",
   "execution_count": 31,
   "metadata": {
    "id": "ncpqPl69mOac"
   },
   "outputs": [],
   "source": [
    "Model.add(tf.keras.layers.MaxPool2D(pool_size=4, strides=2))"
   ]
  },
  {
   "cell_type": "markdown",
   "metadata": {},
   "source": [
    "- Max pooling is a down-sampling operation that reduces the spatial dimensions of the input data.making the model more computationally efficient.\n",
    "- pool_size=4: Pooling window size, which extracts the maximum value from a 4x4 window.\n",
    "- strides=2: It specifies the step size to move the pooling window. In this case, the window moves 2 units at a time."
   ]
  },
  {
   "cell_type": "markdown",
   "metadata": {
    "id": "xaTOgD8rm4mU"
   },
   "source": [
    "### Step 4 - Adding a Second Convolutional Layer"
   ]
  },
  {
   "cell_type": "markdown",
   "metadata": {},
   "source": [
    "- Add more layers for deeper understanding"
   ]
  },
  {
   "cell_type": "code",
   "execution_count": 32,
   "metadata": {
    "id": "i_-FZjn_m8gk"
   },
   "outputs": [],
   "source": [
    "Model.add(tf.keras.layers.Conv2D(filters=16, kernel_size=5, activation='relu'))"
   ]
  },
  {
   "cell_type": "markdown",
   "metadata": {},
   "source": [
    "- you can increase the number of filters for deeper feature extraction.Further increasing the complexity by adding more filters."
   ]
  },
  {
   "cell_type": "markdown",
   "metadata": {
    "id": "FB_oQQ73N_jS"
   },
   "source": [
    "### Step 5 - Pooling the Second Layer"
   ]
  },
  {
   "cell_type": "code",
   "execution_count": 33,
   "metadata": {
    "id": "dx8E_g1LN_jS"
   },
   "outputs": [],
   "source": [
    "Model.add(tf.keras.layers.MaxPool2D(pool_size=4, strides=2))"
   ]
  },
  {
   "cell_type": "markdown",
   "metadata": {
    "id": "tmiEuvTunKfk"
   },
   "source": [
    "### Step 6 - Flattening"
   ]
  },
  {
   "cell_type": "code",
   "execution_count": 34,
   "metadata": {
    "id": "6AZeOGCvnNZn"
   },
   "outputs": [],
   "source": [
    "Model.add(tf.keras.layers.Flatten())"
   ]
  },
  {
   "cell_type": "markdown",
   "metadata": {},
   "source": [
    "- Flatten layer converts the multi-dimensional input data to a flat vector, preparing it for dense layers.\n",
    "- The earlier layers capture patterns in the input images. The Flatten layer is often used to transition from these convolutional/pooling layers to fully connected (dense) layers."
   ]
  },
  {
   "cell_type": "markdown",
   "metadata": {
    "id": "dAoSECOm203v"
   },
   "source": [
    "### Step 7 - Full Connection"
   ]
  },
  {
   "cell_type": "markdown",
   "metadata": {},
   "source": [
    "- This adds a fully connected (dense) layer to the model.Dense layers for profound connections between leaf features"
   ]
  },
  {
   "cell_type": "code",
   "execution_count": 35,
   "metadata": {
    "id": "8GtmUlLd26Nq"
   },
   "outputs": [],
   "source": [
    "Model.add(tf.keras.layers.Dense(units=32, activation='relu'))"
   ]
  },
  {
   "cell_type": "markdown",
   "metadata": {},
   "source": [
    "- 128: Number of neurons in the dense layer.\n",
    "- activation='relu': Rectified Linear Unit activation function."
   ]
  },
  {
   "cell_type": "markdown",
   "metadata": {
    "id": "yTldFvbX28Na"
   },
   "source": [
    "### Step 8 - Output Layer\n",
    "For classes greater than two, a softmax activation function is used"
   ]
  },
  {
   "cell_type": "code",
   "execution_count": 36,
   "metadata": {
    "id": "OfXDavH2N_jU"
   },
   "outputs": [],
   "source": [
    "Model.add(tf.keras.layers.Dense(units=6, activation='softmax')) # units = number of classes"
   ]
  },
  {
   "cell_type": "markdown",
   "metadata": {},
   "source": [
    "- units: Number of output classes (e.g., types of leaves).\n",
    "- activation='softmax': Activation function for multi-class classification. It produces class probabilities.\n",
    "- Each node in the output layer will output a probability representing the likelihood of the input belonging to a particular class. The probabilities from all neurons sum to 1. "
   ]
  },
  {
   "cell_type": "markdown",
   "metadata": {
    "id": "vfrFQACEnc6i"
   },
   "source": [
    "### Step 9 - Compiling the CNN\n",
    "In case of N-classes, categorical crossentropy method is used, with nadam optimizer"
   ]
  },
  {
   "cell_type": "code",
   "execution_count": 37,
   "metadata": {
    "id": "fm8vuAXDN_jU"
   },
   "outputs": [],
   "source": [
    "Model.compile(loss='categorical_crossentropy', optimizer='nadam',metrics=['accuracy'])"
   ]
  },
  {
   "cell_type": "markdown",
   "metadata": {},
   "source": [
    "- Compile your model with optimization and loss calculation\n",
    "- optimizer='nadam': Adam optimization algorithm, a popular choice for gradient-based optimization.\n",
    "- loss='categorical_crossentropy': Loss function for multi-class classification, where the target is one-hot encoded (each sample belongs to exactly one class). It measures the difference between the true distribution and the predicted distribution.\n",
    "- metrics=['accuracy']: Evaluate and display the accuracy during training. It represents the proportion of correctly classified samples."
   ]
  },
  {
   "cell_type": "markdown",
   "metadata": {
    "id": "D6XkI90snSDl"
   },
   "source": [
    "## Training the CNN and Evaluation"
   ]
  },
  {
   "cell_type": "markdown",
   "metadata": {},
   "source": [
    "- The epochs parameter specifies the number of times the model will iterate over the entire training dataset. "
   ]
  },
  {
   "cell_type": "code",
   "execution_count": 38,
   "metadata": {
    "colab": {
     "background_save": true,
     "base_uri": "https://localhost:8080/"
    },
    "id": "XUj1W4PJptta",
    "outputId": "ae0285fa-0f2d-4ca5-dab3-743efa237d78",
    "scrolled": true
   },
   "outputs": [
    {
     "name": "stdout",
     "output_type": "stream",
     "text": [
      "Epoch 1/35\n",
      "11/11 [==============================] - 104s 10s/step - loss: 1.8018 - accuracy: 0.2018 - val_loss: 1.7413 - val_accuracy: 0.3133\n",
      "Epoch 2/35\n",
      "11/11 [==============================] - 93s 9s/step - loss: 1.7033 - accuracy: 0.2938 - val_loss: 1.6423 - val_accuracy: 0.2048\n",
      "Epoch 3/35\n",
      "11/11 [==============================] - 98s 9s/step - loss: 1.5455 - accuracy: 0.4095 - val_loss: 1.3526 - val_accuracy: 0.6506\n",
      "Epoch 4/35\n",
      "11/11 [==============================] - 101s 9s/step - loss: 1.2491 - accuracy: 0.6024 - val_loss: 1.2795 - val_accuracy: 0.5542\n",
      "Epoch 5/35\n",
      "11/11 [==============================] - 95s 9s/step - loss: 1.0659 - accuracy: 0.6380 - val_loss: 0.9196 - val_accuracy: 0.7349\n",
      "Epoch 6/35\n",
      "11/11 [==============================] - 93s 9s/step - loss: 0.8179 - accuracy: 0.7300 - val_loss: 0.7287 - val_accuracy: 0.7711\n",
      "Epoch 7/35\n",
      "11/11 [==============================] - 97s 9s/step - loss: 0.7474 - accuracy: 0.7567 - val_loss: 0.6404 - val_accuracy: 0.7590\n",
      "Epoch 8/35\n",
      "11/11 [==============================] - 96s 9s/step - loss: 0.5119 - accuracy: 0.8368 - val_loss: 0.4846 - val_accuracy: 0.8434\n",
      "Epoch 9/35\n",
      "11/11 [==============================] - 100s 9s/step - loss: 0.6056 - accuracy: 0.7923 - val_loss: 0.4248 - val_accuracy: 0.8675\n",
      "Epoch 10/35\n",
      "11/11 [==============================] - 109s 10s/step - loss: 0.3840 - accuracy: 0.8635 - val_loss: 0.3929 - val_accuracy: 0.8675\n",
      "Epoch 11/35\n",
      "11/11 [==============================] - 106s 10s/step - loss: 0.3958 - accuracy: 0.8872 - val_loss: 0.3208 - val_accuracy: 0.8916\n",
      "Epoch 12/35\n",
      "11/11 [==============================] - 116s 11s/step - loss: 0.3058 - accuracy: 0.9169 - val_loss: 0.3324 - val_accuracy: 0.8554\n",
      "Epoch 13/35\n",
      "11/11 [==============================] - 105s 10s/step - loss: 0.2867 - accuracy: 0.9110 - val_loss: 0.3077 - val_accuracy: 0.8795\n",
      "Epoch 14/35\n",
      "11/11 [==============================] - 103s 10s/step - loss: 0.2852 - accuracy: 0.9169 - val_loss: 0.3336 - val_accuracy: 0.8795\n",
      "Epoch 15/35\n",
      "11/11 [==============================] - 111s 10s/step - loss: 0.2744 - accuracy: 0.9288 - val_loss: 0.3539 - val_accuracy: 0.8795\n",
      "Epoch 16/35\n",
      "11/11 [==============================] - 103s 9s/step - loss: 0.2310 - accuracy: 0.9288 - val_loss: 0.1860 - val_accuracy: 0.9518\n",
      "Epoch 17/35\n",
      "11/11 [==============================] - 126s 12s/step - loss: 0.1848 - accuracy: 0.9436 - val_loss: 0.3205 - val_accuracy: 0.8916\n",
      "Epoch 18/35\n",
      "11/11 [==============================] - 132s 12s/step - loss: 0.5206 - accuracy: 0.8487 - val_loss: 0.2461 - val_accuracy: 0.9157\n",
      "Epoch 19/35\n",
      "11/11 [==============================] - 132s 13s/step - loss: 0.1873 - accuracy: 0.9585 - val_loss: 0.1824 - val_accuracy: 0.9398\n",
      "Epoch 20/35\n",
      "11/11 [==============================] - 128s 12s/step - loss: 0.1486 - accuracy: 0.9703 - val_loss: 0.1760 - val_accuracy: 0.9518\n",
      "Epoch 21/35\n",
      "11/11 [==============================] - 99s 9s/step - loss: 0.1525 - accuracy: 0.9555 - val_loss: 0.2963 - val_accuracy: 0.9036\n",
      "Epoch 22/35\n",
      "11/11 [==============================] - 94s 9s/step - loss: 0.1385 - accuracy: 0.9644 - val_loss: 0.1401 - val_accuracy: 0.9639\n",
      "Epoch 23/35\n",
      "11/11 [==============================] - 96s 9s/step - loss: 0.1139 - accuracy: 0.9674 - val_loss: 0.1254 - val_accuracy: 0.9759\n",
      "Epoch 24/35\n",
      "11/11 [==============================] - 119s 11s/step - loss: 0.1238 - accuracy: 0.9644 - val_loss: 0.1367 - val_accuracy: 0.9759\n",
      "Epoch 25/35\n",
      "11/11 [==============================] - 123s 11s/step - loss: 0.0817 - accuracy: 0.9911 - val_loss: 0.2405 - val_accuracy: 0.8916\n",
      "Epoch 26/35\n",
      "11/11 [==============================] - 123s 11s/step - loss: 0.0986 - accuracy: 0.9733 - val_loss: 0.1505 - val_accuracy: 0.9518\n",
      "Epoch 27/35\n",
      "11/11 [==============================] - 127s 12s/step - loss: 0.1133 - accuracy: 0.9703 - val_loss: 0.1409 - val_accuracy: 0.9398\n",
      "Epoch 28/35\n",
      "11/11 [==============================] - 123s 11s/step - loss: 0.1919 - accuracy: 0.9258 - val_loss: 0.1346 - val_accuracy: 0.9398\n",
      "Epoch 29/35\n",
      "11/11 [==============================] - 128s 12s/step - loss: 0.1065 - accuracy: 0.9674 - val_loss: 0.1366 - val_accuracy: 0.9518\n",
      "Epoch 30/35\n",
      "11/11 [==============================] - 124s 11s/step - loss: 0.0687 - accuracy: 0.9792 - val_loss: 0.1006 - val_accuracy: 0.9759\n",
      "Epoch 31/35\n",
      "11/11 [==============================] - 127s 12s/step - loss: 0.0843 - accuracy: 0.9733 - val_loss: 0.0925 - val_accuracy: 0.9759\n",
      "Epoch 32/35\n",
      "11/11 [==============================] - 120s 11s/step - loss: 0.0710 - accuracy: 0.9733 - val_loss: 0.1144 - val_accuracy: 0.9759\n",
      "Epoch 33/35\n",
      "11/11 [==============================] - 107s 10s/step - loss: 0.0566 - accuracy: 0.9881 - val_loss: 0.0989 - val_accuracy: 0.9518\n",
      "Epoch 34/35\n",
      "11/11 [==============================] - 111s 10s/step - loss: 0.0696 - accuracy: 0.9822 - val_loss: 0.1114 - val_accuracy: 0.9639\n",
      "Epoch 35/35\n",
      "11/11 [==============================] - 98s 9s/step - loss: 0.0458 - accuracy: 0.9911 - val_loss: 0.0607 - val_accuracy: 0.9880\n"
     ]
    }
   ],
   "source": [
    "history=Model.fit(x = training_set, validation_data = validation_set, epochs = 35) #check with 16, 16 and 32"
   ]
  },
  {
   "cell_type": "markdown",
   "metadata": {
    "id": "U3PZasO0006Z"
   },
   "source": [
    "## Making a Prediction"
   ]
  },
  {
   "cell_type": "code",
   "execution_count": 43,
   "metadata": {
    "colab": {
     "background_save": true
    },
    "id": "gsSiWEJY1BPB",
    "outputId": "62d166e4-72af-4747-9985-5fd231889168"
   },
   "outputs": [
    {
     "name": "stdout",
     "output_type": "stream",
     "text": [
      "[[1. 0. 0. 0. 0. 0.]]\n",
      "Leaf_1.jpg = Cherry Blossom\n",
      "[[0. 1. 0. 0. 0. 0.]]\n",
      "Leaf_10.jpg = Gingko\n",
      "[[0. 0. 1. 0. 0. 0.]]\n",
      "Leaf_11.jpg = Japanese Maple\n",
      "[[0. 0. 0. 0. 0. 1.]]\n",
      "Leaf_12.jpg = Sweet Gum\n",
      "[[0. 0. 1. 0. 0. 0.]]\n",
      "Leaf_13.jpg = Japanese Maple\n",
      "[[0. 0. 0. 0. 0. 1.]]\n",
      "Leaf_14.jpg = Sweet Gum\n",
      "[[1. 0. 0. 0. 0. 0.]]\n",
      "Leaf_15.jpg = Cherry Blossom\n",
      "[[0. 0. 0. 1. 0. 0.]]\n",
      "Leaf_16.jpg = Red Oak\n",
      "[[1. 0. 0. 0. 0. 0.]]\n",
      "Leaf_17.jpg = Cherry Blossom\n",
      "[[0. 0. 0. 0. 0. 1.]]\n",
      "Leaf_18.jpg = Sweet Gum\n",
      "[[0. 0. 0. 0. 0. 1.]]\n",
      "Leaf_19.jpg = Sweet Gum\n",
      "[[0. 0. 0. 0. 0. 1.]]\n",
      "Leaf_2.jpg = Sweet Gum\n",
      "[[0.000000e+00 0.000000e+00 0.000000e+00 0.000000e+00 8.993203e-36\n",
      "  1.000000e+00]]\n",
      "Leaf_20.jpg = Sweet Gum\n",
      "[[0. 0. 0. 0. 0. 1.]]\n",
      "Leaf_21.jpg = Sweet Gum\n",
      "[[0.000000e+00 1.000000e+00 0.000000e+00 0.000000e+00 0.000000e+00\n",
      "  7.115816e-12]]\n",
      "Leaf_22.jpg = Gingko\n",
      "[[0.0000000e+00 0.0000000e+00 0.0000000e+00 0.0000000e+00 1.0000000e+00\n",
      "  1.0683244e-34]]\n",
      "Leaf_23.jpg = Silver Birch\n",
      "[[0. 0. 1. 0. 0. 0.]]\n",
      "Leaf_24.jpg = Japanese Maple\n",
      "[[0. 1. 0. 0. 0. 0.]]\n",
      "Leaf_25.jpg = Gingko\n",
      "[[0. 0. 0. 0. 0. 1.]]\n",
      "Leaf_3.jpg = Sweet Gum\n",
      "[[0. 0. 0. 0. 0. 1.]]\n",
      "Leaf_4.jpg = Sweet Gum\n",
      "[[0. 0. 1. 0. 0. 0.]]\n",
      "Leaf_5.jpg = Japanese Maple\n",
      "[[0. 0. 0. 0. 0. 1.]]\n",
      "Leaf_6.jpg = Sweet Gum\n",
      "[[0. 0. 0. 1. 0. 0.]]\n",
      "Leaf_7.jpg = Red Oak\n",
      "[[0. 0. 1. 0. 0. 0.]]\n",
      "Leaf_8.jpg = Japanese Maple\n",
      "[[0. 0. 0. 1. 0. 0.]]\n",
      "Leaf_9.jpg = Red Oak\n"
     ]
    }
   ],
   "source": [
    "import numpy as np\n",
    "import os #It is used for file and path manipulation.\n",
    "from keras.preprocessing import image\n",
    "path = r'C:\\Users\\Pegah\\Downloads\\LeavesIdentifier\\Unkown\\Leaf'\n",
    "for img in os.listdir(path): \n",
    "# Iterates over the list of files in the specified directory\n",
    "    test_image = image.load_img(path+\"/\"+img, target_size = (64, 64)) #Loads an image file and resizes it.\n",
    "    test_image = image.img_to_array(test_image) #Converts the image to a NumPy array.\n",
    "    test_image = np.expand_dims(test_image, axis = 0) #Adds an extra dimension to match the model's input shape.\n",
    "    predict = Model.predict(test_image) #Makes another prediction for later use.\n",
    "    print(predict)\n",
    "    if predict[0][0] == 1:\n",
    "        prediction = 'Cherry Blossom'\n",
    "    elif predict[0][1] == 1:\n",
    "        prediction = 'Gingko'\n",
    "    elif predict[0][2] == 1:\n",
    "        prediction = 'Japanese Maple'\n",
    "    elif predict[0][3] == 1:\n",
    "        prediction = 'Red Oak'\n",
    "    elif predict[0][4] == 1:\n",
    "        prediction = 'Silver Birch'\n",
    "    elif predict[0][5] == 1:\n",
    "        prediction = \"Sweet Gum\"\n",
    "    print(img + \" = \"+ prediction)"
   ]
  },
  {
   "cell_type": "code",
   "execution_count": 44,
   "metadata": {
    "colab": {
     "background_save": true
    },
    "id": "nSjwSIwsN_jV",
    "outputId": "90aad194-b927-4ecd-86b8-f320745a3bb5"
   },
   "outputs": [
    {
     "name": "stdout",
     "output_type": "stream",
     "text": [
      "Sweet Gum\n"
     ]
    }
   ],
   "source": [
    "test_image = image.load_img(r'C:\\Users\\Pegah\\Downloads\\LeavesIdentifier\\Unkown\\Leaf\\Leaf_12.jpg', target_size = (64, 64))\n",
    "test_image = image.img_to_array(test_image)\n",
    "test_image = np.expand_dims(test_image, axis = 0)\n",
    "predict = Model.predict(test_image)\n",
    "if predict[0][0] == 1:\n",
    "    prediction = 'Cherry Blossom'\n",
    "elif predict[0][1] == 1:\n",
    "    prediction = 'Gingko'\n",
    "elif predict[0][2] == 1:\n",
    "    prediction = 'Japanese Maple'\n",
    "elif predict[0][3] == 1:\n",
    "    prediction = 'Red Oak'\n",
    "elif predict[0][4] == 1:\n",
    "    prediction = 'Silver Birch'\n",
    "elif predict[0][5] == 1:\n",
    "    prediction = \"Sweet Gum\"\n",
    "print(prediction)"
   ]
  },
  {
   "cell_type": "markdown",
   "metadata": {
    "id": "T12MhWqhN_jV"
   },
   "source": [
    "## Model Accuracy"
   ]
  },
  {
   "cell_type": "code",
   "execution_count": 45,
   "metadata": {},
   "outputs": [
    {
     "name": "stdout",
     "output_type": "stream",
     "text": [
      "dict_keys(['loss', 'accuracy', 'val_loss', 'val_accuracy'])\n"
     ]
    },
    {
     "data": {
      "image/png": "[encoded data removed]",
      "text/plain": [
       "<Figure size 864x432 with 2 Axes>"
      ]
     },
     "metadata": {
      "needs_background": "light"
     },
     "output_type": "display_data"
    }
   ],
   "source": [
    "print(history.history.keys())\n",
    "import matplotlib.pyplot as plt\n",
    "\n",
    "# Plotting learning curves\n",
    "plt.figure(figsize=(12, 6))\n",
    "\n",
    "# Plot training & validation accuracy values\n",
    "plt.subplot(1, 2, 1)\n",
    "plt.plot(history.history['accuracy'])  # Change 'accuracy' to 'acc'\n",
    "plt.plot(history.history['val_accuracy'])  # Change 'val_accuracy' to 'val_acc'\n",
    "plt.title('Model accuracy')\n",
    "plt.ylabel('Accuracy')\n",
    "plt.xlabel('Epoch')\n",
    "plt.legend(['Train', 'Validation-Test'], loc='upper left')\n",
    "\n",
    "# Plot training & validation loss values\n",
    "plt.subplot(1, 2, 2)\n",
    "plt.plot(history.history['loss'])\n",
    "plt.plot(history.history['val_loss'])\n",
    "plt.title('Model loss')\n",
    "plt.ylabel('Loss')\n",
    "plt.xlabel('Epoch')\n",
    "plt.legend(['Train', 'Validation-Test'], loc='upper left')\n",
    "\n",
    "plt.tight_layout()\n",
    "plt.show()"
   ]
  },
  {
   "cell_type": "code",
   "execution_count": 46,
   "metadata": {},
   "outputs": [
    {
     "name": "stdout",
     "output_type": "stream",
     "text": [
      "6/6 [==============================] - 38s 6s/step - loss: 0.2123 - accuracy: 0.9474\n",
      "Test Accuracy: 0.9473684430122375\n"
     ]
    }
   ],
   "source": [
    "test_accuracy = Model.evaluate(test_set)\n",
    "print(f'Test Accuracy: {test_accuracy[1]}')"
   ]
  },
  {
   "cell_type": "markdown",
   "metadata": {
    "id": "xb0r49CCN_jW"
   },
   "source": [
    "#### The CNN classification model was found to be 94.74 % accurate on test set. "
   ]
  },
  {
   "cell_type": "markdown",
   "metadata": {
    "id": "_72IfPNtN_jW"
   },
   "source": [
    "##### End"
   ]
  }
 ],
 "metadata": {
  "colab": {
   "collapsed_sections": [],
   "provenance": [],
   "toc_visible": true
  },
  "kernelspec": {
   "display_name": "Python 3 (ipykernel)",
   "language": "python",
   "name": "python3"
  },
  "language_info": {
   "codemirror_mode": {
    "name": "ipython",
    "version": 3
   },
   "file_extension": ".py",
   "mimetype": "text/x-python",
   "name": "python",
   "nbconvert_exporter": "python",
   "pygments_lexer": "ipython3",
   "version": "3.9.8"
  },
  "toc": {
   "base_numbering": 1,
   "nav_menu": {},
   "number_sections": true,
   "sideBar": true,
   "skip_h1_title": false,
   "title_cell": "Table of Contents",
   "title_sidebar": "Contents",
   "toc_cell": false,
   "toc_position": {},
   "toc_section_display": true,
   "toc_window_display": false
  },
  "varInspector": {
   "cols": {
    "lenName": 16,
    "lenType": 16,
    "lenVar": 40
   },
   "kernels_config": {
    "python": {
     "delete_cmd_postfix": "",
     "delete_cmd_prefix": "del ",
     "library": "var_list.py",
     "varRefreshCmd": "print(var_dic_list())"
    },
    "r": {
     "delete_cmd_postfix": ") ",
     "delete_cmd_prefix": "rm(",
     "library": "var_list.r",
     "varRefreshCmd": "cat(var_dic_list()) "
    }
   },
   "types_to_exclude": [
    "module",
    "function",
    "builtin_function_or_method",
    "instance",
    "_Feature"
   ],
   "window_display": false
  }
 },
 "nbformat": 4,
 "nbformat_minor": 1
}

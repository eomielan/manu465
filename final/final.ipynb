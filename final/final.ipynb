{
 "cells": [
  {
   "cell_type": "markdown",
   "metadata": {},
   "source": [
    "# Near-infrared (NIR) spectroscopy"
   ]
  },
  {
   "cell_type": "markdown",
   "metadata": {},
   "source": [
    "## Description"
   ]
  },
  {
   "cell_type": "markdown",
   "metadata": {},
   "source": [
    "This Jupyter notebook explores the application of machine learning techniques to predict the Module of Elasticity (MOE) of wood samples using a dataset obtained through near-infrared (NIR) spectroscopy. The goal is to assess the feasibility of leveraging non-destructive and cost-effective NIR measurements as predictors, circumventing the need for the traditional, time-consuming, and expensive MOE testing process."
   ]
  },
  {
   "cell_type": "markdown",
   "metadata": {},
   "source": [
    "## Imports"
   ]
  },
  {
   "cell_type": "code",
   "execution_count": 236,
   "metadata": {},
   "outputs": [],
   "source": [
    "import pandas as pd\n",
    "from sklearn.model_selection import train_test_split\n",
    "from sklearn.preprocessing import PolynomialFeatures, StandardScaler\n",
    "from sklearn.linear_model import LinearRegression\n",
    "from sklearn.svm import SVR\n",
    "from sklearn.tree import DecisionTreeRegressor\n",
    "from sklearn.metrics import r2_score\n",
    "import tensorflow as tf\n",
    "from sklearn.decomposition import PCA\n",
    "from sklearn.ensemble import RandomForestRegressor"
   ]
  },
  {
   "cell_type": "markdown",
   "metadata": {},
   "source": [
    "## Prepare dataset"
   ]
  },
  {
   "cell_type": "code",
   "execution_count": 237,
   "metadata": {},
   "outputs": [],
   "source": [
    "df = pd.read_csv('Dataset.csv')"
   ]
  },
  {
   "cell_type": "markdown",
   "metadata": {},
   "source": [
    "## Seperate features and target variable"
   ]
  },
  {
   "cell_type": "code",
   "execution_count": 238,
   "metadata": {},
   "outputs": [],
   "source": [
    "X = df.iloc[:, :-1].values  # X1-X692\n",
    "y = df.iloc[:, -1].values   # Module of Elasticity (MOE)"
   ]
  },
  {
   "cell_type": "markdown",
   "metadata": {},
   "source": [
    "## Split dataset into training and testing sets"
   ]
  },
  {
   "cell_type": "code",
   "execution_count": 239,
   "metadata": {},
   "outputs": [],
   "source": [
    "X_train, X_test, y_train, y_test = train_test_split(X, y, test_size=0.2, random_state=42)"
   ]
  },
  {
   "cell_type": "markdown",
   "metadata": {},
   "source": [
    "## Feature scalling"
   ]
  },
  {
   "cell_type": "code",
   "execution_count": 240,
   "metadata": {},
   "outputs": [],
   "source": [
    "scaler = StandardScaler()\n",
    "X_train_scaled = scaler.fit_transform(X_train)\n",
    "X_test_scaled = scaler.transform(X_test)"
   ]
  },
  {
   "cell_type": "markdown",
   "metadata": {},
   "source": [
    "## Regular ML Methods without PCA"
   ]
  },
  {
   "cell_type": "markdown",
   "metadata": {},
   "source": [
    "### Linear/Polynomial regression"
   ]
  },
  {
   "cell_type": "code",
   "execution_count": 242,
   "metadata": {},
   "outputs": [],
   "source": [
    "poly = PolynomialFeatures(degree=2)\n",
    "X_train_poly = poly.fit_transform(X_train_scaled)\n",
    "X_test_poly = poly.transform(X_test_scaled)\n",
    "\n",
    "linear_reg = LinearRegression()\n",
    "linear_reg.fit(X_train_scaled, y_train)\n",
    "y_train_pred = linear_reg.predict(X_train_scaled)\n",
    "y_test_pred = linear_reg.predict(X_test_scaled)"
   ]
  },
  {
   "cell_type": "code",
   "execution_count": 243,
   "metadata": {},
   "outputs": [
    {
     "name": "stdout",
     "output_type": "stream",
     "text": [
      "Linear Regression without PCA:\n",
      "R-Squared (Train): 0.999261537443521\n",
      "R-Squared (Test): -3.3054466735925875e+19\n"
     ]
    }
   ],
   "source": [
    "# Evaluate performance\n",
    "print(\"Linear Regression without PCA:\")\n",
    "print(\"R-Squared (Train):\", r2_score(y_train, y_train_pred))\n",
    "print(\"R-Squared (Test):\", r2_score(y_test, y_test_pred))"
   ]
  },
  {
   "cell_type": "markdown",
   "metadata": {},
   "source": [
    "### Support Vector Regression (SVR)"
   ]
  },
  {
   "cell_type": "code",
   "execution_count": 244,
   "metadata": {},
   "outputs": [],
   "source": [
    "svr_reg = SVR(kernel='linear')\n",
    "svr_reg.fit(X_train_scaled, y_train)\n",
    "y_train_pred_svr = svr_reg.predict(X_train_scaled)\n",
    "y_test_pred_svr = svr_reg.predict(X_test_scaled)"
   ]
  },
  {
   "cell_type": "code",
   "execution_count": null,
   "metadata": {},
   "outputs": [
    {
     "name": "stdout",
     "output_type": "stream",
     "text": [
      "\n",
      "Support Vector Regression without PCA:\n",
      "R-Squared (Train): 0.7681718441930887\n",
      "R-Squared (Test): 0.4890444061345952\n"
     ]
    }
   ],
   "source": [
    "# Evaluate performance\n",
    "print(\"\\nSupport Vector Regression without PCA:\")\n",
    "print(\"R-Squared (Train):\", r2_score(y_train, y_train_pred_svr))\n",
    "print(\"R-Squared (Test):\", r2_score(y_test, y_test_pred_svr))"
   ]
  },
  {
   "cell_type": "markdown",
   "metadata": {},
   "source": [
    "### Decision Tree regression"
   ]
  },
  {
   "cell_type": "code",
   "execution_count": null,
   "metadata": {},
   "outputs": [],
   "source": [
    "tree_reg = DecisionTreeRegressor(random_state=42)\n",
    "tree_reg.fit(X_train_scaled, y_train)\n",
    "y_train_pred_tree = tree_reg.predict(X_train_scaled)\n",
    "y_test_pred_tree = tree_reg.predict(X_test_scaled)"
   ]
  },
  {
   "cell_type": "code",
   "execution_count": null,
   "metadata": {},
   "outputs": [
    {
     "name": "stdout",
     "output_type": "stream",
     "text": [
      "\n",
      "Decision Tree Regression without PCA:\n",
      "R-Squared (Train): 0.999287269693166\n",
      "R-Squared (Test): 0.1136546657592965\n"
     ]
    }
   ],
   "source": [
    "# Evaluate performance\n",
    "print(\"\\nDecision Tree Regression without PCA:\")\n",
    "print(\"R-Squared (Train):\", r2_score(y_train, y_train_pred_tree))\n",
    "print(\"R-Squared (Test):\", r2_score(y_test, y_test_pred_tree))"
   ]
  },
  {
   "cell_type": "markdown",
   "metadata": {},
   "source": [
    "## Random Forest without PCA"
   ]
  },
  {
   "cell_type": "code",
   "execution_count": null,
   "metadata": {},
   "outputs": [],
   "source": [
    "rf_regressor = RandomForestRegressor(n_estimators=100, random_state=42)\n",
    "rf_regressor.fit(X_train_scaled, y_train)\n",
    "y_train_pred_rf = rf_regressor.predict(X_train_scaled)\n",
    "y_test_pred_rf = rf_regressor.predict(X_test_scaled)"
   ]
  },
  {
   "cell_type": "code",
   "execution_count": null,
   "metadata": {},
   "outputs": [
    {
     "name": "stdout",
     "output_type": "stream",
     "text": [
      "Random Forest Regression:\n",
      "R-Squared (Train): 0.948756193097532\n",
      "R-Squared (Test): 0.5680383908731111\n"
     ]
    }
   ],
   "source": [
    "r2_train_rf = r2_score(y_train, y_train_pred_rf)\n",
    "r2_test_rf = r2_score(y_test, y_test_pred_rf)\n",
    "\n",
    "print(\"Random Forest Regression:\")\n",
    "print(\"R-Squared (Train):\", r2_train_rf)\n",
    "print(\"R-Squared (Test):\", r2_test_rf)"
   ]
  },
  {
   "cell_type": "markdown",
   "metadata": {},
   "source": [
    "## ANN without PCA"
   ]
  },
  {
   "cell_type": "markdown",
   "metadata": {},
   "source": [
    "### Initializing the ANN"
   ]
  },
  {
   "cell_type": "code",
   "execution_count": null,
   "metadata": {},
   "outputs": [],
   "source": [
    "ann = tf.keras.models.Sequential()"
   ]
  },
  {
   "cell_type": "markdown",
   "metadata": {},
   "source": [
    "### Adding the input layer"
   ]
  },
  {
   "cell_type": "code",
   "execution_count": null,
   "metadata": {},
   "outputs": [],
   "source": [
    "ann.add(tf.keras.layers.Input(shape=(692,)))  # Input layer for 692 sensors"
   ]
  },
  {
   "cell_type": "markdown",
   "metadata": {},
   "source": [
    "### Adding two hidden layers"
   ]
  },
  {
   "cell_type": "code",
   "execution_count": null,
   "metadata": {},
   "outputs": [],
   "source": [
    "ann.add(tf.keras.layers.Dense(128, activation='relu'))\n",
    "ann.add(tf.keras.layers.Dropout(0.3))\n",
    "ann.add(tf.keras.layers.Dense(64, activation='relu'))\n",
    "ann.add(tf.keras.layers.Dropout(0.3))"
   ]
  },
  {
   "cell_type": "markdown",
   "metadata": {},
   "source": [
    "### Adding the output layer"
   ]
  },
  {
   "cell_type": "code",
   "execution_count": null,
   "metadata": {},
   "outputs": [],
   "source": [
    "ann.add(tf.keras.layers.Dense(units=1, activation='linear'))  # Linear activation for regression"
   ]
  },
  {
   "cell_type": "markdown",
   "metadata": {},
   "source": [
    "### Compiling the ANN"
   ]
  },
  {
   "cell_type": "code",
   "execution_count": null,
   "metadata": {},
   "outputs": [],
   "source": [
    "ann.compile(optimizer=tf.keras.optimizers.Adam(learning_rate=0.001), loss='mean_squared_error')"
   ]
  },
  {
   "cell_type": "markdown",
   "metadata": {},
   "source": [
    "### Training the ANN"
   ]
  },
  {
   "cell_type": "code",
   "execution_count": null,
   "metadata": {},
   "outputs": [
    {
     "name": "stdout",
     "output_type": "stream",
     "text": [
      "Epoch 1/70\n"
     ]
    },
    {
     "name": "stdout",
     "output_type": "stream",
     "text": [
      "51/51 [==============================] - 2s 8ms/step - loss: 573.5488 - val_loss: 120.7969\n",
      "Epoch 2/70\n",
      "51/51 [==============================] - 0s 7ms/step - loss: 146.6512 - val_loss: 83.3364\n",
      "Epoch 3/70\n",
      "51/51 [==============================] - 0s 4ms/step - loss: 123.3996 - val_loss: 61.0209\n",
      "Epoch 4/70\n",
      "51/51 [==============================] - 0s 6ms/step - loss: 97.6654 - val_loss: 45.1031\n",
      "Epoch 5/70\n",
      "51/51 [==============================] - 0s 5ms/step - loss: 88.7025 - val_loss: 38.5603\n",
      "Epoch 6/70\n",
      "51/51 [==============================] - 0s 4ms/step - loss: 78.3798 - val_loss: 38.3982\n",
      "Epoch 7/70\n",
      "51/51 [==============================] - 0s 5ms/step - loss: 70.1990 - val_loss: 33.2538\n",
      "Epoch 8/70\n",
      "51/51 [==============================] - 0s 5ms/step - loss: 74.8477 - val_loss: 33.5851\n",
      "Epoch 9/70\n",
      "51/51 [==============================] - 0s 6ms/step - loss: 69.5395 - val_loss: 40.7064\n",
      "Epoch 10/70\n",
      "51/51 [==============================] - 0s 6ms/step - loss: 72.0748 - val_loss: 27.6252\n",
      "Epoch 11/70\n",
      "51/51 [==============================] - 0s 6ms/step - loss: 68.8436 - val_loss: 24.7229\n",
      "Epoch 12/70\n",
      "51/51 [==============================] - 0s 5ms/step - loss: 62.4318 - val_loss: 30.5060\n",
      "Epoch 13/70\n",
      "51/51 [==============================] - 0s 5ms/step - loss: 61.7522 - val_loss: 23.2436\n",
      "Epoch 14/70\n",
      "51/51 [==============================] - 0s 4ms/step - loss: 59.4451 - val_loss: 26.7310\n",
      "Epoch 15/70\n",
      "51/51 [==============================] - 0s 6ms/step - loss: 58.8256 - val_loss: 22.8098\n",
      "Epoch 16/70\n",
      "51/51 [==============================] - 0s 6ms/step - loss: 60.1503 - val_loss: 24.3410\n",
      "Epoch 17/70\n",
      "51/51 [==============================] - 0s 4ms/step - loss: 53.1462 - val_loss: 20.6411\n",
      "Epoch 18/70\n",
      "51/51 [==============================] - 0s 7ms/step - loss: 53.5924 - val_loss: 26.1753\n",
      "Epoch 19/70\n",
      "51/51 [==============================] - 0s 5ms/step - loss: 53.2077 - val_loss: 22.8473\n",
      "Epoch 20/70\n",
      "51/51 [==============================] - 0s 6ms/step - loss: 51.7019 - val_loss: 18.5455\n",
      "Epoch 21/70\n",
      "51/51 [==============================] - 0s 4ms/step - loss: 47.8883 - val_loss: 21.6386\n",
      "Epoch 22/70\n",
      "51/51 [==============================] - 0s 5ms/step - loss: 50.1180 - val_loss: 17.3102\n",
      "Epoch 23/70\n",
      "51/51 [==============================] - 0s 4ms/step - loss: 49.1870 - val_loss: 18.5984\n",
      "Epoch 24/70\n",
      "51/51 [==============================] - 0s 6ms/step - loss: 44.9269 - val_loss: 18.3309\n",
      "Epoch 25/70\n",
      "51/51 [==============================] - 0s 8ms/step - loss: 44.8519 - val_loss: 22.5791\n",
      "Epoch 26/70\n",
      "51/51 [==============================] - 0s 4ms/step - loss: 48.1555 - val_loss: 22.6198\n",
      "Epoch 27/70\n",
      "51/51 [==============================] - 0s 6ms/step - loss: 48.3515 - val_loss: 17.6047\n",
      "Epoch 28/70\n",
      "51/51 [==============================] - 0s 4ms/step - loss: 49.5779 - val_loss: 17.0851\n",
      "Epoch 29/70\n",
      "51/51 [==============================] - 0s 5ms/step - loss: 48.5272 - val_loss: 16.7180\n",
      "Epoch 30/70\n",
      "51/51 [==============================] - 0s 4ms/step - loss: 44.8827 - val_loss: 15.5194\n",
      "Epoch 31/70\n",
      "51/51 [==============================] - 0s 4ms/step - loss: 42.9629 - val_loss: 18.1869\n",
      "Epoch 32/70\n",
      "51/51 [==============================] - 0s 4ms/step - loss: 45.3231 - val_loss: 15.5991\n",
      "Epoch 33/70\n",
      "51/51 [==============================] - 0s 4ms/step - loss: 45.4590 - val_loss: 16.0753\n",
      "Epoch 34/70\n",
      "51/51 [==============================] - 0s 4ms/step - loss: 44.4025 - val_loss: 15.7795\n",
      "Epoch 35/70\n",
      "51/51 [==============================] - 0s 4ms/step - loss: 46.3308 - val_loss: 18.2121\n",
      "Epoch 36/70\n",
      "51/51 [==============================] - 0s 4ms/step - loss: 41.9574 - val_loss: 15.2032\n",
      "Epoch 37/70\n",
      "51/51 [==============================] - 0s 4ms/step - loss: 40.5429 - val_loss: 17.3121\n",
      "Epoch 38/70\n",
      "51/51 [==============================] - 0s 4ms/step - loss: 43.7147 - val_loss: 14.1924\n",
      "Epoch 39/70\n",
      "51/51 [==============================] - 0s 4ms/step - loss: 43.2888 - val_loss: 16.7301\n",
      "Epoch 40/70\n",
      "51/51 [==============================] - 0s 4ms/step - loss: 42.3558 - val_loss: 16.7043\n",
      "Epoch 41/70\n",
      "51/51 [==============================] - 0s 4ms/step - loss: 42.5236 - val_loss: 16.2105\n",
      "Epoch 42/70\n",
      "51/51 [==============================] - 0s 6ms/step - loss: 40.0549 - val_loss: 16.3968\n",
      "Epoch 43/70\n",
      "51/51 [==============================] - 0s 4ms/step - loss: 40.8208 - val_loss: 18.2651\n",
      "Epoch 44/70\n",
      "51/51 [==============================] - 0s 4ms/step - loss: 41.9172 - val_loss: 12.6324\n",
      "Epoch 45/70\n",
      "51/51 [==============================] - 0s 5ms/step - loss: 43.3651 - val_loss: 13.4794\n",
      "Epoch 46/70\n",
      "51/51 [==============================] - 0s 6ms/step - loss: 43.9417 - val_loss: 14.0666\n",
      "Epoch 47/70\n",
      "51/51 [==============================] - 0s 4ms/step - loss: 40.3623 - val_loss: 15.2762\n",
      "Epoch 48/70\n",
      "51/51 [==============================] - 0s 4ms/step - loss: 41.4750 - val_loss: 16.4481\n",
      "Epoch 49/70\n",
      "51/51 [==============================] - 0s 7ms/step - loss: 39.7812 - val_loss: 16.1903\n",
      "Epoch 50/70\n",
      "51/51 [==============================] - 0s 4ms/step - loss: 41.6980 - val_loss: 22.4758\n",
      "Epoch 51/70\n",
      "51/51 [==============================] - 0s 4ms/step - loss: 38.8331 - val_loss: 14.9137\n",
      "Epoch 52/70\n",
      "51/51 [==============================] - 0s 4ms/step - loss: 41.5049 - val_loss: 13.8999\n",
      "Epoch 53/70\n",
      "51/51 [==============================] - 0s 4ms/step - loss: 40.0355 - val_loss: 21.2397\n",
      "Epoch 54/70\n",
      "51/51 [==============================] - 0s 6ms/step - loss: 39.8605 - val_loss: 13.3973\n",
      "Epoch 55/70\n",
      "51/51 [==============================] - 0s 5ms/step - loss: 36.5600 - val_loss: 12.1593\n",
      "Epoch 56/70\n",
      "51/51 [==============================] - 0s 5ms/step - loss: 38.1606 - val_loss: 15.5528\n",
      "Epoch 57/70\n",
      "51/51 [==============================] - 0s 4ms/step - loss: 39.1023 - val_loss: 14.8247\n",
      "Epoch 58/70\n",
      "51/51 [==============================] - 0s 4ms/step - loss: 38.9137 - val_loss: 18.4325\n",
      "Epoch 59/70\n",
      "51/51 [==============================] - 0s 4ms/step - loss: 36.4016 - val_loss: 12.6854\n",
      "Epoch 60/70\n",
      "51/51 [==============================] - 0s 7ms/step - loss: 38.0109 - val_loss: 13.0904\n",
      "Epoch 61/70\n",
      "51/51 [==============================] - 0s 5ms/step - loss: 35.0121 - val_loss: 13.3015\n",
      "Epoch 62/70\n",
      "51/51 [==============================] - 0s 5ms/step - loss: 34.4934 - val_loss: 12.7873\n",
      "Epoch 63/70\n",
      "51/51 [==============================] - 0s 5ms/step - loss: 35.5695 - val_loss: 13.3107\n",
      "Epoch 64/70\n",
      "51/51 [==============================] - 0s 5ms/step - loss: 36.1997 - val_loss: 12.4889\n",
      "Epoch 65/70\n",
      "51/51 [==============================] - 0s 5ms/step - loss: 35.3036 - val_loss: 12.2892\n",
      "Epoch 66/70\n",
      "51/51 [==============================] - 0s 4ms/step - loss: 34.2947 - val_loss: 12.2788\n",
      "Epoch 67/70\n",
      "51/51 [==============================] - 0s 8ms/step - loss: 34.8055 - val_loss: 12.8777\n",
      "Epoch 68/70\n",
      "51/51 [==============================] - 0s 5ms/step - loss: 34.7766 - val_loss: 12.5745\n",
      "Epoch 69/70\n",
      "51/51 [==============================] - 0s 5ms/step - loss: 35.8458 - val_loss: 11.0715\n",
      "Epoch 70/70\n",
      "51/51 [==============================] - 0s 4ms/step - loss: 34.2269 - val_loss: 13.1965\n"
     ]
    },
    {
     "data": {
      "text/plain": [
       "<keras.src.callbacks.History at 0x7fcfa70d6490>"
      ]
     },
     "execution_count": 205,
     "metadata": {},
     "output_type": "execute_result"
    }
   ],
   "source": [
    "ann.fit(X_train_scaled, y_train, epochs=70, batch_size=32, validation_data=(X_test_scaled, y_test))"
   ]
  },
  {
   "cell_type": "markdown",
   "metadata": {},
   "source": [
    "### Evaluate the ANN"
   ]
  },
  {
   "cell_type": "code",
   "execution_count": null,
   "metadata": {},
   "outputs": [
    {
     "name": "stdout",
     "output_type": "stream",
     "text": [
      "51/51 [==============================] - 0s 3ms/step\n",
      "13/13 [==============================] - 0s 3ms/step\n"
     ]
    }
   ],
   "source": [
    "y_train_pred = ann.predict(X_train_scaled)\n",
    "y_test_pred = ann.predict(X_test_scaled)"
   ]
  },
  {
   "cell_type": "code",
   "execution_count": null,
   "metadata": {},
   "outputs": [
    {
     "name": "stdout",
     "output_type": "stream",
     "text": [
      "\n",
      "ANN Regression without PCA:\n",
      "R-Squared (Train): -0.21013493123434457\n",
      "R-Squared (Test): -1.0518978045835317\n"
     ]
    }
   ],
   "source": [
    "# Evaluate performance\n",
    "r2_train = r2_score(y_train, y_train_pred)\n",
    "r2_test = r2_score(y_test, y_test_pred)\n",
    "\n",
    "print(\"\\nANN Regression without PCA:\")\n",
    "print(\"R-Squared (Train):\", r2_train)\n",
    "print(\"R-Squared (Test):\", r2_test)"
   ]
  },
  {
   "cell_type": "markdown",
   "metadata": {},
   "source": [
    "## Perform PCA"
   ]
  },
  {
   "cell_type": "code",
   "execution_count": null,
   "metadata": {},
   "outputs": [],
   "source": [
    "pca = PCA(n_components=10)\n",
    "X_pca = pca.fit_transform(X)"
   ]
  },
  {
   "cell_type": "markdown",
   "metadata": {},
   "source": [
    "Check preserved data"
   ]
  },
  {
   "cell_type": "code",
   "execution_count": null,
   "metadata": {},
   "outputs": [
    {
     "name": "stdout",
     "output_type": "stream",
     "text": [
      "Percentage of information preserved: 97.56%\n"
     ]
    }
   ],
   "source": [
    "explained_variance_ratio = pca.explained_variance_ratio_\n",
    "info_preserved = sum(explained_variance_ratio[:10]) * 100\n",
    "print(f'Percentage of information preserved: {info_preserved:.2f}%')"
   ]
  },
  {
   "cell_type": "markdown",
   "metadata": {},
   "source": [
    "## Split dataset into training and testing sets POST PCA"
   ]
  },
  {
   "cell_type": "code",
   "execution_count": null,
   "metadata": {},
   "outputs": [],
   "source": [
    "X_train, X_test, y_train, y_test = train_test_split(X_pca, y, test_size=0.2, random_state=42)"
   ]
  },
  {
   "cell_type": "markdown",
   "metadata": {},
   "source": [
    "## Feature scalling POST PCA"
   ]
  },
  {
   "cell_type": "code",
   "execution_count": null,
   "metadata": {},
   "outputs": [],
   "source": [
    "scaler = StandardScaler()\n",
    "X_train_scaled = scaler.fit_transform(X_train)\n",
    "X_test_scaled = scaler.transform(X_test)"
   ]
  },
  {
   "cell_type": "markdown",
   "metadata": {},
   "source": [
    "## Regular ML Methods with PCA"
   ]
  },
  {
   "cell_type": "markdown",
   "metadata": {},
   "source": [
    "### Linear/Polynomial regression"
   ]
  },
  {
   "cell_type": "code",
   "execution_count": null,
   "metadata": {},
   "outputs": [],
   "source": [
    "linear_reg = LinearRegression()\n",
    "linear_reg.fit(X_train_scaled, y_train)\n",
    "y_train_pred = linear_reg.predict(X_train_scaled)\n",
    "y_test_pred = linear_reg.predict(X_test_scaled)"
   ]
  },
  {
   "cell_type": "code",
   "execution_count": null,
   "metadata": {},
   "outputs": [
    {
     "name": "stdout",
     "output_type": "stream",
     "text": [
      "Linear Regression with PCA:\n",
      "R-Squared (Train): 0.58711343998836\n",
      "R-Squared (Test): 0.4661807873411422\n"
     ]
    }
   ],
   "source": [
    "# Evaluate performance\n",
    "print(\"Linear Regression with PCA:\")\n",
    "print(\"R-Squared (Train):\", r2_score(y_train, y_train_pred))\n",
    "print(\"R-Squared (Test):\", r2_score(y_test, y_test_pred))"
   ]
  },
  {
   "cell_type": "markdown",
   "metadata": {},
   "source": [
    "### Support Vector Regression (SVR)"
   ]
  },
  {
   "cell_type": "code",
   "execution_count": null,
   "metadata": {},
   "outputs": [],
   "source": [
    "svr_reg = SVR(kernel='linear')\n",
    "svr_reg.fit(X_train_scaled, y_train)\n",
    "y_train_pred_svr = svr_reg.predict(X_train_scaled)\n",
    "y_test_pred_svr = svr_reg.predict(X_test_scaled)"
   ]
  },
  {
   "cell_type": "code",
   "execution_count": null,
   "metadata": {},
   "outputs": [
    {
     "name": "stdout",
     "output_type": "stream",
     "text": [
      "\n",
      "Support Vector Regression with PCA:\n",
      "R-Squared (Train): 0.5862756200153221\n",
      "R-Squared (Test): 0.46531346694390485\n"
     ]
    }
   ],
   "source": [
    "# Evaluate performance\n",
    "print(\"\\nSupport Vector Regression with PCA:\")\n",
    "print(\"R-Squared (Train):\", r2_score(y_train, y_train_pred_svr))\n",
    "print(\"R-Squared (Test):\", r2_score(y_test, y_test_pred_svr))"
   ]
  },
  {
   "cell_type": "markdown",
   "metadata": {},
   "source": [
    "### Decision Tree regression"
   ]
  },
  {
   "cell_type": "code",
   "execution_count": null,
   "metadata": {},
   "outputs": [],
   "source": [
    "tree_reg = DecisionTreeRegressor(random_state=42)\n",
    "tree_reg.fit(X_train_scaled, y_train)\n",
    "y_train_pred_tree = tree_reg.predict(X_train_scaled)\n",
    "y_test_pred_tree = tree_reg.predict(X_test_scaled)"
   ]
  },
  {
   "cell_type": "code",
   "execution_count": null,
   "metadata": {},
   "outputs": [
    {
     "name": "stdout",
     "output_type": "stream",
     "text": [
      "\n",
      "Decision Tree Regression with PCA:\n",
      "R-Squared (Train): 0.999287269693166\n",
      "R-Squared (Test): -0.0110425423249505\n"
     ]
    }
   ],
   "source": [
    "# Evaluate performance\n",
    "print(\"\\nDecision Tree Regression with PCA:\")\n",
    "print(\"R-Squared (Train):\", r2_score(y_train, y_train_pred_tree))\n",
    "print(\"R-Squared (Test):\", r2_score(y_test, y_test_pred_tree))"
   ]
  },
  {
   "cell_type": "markdown",
   "metadata": {},
   "source": [
    "## ANN with PCA"
   ]
  },
  {
   "cell_type": "markdown",
   "metadata": {},
   "source": [
    "### Initializing the ANN"
   ]
  },
  {
   "cell_type": "code",
   "execution_count": null,
   "metadata": {},
   "outputs": [],
   "source": [
    "ann = tf.keras.models.Sequential()"
   ]
  },
  {
   "cell_type": "markdown",
   "metadata": {},
   "source": [
    "### Adding the input layer"
   ]
  },
  {
   "cell_type": "code",
   "execution_count": null,
   "metadata": {},
   "outputs": [],
   "source": [
    "ann.add(tf.keras.layers.Input(shape=(10,)))  # Input layer for 10 sensors"
   ]
  },
  {
   "cell_type": "markdown",
   "metadata": {},
   "source": [
    "### Adding one hidden layer"
   ]
  },
  {
   "cell_type": "code",
   "execution_count": null,
   "metadata": {},
   "outputs": [],
   "source": [
    "ann.add(tf.keras.layers.Dense(4, activation='relu'))\n",
    "ann.add(tf.keras.layers.Dropout(0.3))"
   ]
  },
  {
   "cell_type": "markdown",
   "metadata": {},
   "source": [
    "### Adding the output layer"
   ]
  },
  {
   "cell_type": "code",
   "execution_count": null,
   "metadata": {},
   "outputs": [],
   "source": [
    "ann.add(tf.keras.layers.Dense(units=1, activation='linear'))  # Linear activation for regression"
   ]
  },
  {
   "cell_type": "markdown",
   "metadata": {},
   "source": [
    "### Compiling the ANN"
   ]
  },
  {
   "cell_type": "code",
   "execution_count": null,
   "metadata": {},
   "outputs": [],
   "source": [
    "ann.compile(optimizer='adam', loss='mean_squared_error')  # Use mean squared error for regression"
   ]
  },
  {
   "cell_type": "markdown",
   "metadata": {},
   "source": [
    "### Training the ANN"
   ]
  },
  {
   "cell_type": "code",
   "execution_count": null,
   "metadata": {},
   "outputs": [
    {
     "name": "stdout",
     "output_type": "stream",
     "text": [
      "Epoch 1/50\n"
     ]
    },
    {
     "name": "stdout",
     "output_type": "stream",
     "text": [
      "51/51 [==============================] - 1s 7ms/step - loss: 1723.6324 - val_loss: 1679.5109\n",
      "Epoch 2/50\n",
      "51/51 [==============================] - 0s 8ms/step - loss: 1702.4026 - val_loss: 1658.3262\n",
      "Epoch 3/50\n",
      "51/51 [==============================] - 0s 4ms/step - loss: 1677.8578 - val_loss: 1638.2557\n",
      "Epoch 4/50\n",
      "51/51 [==============================] - 0s 4ms/step - loss: 1658.4952 - val_loss: 1618.8960\n",
      "Epoch 5/50\n",
      "51/51 [==============================] - 0s 4ms/step - loss: 1638.2559 - val_loss: 1600.8181\n",
      "Epoch 6/50\n",
      "51/51 [==============================] - 0s 4ms/step - loss: 1619.2839 - val_loss: 1583.0236\n",
      "Epoch 7/50\n",
      "51/51 [==============================] - 0s 6ms/step - loss: 1599.6741 - val_loss: 1566.1707\n",
      "Epoch 8/50\n",
      "51/51 [==============================] - 0s 3ms/step - loss: 1583.0522 - val_loss: 1549.4850\n",
      "Epoch 9/50\n",
      "51/51 [==============================] - 0s 3ms/step - loss: 1568.7063 - val_loss: 1533.2013\n",
      "Epoch 10/50\n",
      "51/51 [==============================] - 0s 3ms/step - loss: 1551.6027 - val_loss: 1516.8785\n",
      "Epoch 11/50\n",
      "51/51 [==============================] - 0s 3ms/step - loss: 1533.5370 - val_loss: 1500.0360\n",
      "Epoch 12/50\n",
      "51/51 [==============================] - 0s 3ms/step - loss: 1515.7484 - val_loss: 1482.6934\n",
      "Epoch 13/50\n",
      "51/51 [==============================] - 0s 3ms/step - loss: 1498.2913 - val_loss: 1464.7616\n",
      "Epoch 14/50\n",
      "51/51 [==============================] - 0s 3ms/step - loss: 1480.1722 - val_loss: 1446.4827\n",
      "Epoch 15/50\n",
      "51/51 [==============================] - 0s 3ms/step - loss: 1465.6279 - val_loss: 1427.9678\n",
      "Epoch 16/50\n",
      "51/51 [==============================] - 0s 4ms/step - loss: 1440.6853 - val_loss: 1408.5934\n",
      "Epoch 17/50\n",
      "51/51 [==============================] - 0s 3ms/step - loss: 1426.7974 - val_loss: 1389.4583\n",
      "Epoch 18/50\n",
      "51/51 [==============================] - 0s 3ms/step - loss: 1404.5795 - val_loss: 1369.4558\n",
      "Epoch 19/50\n",
      "51/51 [==============================] - 0s 5ms/step - loss: 1385.7986 - val_loss: 1349.0208\n",
      "Epoch 20/50\n",
      "51/51 [==============================] - 0s 4ms/step - loss: 1365.3549 - val_loss: 1328.8420\n",
      "Epoch 21/50\n",
      "51/51 [==============================] - 0s 4ms/step - loss: 1345.6646 - val_loss: 1307.9927\n",
      "Epoch 22/50\n",
      "51/51 [==============================] - 0s 4ms/step - loss: 1333.2275 - val_loss: 1287.7887\n",
      "Epoch 23/50\n",
      "51/51 [==============================] - 0s 4ms/step - loss: 1307.9285 - val_loss: 1267.1841\n",
      "Epoch 24/50\n",
      "51/51 [==============================] - 0s 3ms/step - loss: 1290.0100 - val_loss: 1246.5164\n",
      "Epoch 25/50\n",
      "51/51 [==============================] - 0s 4ms/step - loss: 1280.2643 - val_loss: 1226.4806\n",
      "Epoch 26/50\n",
      "51/51 [==============================] - 0s 3ms/step - loss: 1262.6173 - val_loss: 1206.2922\n",
      "Epoch 27/50\n",
      "51/51 [==============================] - 0s 4ms/step - loss: 1239.2799 - val_loss: 1186.2487\n",
      "Epoch 28/50\n",
      "51/51 [==============================] - 0s 4ms/step - loss: 1216.7766 - val_loss: 1166.1299\n",
      "Epoch 29/50\n",
      "51/51 [==============================] - 0s 4ms/step - loss: 1182.0557 - val_loss: 1145.4586\n",
      "Epoch 30/50\n",
      "51/51 [==============================] - 0s 4ms/step - loss: 1177.6765 - val_loss: 1125.2957\n",
      "Epoch 31/50\n",
      "51/51 [==============================] - 0s 3ms/step - loss: 1162.9639 - val_loss: 1106.0690\n",
      "Epoch 32/50\n",
      "51/51 [==============================] - 0s 3ms/step - loss: 1123.9976 - val_loss: 1086.3500\n",
      "Epoch 33/50\n",
      "51/51 [==============================] - 0s 3ms/step - loss: 1134.0045 - val_loss: 1067.6510\n",
      "Epoch 34/50\n",
      "51/51 [==============================] - 0s 3ms/step - loss: 1104.3887 - val_loss: 1048.6680\n",
      "Epoch 35/50\n",
      "51/51 [==============================] - 0s 4ms/step - loss: 1100.1204 - val_loss: 1030.4952\n",
      "Epoch 36/50\n",
      "51/51 [==============================] - 0s 3ms/step - loss: 1074.2855 - val_loss: 1012.2443\n",
      "Epoch 37/50\n",
      "51/51 [==============================] - 0s 4ms/step - loss: 1074.1310 - val_loss: 994.2908\n",
      "Epoch 38/50\n",
      "51/51 [==============================] - 0s 3ms/step - loss: 1062.7977 - val_loss: 977.3641\n",
      "Epoch 39/50\n",
      "51/51 [==============================] - 0s 3ms/step - loss: 1015.1472 - val_loss: 959.9003\n",
      "Epoch 40/50\n",
      "51/51 [==============================] - 0s 3ms/step - loss: 1006.2874 - val_loss: 942.7378\n",
      "Epoch 41/50\n",
      "51/51 [==============================] - 0s 6ms/step - loss: 1005.7676 - val_loss: 926.4363\n",
      "Epoch 42/50\n",
      "51/51 [==============================] - 0s 4ms/step - loss: 987.5991 - val_loss: 910.1603\n",
      "Epoch 43/50\n",
      "51/51 [==============================] - 0s 4ms/step - loss: 985.3205 - val_loss: 894.3079\n",
      "Epoch 44/50\n",
      "51/51 [==============================] - 0s 5ms/step - loss: 969.4952 - val_loss: 878.5472\n",
      "Epoch 45/50\n",
      "51/51 [==============================] - 0s 5ms/step - loss: 969.3351 - val_loss: 863.0350\n",
      "Epoch 46/50\n",
      "51/51 [==============================] - 0s 4ms/step - loss: 936.7365 - val_loss: 847.6957\n",
      "Epoch 47/50\n",
      "51/51 [==============================] - 0s 5ms/step - loss: 933.4084 - val_loss: 832.7445\n",
      "Epoch 48/50\n",
      "51/51 [==============================] - 0s 4ms/step - loss: 919.4730 - val_loss: 817.2291\n",
      "Epoch 49/50\n",
      "51/51 [==============================] - 0s 6ms/step - loss: 908.7763 - val_loss: 802.0417\n",
      "Epoch 50/50\n",
      "51/51 [==============================] - 0s 4ms/step - loss: 914.0048 - val_loss: 787.3301\n"
     ]
    },
    {
     "data": {
      "text/plain": [
       "<keras.src.callbacks.History at 0x7fcfaa0bf3d0>"
      ]
     },
     "execution_count": 223,
     "metadata": {},
     "output_type": "execute_result"
    }
   ],
   "source": [
    "ann.fit(X_train_scaled, y_train, epochs=50, batch_size=32, validation_data=(X_test_scaled, y_test))"
   ]
  },
  {
   "cell_type": "markdown",
   "metadata": {},
   "source": [
    "### Evaluate the ANN"
   ]
  },
  {
   "cell_type": "code",
   "execution_count": null,
   "metadata": {},
   "outputs": [
    {
     "name": "stdout",
     "output_type": "stream",
     "text": [
      "51/51 [==============================] - 0s 3ms/step\n",
      "13/13 [==============================] - 0s 3ms/step\n"
     ]
    }
   ],
   "source": [
    "y_train_pred = ann.predict(X_train_scaled)\n",
    "y_test_pred = ann.predict(X_test_scaled)"
   ]
  },
  {
   "cell_type": "code",
   "execution_count": null,
   "metadata": {},
   "outputs": [
    {
     "name": "stdout",
     "output_type": "stream",
     "text": [
      "\n",
      "ANN Regression with PCA:\n",
      "R-Squared (Train): -98.94416579326783\n",
      "R-Squared (Test): -121.4200934549632\n"
     ]
    }
   ],
   "source": [
    "# Evaluate performance\n",
    "r2_train = r2_score(y_train, y_train_pred)\n",
    "r2_test = r2_score(y_test, y_test_pred)\n",
    "\n",
    "print(\"\\nANN Regression with PCA:\")\n",
    "print(\"R-Squared (Train):\", r2_train)\n",
    "print(\"R-Squared (Test):\", r2_test)"
   ]
  }
 ],
 "metadata": {
  "kernelspec": {
   "display_name": "Python 3",
   "language": "python",
   "name": "python3"
  },
  "language_info": {
   "codemirror_mode": {
    "name": "ipython",
    "version": 3
   },
   "file_extension": ".py",
   "mimetype": "text/x-python",
   "name": "python",
   "nbconvert_exporter": "python",
   "pygments_lexer": "ipython3",
   "version": "3.9.10"
  }
 },
 "nbformat": 4,
 "nbformat_minor": 2
}

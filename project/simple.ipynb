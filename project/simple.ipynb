{
 "cells": [
  {
   "cell_type": "markdown",
   "metadata": {},
   "source": [
    "## Data Preprocessing"
   ]
  },
  {
   "cell_type": "markdown",
   "metadata": {},
   "source": [
    "### Separate the input and output columns"
   ]
  },
  {
   "cell_type": "code",
   "execution_count": 34,
   "metadata": {},
   "outputs": [
    {
     "data": {
      "text/html": [
       "<div>\n",
       "<style scoped>\n",
       "    .dataframe tbody tr th:only-of-type {\n",
       "        vertical-align: middle;\n",
       "    }\n",
       "\n",
       "    .dataframe tbody tr th {\n",
       "        vertical-align: top;\n",
       "    }\n",
       "\n",
       "    .dataframe thead th {\n",
       "        text-align: right;\n",
       "    }\n",
       "</style>\n",
       "<table border=\"1\" class=\"dataframe\">\n",
       "  <thead>\n",
       "    <tr style=\"text-align: right;\">\n",
       "      <th></th>\n",
       "      <th>Delta_TP9</th>\n",
       "      <th>Delta_AF7</th>\n",
       "      <th>Delta_AF8</th>\n",
       "      <th>Delta_TP10</th>\n",
       "      <th>Theta_TP9</th>\n",
       "      <th>Theta_AF7</th>\n",
       "      <th>Theta_AF8</th>\n",
       "      <th>Theta_TP10</th>\n",
       "      <th>Alpha_TP9</th>\n",
       "      <th>Alpha_AF7</th>\n",
       "      <th>...</th>\n",
       "      <th>Alpha_TP10</th>\n",
       "      <th>Beta_TP9</th>\n",
       "      <th>Beta_AF7</th>\n",
       "      <th>Beta_AF8</th>\n",
       "      <th>Beta_TP10</th>\n",
       "      <th>Gamma_TP9</th>\n",
       "      <th>Gamma_AF7</th>\n",
       "      <th>Gamma_AF8</th>\n",
       "      <th>Gamma_TP10</th>\n",
       "      <th>Label</th>\n",
       "    </tr>\n",
       "  </thead>\n",
       "  <tbody>\n",
       "    <tr>\n",
       "      <th>0</th>\n",
       "      <td>26423.525184</td>\n",
       "      <td>14815.058457</td>\n",
       "      <td>0.0</td>\n",
       "      <td>20456.932963</td>\n",
       "      <td>28649.558922</td>\n",
       "      <td>8787.104173</td>\n",
       "      <td>0.0</td>\n",
       "      <td>15677.516232</td>\n",
       "      <td>28797.861412</td>\n",
       "      <td>10919.788087</td>\n",
       "      <td>...</td>\n",
       "      <td>21187.848194</td>\n",
       "      <td>21884.834479</td>\n",
       "      <td>6724.257111</td>\n",
       "      <td>0.0</td>\n",
       "      <td>15234.134521</td>\n",
       "      <td>10693.241702</td>\n",
       "      <td>569.196748</td>\n",
       "      <td>0.0</td>\n",
       "      <td>6225.098773</td>\n",
       "      <td>1</td>\n",
       "    </tr>\n",
       "    <tr>\n",
       "      <th>1</th>\n",
       "      <td>26423.525184</td>\n",
       "      <td>14815.058457</td>\n",
       "      <td>0.0</td>\n",
       "      <td>20456.932963</td>\n",
       "      <td>28649.558922</td>\n",
       "      <td>8787.104173</td>\n",
       "      <td>0.0</td>\n",
       "      <td>15677.516232</td>\n",
       "      <td>28797.861412</td>\n",
       "      <td>10919.788087</td>\n",
       "      <td>...</td>\n",
       "      <td>21187.848194</td>\n",
       "      <td>21884.834479</td>\n",
       "      <td>6724.257111</td>\n",
       "      <td>0.0</td>\n",
       "      <td>15234.134521</td>\n",
       "      <td>10693.241702</td>\n",
       "      <td>569.196748</td>\n",
       "      <td>0.0</td>\n",
       "      <td>6225.098773</td>\n",
       "      <td>0</td>\n",
       "    </tr>\n",
       "    <tr>\n",
       "      <th>2</th>\n",
       "      <td>26423.525184</td>\n",
       "      <td>14815.058457</td>\n",
       "      <td>0.0</td>\n",
       "      <td>20456.932963</td>\n",
       "      <td>28649.558922</td>\n",
       "      <td>8787.104173</td>\n",
       "      <td>0.0</td>\n",
       "      <td>15677.516232</td>\n",
       "      <td>28797.861412</td>\n",
       "      <td>10919.788087</td>\n",
       "      <td>...</td>\n",
       "      <td>21187.848194</td>\n",
       "      <td>21884.834479</td>\n",
       "      <td>6724.257111</td>\n",
       "      <td>0.0</td>\n",
       "      <td>15234.134521</td>\n",
       "      <td>10693.241702</td>\n",
       "      <td>569.196748</td>\n",
       "      <td>0.0</td>\n",
       "      <td>6225.098773</td>\n",
       "      <td>1</td>\n",
       "    </tr>\n",
       "    <tr>\n",
       "      <th>3</th>\n",
       "      <td>26423.525184</td>\n",
       "      <td>14815.058457</td>\n",
       "      <td>0.0</td>\n",
       "      <td>20456.932963</td>\n",
       "      <td>28649.558922</td>\n",
       "      <td>8787.104173</td>\n",
       "      <td>0.0</td>\n",
       "      <td>15677.516232</td>\n",
       "      <td>28797.861412</td>\n",
       "      <td>10919.788087</td>\n",
       "      <td>...</td>\n",
       "      <td>21187.848194</td>\n",
       "      <td>21884.834479</td>\n",
       "      <td>6724.257111</td>\n",
       "      <td>0.0</td>\n",
       "      <td>15234.134521</td>\n",
       "      <td>10693.241702</td>\n",
       "      <td>569.196748</td>\n",
       "      <td>0.0</td>\n",
       "      <td>6225.098773</td>\n",
       "      <td>1</td>\n",
       "    </tr>\n",
       "    <tr>\n",
       "      <th>4</th>\n",
       "      <td>26423.525184</td>\n",
       "      <td>14815.058457</td>\n",
       "      <td>0.0</td>\n",
       "      <td>20456.932963</td>\n",
       "      <td>28649.558922</td>\n",
       "      <td>8787.104173</td>\n",
       "      <td>0.0</td>\n",
       "      <td>15677.516232</td>\n",
       "      <td>28797.861412</td>\n",
       "      <td>10919.788087</td>\n",
       "      <td>...</td>\n",
       "      <td>21187.848194</td>\n",
       "      <td>21884.834479</td>\n",
       "      <td>6724.257111</td>\n",
       "      <td>0.0</td>\n",
       "      <td>15234.134521</td>\n",
       "      <td>10693.241702</td>\n",
       "      <td>569.196748</td>\n",
       "      <td>0.0</td>\n",
       "      <td>6225.098773</td>\n",
       "      <td>0</td>\n",
       "    </tr>\n",
       "  </tbody>\n",
       "</table>\n",
       "<p>5 rows × 21 columns</p>\n",
       "</div>"
      ],
      "text/plain": [
       "      Delta_TP9     Delta_AF7  Delta_AF8    Delta_TP10     Theta_TP9  \\\n",
       "0  26423.525184  14815.058457        0.0  20456.932963  28649.558922   \n",
       "1  26423.525184  14815.058457        0.0  20456.932963  28649.558922   \n",
       "2  26423.525184  14815.058457        0.0  20456.932963  28649.558922   \n",
       "3  26423.525184  14815.058457        0.0  20456.932963  28649.558922   \n",
       "4  26423.525184  14815.058457        0.0  20456.932963  28649.558922   \n",
       "\n",
       "     Theta_AF7  Theta_AF8    Theta_TP10     Alpha_TP9     Alpha_AF7  ...  \\\n",
       "0  8787.104173        0.0  15677.516232  28797.861412  10919.788087  ...   \n",
       "1  8787.104173        0.0  15677.516232  28797.861412  10919.788087  ...   \n",
       "2  8787.104173        0.0  15677.516232  28797.861412  10919.788087  ...   \n",
       "3  8787.104173        0.0  15677.516232  28797.861412  10919.788087  ...   \n",
       "4  8787.104173        0.0  15677.516232  28797.861412  10919.788087  ...   \n",
       "\n",
       "     Alpha_TP10      Beta_TP9     Beta_AF7  Beta_AF8     Beta_TP10  \\\n",
       "0  21187.848194  21884.834479  6724.257111       0.0  15234.134521   \n",
       "1  21187.848194  21884.834479  6724.257111       0.0  15234.134521   \n",
       "2  21187.848194  21884.834479  6724.257111       0.0  15234.134521   \n",
       "3  21187.848194  21884.834479  6724.257111       0.0  15234.134521   \n",
       "4  21187.848194  21884.834479  6724.257111       0.0  15234.134521   \n",
       "\n",
       "      Gamma_TP9   Gamma_AF7  Gamma_AF8   Gamma_TP10   Label  \n",
       "0  10693.241702  569.196748        0.0  6225.098773       1  \n",
       "1  10693.241702  569.196748        0.0  6225.098773       0  \n",
       "2  10693.241702  569.196748        0.0  6225.098773       1  \n",
       "3  10693.241702  569.196748        0.0  6225.098773       1  \n",
       "4  10693.241702  569.196748        0.0  6225.098773       0  \n",
       "\n",
       "[5 rows x 21 columns]"
      ]
     },
     "execution_count": 34,
     "metadata": {},
     "output_type": "execute_result"
    }
   ],
   "source": [
    "import pandas as pd\n",
    "\n",
    "data = pd.read_csv(\"area_under_curve.csv\")\n",
    "data.head()"
   ]
  },
  {
   "cell_type": "code",
   "execution_count": 35,
   "metadata": {},
   "outputs": [
    {
     "data": {
      "text/html": [
       "<div>\n",
       "<style scoped>\n",
       "    .dataframe tbody tr th:only-of-type {\n",
       "        vertical-align: middle;\n",
       "    }\n",
       "\n",
       "    .dataframe tbody tr th {\n",
       "        vertical-align: top;\n",
       "    }\n",
       "\n",
       "    .dataframe thead th {\n",
       "        text-align: right;\n",
       "    }\n",
       "</style>\n",
       "<table border=\"1\" class=\"dataframe\">\n",
       "  <thead>\n",
       "    <tr style=\"text-align: right;\">\n",
       "      <th></th>\n",
       "      <th>Delta_TP9</th>\n",
       "      <th>Delta_AF7</th>\n",
       "      <th>Delta_AF8</th>\n",
       "      <th>Delta_TP10</th>\n",
       "      <th>Theta_TP9</th>\n",
       "      <th>Theta_AF7</th>\n",
       "      <th>Theta_AF8</th>\n",
       "      <th>Theta_TP10</th>\n",
       "      <th>Alpha_TP9</th>\n",
       "      <th>Alpha_AF7</th>\n",
       "      <th>Alpha_AF8</th>\n",
       "      <th>Alpha_TP10</th>\n",
       "      <th>Beta_TP9</th>\n",
       "      <th>Beta_AF7</th>\n",
       "      <th>Beta_AF8</th>\n",
       "      <th>Beta_TP10</th>\n",
       "      <th>Gamma_TP9</th>\n",
       "      <th>Gamma_AF7</th>\n",
       "      <th>Gamma_AF8</th>\n",
       "      <th>Gamma_TP10</th>\n",
       "    </tr>\n",
       "  </thead>\n",
       "  <tbody>\n",
       "    <tr>\n",
       "      <th>0</th>\n",
       "      <td>26423.525184</td>\n",
       "      <td>14815.058457</td>\n",
       "      <td>0.0</td>\n",
       "      <td>20456.932963</td>\n",
       "      <td>28649.558922</td>\n",
       "      <td>8787.104173</td>\n",
       "      <td>0.0</td>\n",
       "      <td>15677.516232</td>\n",
       "      <td>28797.861412</td>\n",
       "      <td>10919.788087</td>\n",
       "      <td>0.0</td>\n",
       "      <td>21187.848194</td>\n",
       "      <td>21884.834479</td>\n",
       "      <td>6724.257111</td>\n",
       "      <td>0.0</td>\n",
       "      <td>15234.134521</td>\n",
       "      <td>10693.241702</td>\n",
       "      <td>569.196748</td>\n",
       "      <td>0.0</td>\n",
       "      <td>6225.098773</td>\n",
       "    </tr>\n",
       "    <tr>\n",
       "      <th>1</th>\n",
       "      <td>26423.525184</td>\n",
       "      <td>14815.058457</td>\n",
       "      <td>0.0</td>\n",
       "      <td>20456.932963</td>\n",
       "      <td>28649.558922</td>\n",
       "      <td>8787.104173</td>\n",
       "      <td>0.0</td>\n",
       "      <td>15677.516232</td>\n",
       "      <td>28797.861412</td>\n",
       "      <td>10919.788087</td>\n",
       "      <td>0.0</td>\n",
       "      <td>21187.848194</td>\n",
       "      <td>21884.834479</td>\n",
       "      <td>6724.257111</td>\n",
       "      <td>0.0</td>\n",
       "      <td>15234.134521</td>\n",
       "      <td>10693.241702</td>\n",
       "      <td>569.196748</td>\n",
       "      <td>0.0</td>\n",
       "      <td>6225.098773</td>\n",
       "    </tr>\n",
       "    <tr>\n",
       "      <th>2</th>\n",
       "      <td>26423.525184</td>\n",
       "      <td>14815.058457</td>\n",
       "      <td>0.0</td>\n",
       "      <td>20456.932963</td>\n",
       "      <td>28649.558922</td>\n",
       "      <td>8787.104173</td>\n",
       "      <td>0.0</td>\n",
       "      <td>15677.516232</td>\n",
       "      <td>28797.861412</td>\n",
       "      <td>10919.788087</td>\n",
       "      <td>0.0</td>\n",
       "      <td>21187.848194</td>\n",
       "      <td>21884.834479</td>\n",
       "      <td>6724.257111</td>\n",
       "      <td>0.0</td>\n",
       "      <td>15234.134521</td>\n",
       "      <td>10693.241702</td>\n",
       "      <td>569.196748</td>\n",
       "      <td>0.0</td>\n",
       "      <td>6225.098773</td>\n",
       "    </tr>\n",
       "    <tr>\n",
       "      <th>3</th>\n",
       "      <td>26423.525184</td>\n",
       "      <td>14815.058457</td>\n",
       "      <td>0.0</td>\n",
       "      <td>20456.932963</td>\n",
       "      <td>28649.558922</td>\n",
       "      <td>8787.104173</td>\n",
       "      <td>0.0</td>\n",
       "      <td>15677.516232</td>\n",
       "      <td>28797.861412</td>\n",
       "      <td>10919.788087</td>\n",
       "      <td>0.0</td>\n",
       "      <td>21187.848194</td>\n",
       "      <td>21884.834479</td>\n",
       "      <td>6724.257111</td>\n",
       "      <td>0.0</td>\n",
       "      <td>15234.134521</td>\n",
       "      <td>10693.241702</td>\n",
       "      <td>569.196748</td>\n",
       "      <td>0.0</td>\n",
       "      <td>6225.098773</td>\n",
       "    </tr>\n",
       "    <tr>\n",
       "      <th>4</th>\n",
       "      <td>26423.525184</td>\n",
       "      <td>14815.058457</td>\n",
       "      <td>0.0</td>\n",
       "      <td>20456.932963</td>\n",
       "      <td>28649.558922</td>\n",
       "      <td>8787.104173</td>\n",
       "      <td>0.0</td>\n",
       "      <td>15677.516232</td>\n",
       "      <td>28797.861412</td>\n",
       "      <td>10919.788087</td>\n",
       "      <td>0.0</td>\n",
       "      <td>21187.848194</td>\n",
       "      <td>21884.834479</td>\n",
       "      <td>6724.257111</td>\n",
       "      <td>0.0</td>\n",
       "      <td>15234.134521</td>\n",
       "      <td>10693.241702</td>\n",
       "      <td>569.196748</td>\n",
       "      <td>0.0</td>\n",
       "      <td>6225.098773</td>\n",
       "    </tr>\n",
       "  </tbody>\n",
       "</table>\n",
       "</div>"
      ],
      "text/plain": [
       "      Delta_TP9     Delta_AF7  Delta_AF8    Delta_TP10     Theta_TP9  \\\n",
       "0  26423.525184  14815.058457        0.0  20456.932963  28649.558922   \n",
       "1  26423.525184  14815.058457        0.0  20456.932963  28649.558922   \n",
       "2  26423.525184  14815.058457        0.0  20456.932963  28649.558922   \n",
       "3  26423.525184  14815.058457        0.0  20456.932963  28649.558922   \n",
       "4  26423.525184  14815.058457        0.0  20456.932963  28649.558922   \n",
       "\n",
       "     Theta_AF7  Theta_AF8    Theta_TP10     Alpha_TP9     Alpha_AF7  \\\n",
       "0  8787.104173        0.0  15677.516232  28797.861412  10919.788087   \n",
       "1  8787.104173        0.0  15677.516232  28797.861412  10919.788087   \n",
       "2  8787.104173        0.0  15677.516232  28797.861412  10919.788087   \n",
       "3  8787.104173        0.0  15677.516232  28797.861412  10919.788087   \n",
       "4  8787.104173        0.0  15677.516232  28797.861412  10919.788087   \n",
       "\n",
       "   Alpha_AF8    Alpha_TP10      Beta_TP9     Beta_AF7  Beta_AF8     Beta_TP10  \\\n",
       "0        0.0  21187.848194  21884.834479  6724.257111       0.0  15234.134521   \n",
       "1        0.0  21187.848194  21884.834479  6724.257111       0.0  15234.134521   \n",
       "2        0.0  21187.848194  21884.834479  6724.257111       0.0  15234.134521   \n",
       "3        0.0  21187.848194  21884.834479  6724.257111       0.0  15234.134521   \n",
       "4        0.0  21187.848194  21884.834479  6724.257111       0.0  15234.134521   \n",
       "\n",
       "      Gamma_TP9   Gamma_AF7  Gamma_AF8   Gamma_TP10  \n",
       "0  10693.241702  569.196748        0.0  6225.098773  \n",
       "1  10693.241702  569.196748        0.0  6225.098773  \n",
       "2  10693.241702  569.196748        0.0  6225.098773  \n",
       "3  10693.241702  569.196748        0.0  6225.098773  \n",
       "4  10693.241702  569.196748        0.0  6225.098773  "
      ]
     },
     "execution_count": 35,
     "metadata": {},
     "output_type": "execute_result"
    }
   ],
   "source": [
    "selected_columns = [\n",
    "    'Delta_TP9', 'Delta_AF7', 'Delta_AF8', 'Delta_TP10',\n",
    "    'Theta_TP9', 'Theta_AF7', 'Theta_AF8', 'Theta_TP10',\n",
    "    'Alpha_TP9', 'Alpha_AF7', 'Alpha_AF8', 'Alpha_TP10',\n",
    "    'Beta_TP9', 'Beta_AF7', 'Beta_AF8', 'Beta_TP10',\n",
    "    'Gamma_TP9', 'Gamma_AF7', 'Gamma_AF8', 'Gamma_TP10'\n",
    "]\n",
    "\n",
    "X = data.loc[:, selected_columns]\n",
    "X.head()"
   ]
  },
  {
   "cell_type": "code",
   "execution_count": 36,
   "metadata": {},
   "outputs": [
    {
     "data": {
      "text/plain": [
       "0    1\n",
       "1    0\n",
       "2    1\n",
       "3    1\n",
       "4    0\n",
       "Name:  Label, dtype: int64"
      ]
     },
     "execution_count": 36,
     "metadata": {},
     "output_type": "execute_result"
    }
   ],
   "source": [
    "# For y, we have either 0 or 1. \n",
    "# 0 = \"Recall\"\n",
    "# 1 = \"Maze\"\n",
    "# labels = [1, 0, 1, 0, 1]  # Replace this with actual y label data\n",
    "\n",
    "y = data.iloc[:, -1]\n",
    "y.head()"
   ]
  },
  {
   "cell_type": "markdown",
   "metadata": {},
   "source": [
    "### Removing rows with missing data"
   ]
  },
  {
   "cell_type": "code",
   "execution_count": 37,
   "metadata": {},
   "outputs": [
    {
     "data": {
      "text/html": [
       "<div>\n",
       "<style scoped>\n",
       "    .dataframe tbody tr th:only-of-type {\n",
       "        vertical-align: middle;\n",
       "    }\n",
       "\n",
       "    .dataframe tbody tr th {\n",
       "        vertical-align: top;\n",
       "    }\n",
       "\n",
       "    .dataframe thead th {\n",
       "        text-align: right;\n",
       "    }\n",
       "</style>\n",
       "<table border=\"1\" class=\"dataframe\">\n",
       "  <thead>\n",
       "    <tr style=\"text-align: right;\">\n",
       "      <th></th>\n",
       "      <th>Delta_TP9</th>\n",
       "      <th>Delta_AF7</th>\n",
       "      <th>Delta_AF8</th>\n",
       "      <th>Delta_TP10</th>\n",
       "      <th>Theta_TP9</th>\n",
       "      <th>Theta_AF7</th>\n",
       "      <th>Theta_AF8</th>\n",
       "      <th>Theta_TP10</th>\n",
       "      <th>Alpha_TP9</th>\n",
       "      <th>Alpha_AF7</th>\n",
       "      <th>Alpha_AF8</th>\n",
       "      <th>Alpha_TP10</th>\n",
       "      <th>Beta_TP9</th>\n",
       "      <th>Beta_AF7</th>\n",
       "      <th>Beta_AF8</th>\n",
       "      <th>Beta_TP10</th>\n",
       "      <th>Gamma_TP9</th>\n",
       "      <th>Gamma_AF7</th>\n",
       "      <th>Gamma_AF8</th>\n",
       "      <th>Gamma_TP10</th>\n",
       "    </tr>\n",
       "  </thead>\n",
       "  <tbody>\n",
       "    <tr>\n",
       "      <th>0</th>\n",
       "      <td>26423.525184</td>\n",
       "      <td>14815.058457</td>\n",
       "      <td>0.0</td>\n",
       "      <td>20456.932963</td>\n",
       "      <td>28649.558922</td>\n",
       "      <td>8787.104173</td>\n",
       "      <td>0.0</td>\n",
       "      <td>15677.516232</td>\n",
       "      <td>28797.861412</td>\n",
       "      <td>10919.788087</td>\n",
       "      <td>0.0</td>\n",
       "      <td>21187.848194</td>\n",
       "      <td>21884.834479</td>\n",
       "      <td>6724.257111</td>\n",
       "      <td>0.0</td>\n",
       "      <td>15234.134521</td>\n",
       "      <td>10693.241702</td>\n",
       "      <td>569.196748</td>\n",
       "      <td>0.0</td>\n",
       "      <td>6225.098773</td>\n",
       "    </tr>\n",
       "    <tr>\n",
       "      <th>1</th>\n",
       "      <td>26423.525184</td>\n",
       "      <td>14815.058457</td>\n",
       "      <td>0.0</td>\n",
       "      <td>20456.932963</td>\n",
       "      <td>28649.558922</td>\n",
       "      <td>8787.104173</td>\n",
       "      <td>0.0</td>\n",
       "      <td>15677.516232</td>\n",
       "      <td>28797.861412</td>\n",
       "      <td>10919.788087</td>\n",
       "      <td>0.0</td>\n",
       "      <td>21187.848194</td>\n",
       "      <td>21884.834479</td>\n",
       "      <td>6724.257111</td>\n",
       "      <td>0.0</td>\n",
       "      <td>15234.134521</td>\n",
       "      <td>10693.241702</td>\n",
       "      <td>569.196748</td>\n",
       "      <td>0.0</td>\n",
       "      <td>6225.098773</td>\n",
       "    </tr>\n",
       "    <tr>\n",
       "      <th>2</th>\n",
       "      <td>26423.525184</td>\n",
       "      <td>14815.058457</td>\n",
       "      <td>0.0</td>\n",
       "      <td>20456.932963</td>\n",
       "      <td>28649.558922</td>\n",
       "      <td>8787.104173</td>\n",
       "      <td>0.0</td>\n",
       "      <td>15677.516232</td>\n",
       "      <td>28797.861412</td>\n",
       "      <td>10919.788087</td>\n",
       "      <td>0.0</td>\n",
       "      <td>21187.848194</td>\n",
       "      <td>21884.834479</td>\n",
       "      <td>6724.257111</td>\n",
       "      <td>0.0</td>\n",
       "      <td>15234.134521</td>\n",
       "      <td>10693.241702</td>\n",
       "      <td>569.196748</td>\n",
       "      <td>0.0</td>\n",
       "      <td>6225.098773</td>\n",
       "    </tr>\n",
       "    <tr>\n",
       "      <th>3</th>\n",
       "      <td>26423.525184</td>\n",
       "      <td>14815.058457</td>\n",
       "      <td>0.0</td>\n",
       "      <td>20456.932963</td>\n",
       "      <td>28649.558922</td>\n",
       "      <td>8787.104173</td>\n",
       "      <td>0.0</td>\n",
       "      <td>15677.516232</td>\n",
       "      <td>28797.861412</td>\n",
       "      <td>10919.788087</td>\n",
       "      <td>0.0</td>\n",
       "      <td>21187.848194</td>\n",
       "      <td>21884.834479</td>\n",
       "      <td>6724.257111</td>\n",
       "      <td>0.0</td>\n",
       "      <td>15234.134521</td>\n",
       "      <td>10693.241702</td>\n",
       "      <td>569.196748</td>\n",
       "      <td>0.0</td>\n",
       "      <td>6225.098773</td>\n",
       "    </tr>\n",
       "    <tr>\n",
       "      <th>4</th>\n",
       "      <td>26423.525184</td>\n",
       "      <td>14815.058457</td>\n",
       "      <td>0.0</td>\n",
       "      <td>20456.932963</td>\n",
       "      <td>28649.558922</td>\n",
       "      <td>8787.104173</td>\n",
       "      <td>0.0</td>\n",
       "      <td>15677.516232</td>\n",
       "      <td>28797.861412</td>\n",
       "      <td>10919.788087</td>\n",
       "      <td>0.0</td>\n",
       "      <td>21187.848194</td>\n",
       "      <td>21884.834479</td>\n",
       "      <td>6724.257111</td>\n",
       "      <td>0.0</td>\n",
       "      <td>15234.134521</td>\n",
       "      <td>10693.241702</td>\n",
       "      <td>569.196748</td>\n",
       "      <td>0.0</td>\n",
       "      <td>6225.098773</td>\n",
       "    </tr>\n",
       "  </tbody>\n",
       "</table>\n",
       "</div>"
      ],
      "text/plain": [
       "      Delta_TP9     Delta_AF7  Delta_AF8    Delta_TP10     Theta_TP9  \\\n",
       "0  26423.525184  14815.058457        0.0  20456.932963  28649.558922   \n",
       "1  26423.525184  14815.058457        0.0  20456.932963  28649.558922   \n",
       "2  26423.525184  14815.058457        0.0  20456.932963  28649.558922   \n",
       "3  26423.525184  14815.058457        0.0  20456.932963  28649.558922   \n",
       "4  26423.525184  14815.058457        0.0  20456.932963  28649.558922   \n",
       "\n",
       "     Theta_AF7  Theta_AF8    Theta_TP10     Alpha_TP9     Alpha_AF7  \\\n",
       "0  8787.104173        0.0  15677.516232  28797.861412  10919.788087   \n",
       "1  8787.104173        0.0  15677.516232  28797.861412  10919.788087   \n",
       "2  8787.104173        0.0  15677.516232  28797.861412  10919.788087   \n",
       "3  8787.104173        0.0  15677.516232  28797.861412  10919.788087   \n",
       "4  8787.104173        0.0  15677.516232  28797.861412  10919.788087   \n",
       "\n",
       "   Alpha_AF8    Alpha_TP10      Beta_TP9     Beta_AF7  Beta_AF8     Beta_TP10  \\\n",
       "0        0.0  21187.848194  21884.834479  6724.257111       0.0  15234.134521   \n",
       "1        0.0  21187.848194  21884.834479  6724.257111       0.0  15234.134521   \n",
       "2        0.0  21187.848194  21884.834479  6724.257111       0.0  15234.134521   \n",
       "3        0.0  21187.848194  21884.834479  6724.257111       0.0  15234.134521   \n",
       "4        0.0  21187.848194  21884.834479  6724.257111       0.0  15234.134521   \n",
       "\n",
       "      Gamma_TP9   Gamma_AF7  Gamma_AF8   Gamma_TP10  \n",
       "0  10693.241702  569.196748        0.0  6225.098773  \n",
       "1  10693.241702  569.196748        0.0  6225.098773  \n",
       "2  10693.241702  569.196748        0.0  6225.098773  \n",
       "3  10693.241702  569.196748        0.0  6225.098773  \n",
       "4  10693.241702  569.196748        0.0  6225.098773  "
      ]
     },
     "execution_count": 37,
     "metadata": {},
     "output_type": "execute_result"
    }
   ],
   "source": [
    "# TODO: IS THIS NEEDED OR CAN I TRUST THAT THE AREA CSV FILE WILL NOT HAVE ANY NAN ENTRIES?\n",
    "X_cleaned = X.dropna()\n",
    "X_cleaned.head()"
   ]
  },
  {
   "cell_type": "markdown",
   "metadata": {},
   "source": [
    "### Splitting the train and test data"
   ]
  },
  {
   "cell_type": "code",
   "execution_count": 38,
   "metadata": {},
   "outputs": [],
   "source": [
    "from sklearn.model_selection import train_test_split\n",
    "\n",
    "X_train, X_test, y_train, y_test = train_test_split(X, y, test_size=0.2, random_state=42)"
   ]
  },
  {
   "cell_type": "markdown",
   "metadata": {},
   "source": [
    "### Feature Scaling"
   ]
  },
  {
   "cell_type": "code",
   "execution_count": 39,
   "metadata": {},
   "outputs": [
    {
     "data": {
      "text/html": [
       "<style>#sk-container-id-2 {color: black;}#sk-container-id-2 pre{padding: 0;}#sk-container-id-2 div.sk-toggleable {background-color: white;}#sk-container-id-2 label.sk-toggleable__label {cursor: pointer;display: block;width: 100%;margin-bottom: 0;padding: 0.3em;box-sizing: border-box;text-align: center;}#sk-container-id-2 label.sk-toggleable__label-arrow:before {content: \"▸\";float: left;margin-right: 0.25em;color: #696969;}#sk-container-id-2 label.sk-toggleable__label-arrow:hover:before {color: black;}#sk-container-id-2 div.sk-estimator:hover label.sk-toggleable__label-arrow:before {color: black;}#sk-container-id-2 div.sk-toggleable__content {max-height: 0;max-width: 0;overflow: hidden;text-align: left;background-color: #f0f8ff;}#sk-container-id-2 div.sk-toggleable__content pre {margin: 0.2em;color: black;border-radius: 0.25em;background-color: #f0f8ff;}#sk-container-id-2 input.sk-toggleable__control:checked~div.sk-toggleable__content {max-height: 200px;max-width: 100%;overflow: auto;}#sk-container-id-2 input.sk-toggleable__control:checked~label.sk-toggleable__label-arrow:before {content: \"▾\";}#sk-container-id-2 div.sk-estimator input.sk-toggleable__control:checked~label.sk-toggleable__label {background-color: #d4ebff;}#sk-container-id-2 div.sk-label input.sk-toggleable__control:checked~label.sk-toggleable__label {background-color: #d4ebff;}#sk-container-id-2 input.sk-hidden--visually {border: 0;clip: rect(1px 1px 1px 1px);clip: rect(1px, 1px, 1px, 1px);height: 1px;margin: -1px;overflow: hidden;padding: 0;position: absolute;width: 1px;}#sk-container-id-2 div.sk-estimator {font-family: monospace;background-color: #f0f8ff;border: 1px dotted black;border-radius: 0.25em;box-sizing: border-box;margin-bottom: 0.5em;}#sk-container-id-2 div.sk-estimator:hover {background-color: #d4ebff;}#sk-container-id-2 div.sk-parallel-item::after {content: \"\";width: 100%;border-bottom: 1px solid gray;flex-grow: 1;}#sk-container-id-2 div.sk-label:hover label.sk-toggleable__label {background-color: #d4ebff;}#sk-container-id-2 div.sk-serial::before {content: \"\";position: absolute;border-left: 1px solid gray;box-sizing: border-box;top: 0;bottom: 0;left: 50%;z-index: 0;}#sk-container-id-2 div.sk-serial {display: flex;flex-direction: column;align-items: center;background-color: white;padding-right: 0.2em;padding-left: 0.2em;position: relative;}#sk-container-id-2 div.sk-item {position: relative;z-index: 1;}#sk-container-id-2 div.sk-parallel {display: flex;align-items: stretch;justify-content: center;background-color: white;position: relative;}#sk-container-id-2 div.sk-item::before, #sk-container-id-2 div.sk-parallel-item::before {content: \"\";position: absolute;border-left: 1px solid gray;box-sizing: border-box;top: 0;bottom: 0;left: 50%;z-index: -1;}#sk-container-id-2 div.sk-parallel-item {display: flex;flex-direction: column;z-index: 1;position: relative;background-color: white;}#sk-container-id-2 div.sk-parallel-item:first-child::after {align-self: flex-end;width: 50%;}#sk-container-id-2 div.sk-parallel-item:last-child::after {align-self: flex-start;width: 50%;}#sk-container-id-2 div.sk-parallel-item:only-child::after {width: 0;}#sk-container-id-2 div.sk-dashed-wrapped {border: 1px dashed gray;margin: 0 0.4em 0.5em 0.4em;box-sizing: border-box;padding-bottom: 0.4em;background-color: white;}#sk-container-id-2 div.sk-label label {font-family: monospace;font-weight: bold;display: inline-block;line-height: 1.2em;}#sk-container-id-2 div.sk-label-container {text-align: center;}#sk-container-id-2 div.sk-container {/* jupyter's `normalize.less` sets `[hidden] { display: none; }` but bootstrap.min.css set `[hidden] { display: none !important; }` so we also need the `!important` here to be able to override the default hidden behavior on the sphinx rendered scikit-learn.org. See: https://github.com/scikit-learn/scikit-learn/issues/21755 */display: inline-block !important;position: relative;}#sk-container-id-2 div.sk-text-repr-fallback {display: none;}</style><div id=\"sk-container-id-2\" class=\"sk-top-container\"><div class=\"sk-text-repr-fallback\"><pre>StandardScaler()</pre><b>In a Jupyter environment, please rerun this cell to show the HTML representation or trust the notebook. <br />On GitHub, the HTML representation is unable to render, please try loading this page with nbviewer.org.</b></div><div class=\"sk-container\" hidden><div class=\"sk-item\"><div class=\"sk-estimator sk-toggleable\"><input class=\"sk-toggleable__control sk-hidden--visually\" id=\"sk-estimator-id-2\" type=\"checkbox\" checked><label for=\"sk-estimator-id-2\" class=\"sk-toggleable__label sk-toggleable__label-arrow\">StandardScaler</label><div class=\"sk-toggleable__content\"><pre>StandardScaler()</pre></div></div></div></div></div>"
      ],
      "text/plain": [
       "StandardScaler()"
      ]
     },
     "execution_count": 39,
     "metadata": {},
     "output_type": "execute_result"
    }
   ],
   "source": [
    "from sklearn.preprocessing import StandardScaler\n",
    "sc = StandardScaler()\n",
    "sc.fit_transform(X_train)\n",
    "sc.fit(X_test)"
   ]
  },
  {
   "cell_type": "markdown",
   "metadata": {},
   "source": [
    "### KNN"
   ]
  },
  {
   "cell_type": "code",
   "execution_count": 53,
   "metadata": {},
   "outputs": [
    {
     "name": "stdout",
     "output_type": "stream",
     "text": [
      "1.0\n"
     ]
    }
   ],
   "source": [
    "from sklearn.metrics import accuracy_score\n",
    "from sklearn.neighbors import KNeighborsClassifier\n",
    "\n",
    "knn = KNeighborsClassifier(n_neighbors=5)\n",
    "knn.fit(X_train.values, y_train.values)\n",
    "y_pred = knn.predict(X_test.values)\n",
    "print(accuracy_score(y_test, y_pred))"
   ]
  },
  {
   "cell_type": "markdown",
   "metadata": {},
   "source": [
    "### Naive Bayes"
   ]
  },
  {
   "cell_type": "code",
   "execution_count": 55,
   "metadata": {},
   "outputs": [
    {
     "name": "stdout",
     "output_type": "stream",
     "text": [
      "1.0\n"
     ]
    },
    {
     "name": "stderr",
     "output_type": "stream",
     "text": [
      "C:\\anaconda3\\Lib\\site-packages\\sklearn\\naive_bayes.py:510: RuntimeWarning: divide by zero encountered in log\n",
      "  n_ij = -0.5 * np.sum(np.log(2.0 * np.pi * self.var_[i, :]))\n",
      "C:\\anaconda3\\Lib\\site-packages\\sklearn\\naive_bayes.py:511: RuntimeWarning: invalid value encountered in divide\n",
      "  n_ij -= 0.5 * np.sum(((X - self.theta_[i, :]) ** 2) / (self.var_[i, :]), 1)\n"
     ]
    }
   ],
   "source": [
    "from sklearn.naive_bayes import GaussianNB\n",
    "\n",
    "nb_clf = GaussianNB()\n",
    "nb_clf.fit(X_train, y_train)\n",
    "y_pred = nb_clf.predict(X_test)\n",
    "print(accuracy_score(y_test, y_pred))"
   ]
  },
  {
   "cell_type": "markdown",
   "metadata": {},
   "source": [
    "### SVM"
   ]
  },
  {
   "cell_type": "code",
   "execution_count": 42,
   "metadata": {},
   "outputs": [
    {
     "name": "stdout",
     "output_type": "stream",
     "text": [
      "1.0\n"
     ]
    }
   ],
   "source": [
    "from sklearn.svm import SVC\n",
    "\n",
    "svmrbf = SVC(kernel='rbf')\n",
    "svmrbf.fit(X_train, y_train)\n",
    "y_pred = svmrbf.predict(X_test)\n",
    "print(accuracy_score(y_test, y_pred))"
   ]
  },
  {
   "cell_type": "code",
   "execution_count": 43,
   "metadata": {
    "vscode": {
     "languageId": "plaintext"
    }
   },
   "outputs": [
    {
     "name": "stdout",
     "output_type": "stream",
     "text": [
      "1.0\n"
     ]
    }
   ],
   "source": [
    "from sklearn.ensemble import RandomForestClassifier\n",
    "\n",
    "rf_classifier = RandomForestClassifier(class_weight='balanced')\n",
    "rf_classifier.fit(X_train, y_train)\n",
    "y_pred = rf_classifier.predict(X_test)\n",
    "print(accuracy_score(y_test, y_pred))"
   ]
  },
  {
   "cell_type": "markdown",
   "metadata": {},
   "source": [
    "### Decision Tree Classifier"
   ]
  },
  {
   "cell_type": "code",
   "execution_count": 44,
   "metadata": {},
   "outputs": [
    {
     "name": "stdout",
     "output_type": "stream",
     "text": [
      "1.0\n"
     ]
    }
   ],
   "source": [
    "from sklearn.tree import DecisionTreeClassifier\n",
    "\n",
    "dt_classifier = DecisionTreeClassifier(max_depth=10, class_weight='balanced')\n",
    "dt_classifier.fit(X_train, y_train)\n",
    "y_pred = dt_classifier.predict(X_test)\n",
    "print(accuracy_score(y_test, y_pred))"
   ]
  },
  {
   "cell_type": "markdown",
   "metadata": {},
   "source": [
    "### Random Forest Classifier"
   ]
  },
  {
   "cell_type": "code",
   "execution_count": 45,
   "metadata": {},
   "outputs": [
    {
     "name": "stdout",
     "output_type": "stream",
     "text": [
      "1.0\n"
     ]
    }
   ],
   "source": [
    "from sklearn.ensemble import RandomForestClassifier\n",
    "\n",
    "rf_classifier = RandomForestClassifier(class_weight='balanced')\n",
    "rf_classifier.fit(X_train, y_train)\n",
    "y_pred = rf_classifier.predict(X_test)\n",
    "print(accuracy_score(y_test, y_pred))"
   ]
  },
  {
   "cell_type": "code",
   "execution_count": null,
   "metadata": {},
   "outputs": [],
   "source": []
  }
 ],
 "metadata": {
  "kernelspec": {
   "display_name": "Python 3 (ipykernel)",
   "language": "python",
   "name": "python3"
  },
  "language_info": {
   "codemirror_mode": {
    "name": "ipython",
    "version": 3
   },
   "file_extension": ".py",
   "mimetype": "text/x-python",
   "name": "python",
   "nbconvert_exporter": "python",
   "pygments_lexer": "ipython3",
   "version": "3.11.4"
  },
  "toc": {
   "base_numbering": 1,
   "nav_menu": {},
   "number_sections": true,
   "sideBar": true,
   "skip_h1_title": false,
   "title_cell": "Table of Contents",
   "title_sidebar": "Contents",
   "toc_cell": false,
   "toc_position": {},
   "toc_section_display": true,
   "toc_window_display": false
  },
  "varInspector": {
   "cols": {
    "lenName": 16,
    "lenType": 16,
    "lenVar": 40
   },
   "kernels_config": {
    "python": {
     "delete_cmd_postfix": "",
     "delete_cmd_prefix": "del ",
     "library": "var_list.py",
     "varRefreshCmd": "print(var_dic_list())"
    },
    "r": {
     "delete_cmd_postfix": ") ",
     "delete_cmd_prefix": "rm(",
     "library": "var_list.r",
     "varRefreshCmd": "cat(var_dic_list()) "
    }
   },
   "types_to_exclude": [
    "module",
    "function",
    "builtin_function_or_method",
    "instance",
    "_Feature"
   ],
   "window_display": false
  }
 },
 "nbformat": 4,
 "nbformat_minor": 2
}

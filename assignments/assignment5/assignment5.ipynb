{
 "cells": [
  {
   "cell_type": "markdown",
   "metadata": {},
   "source": [
    "## Import data"
   ]
  },
  {
   "cell_type": "code",
   "execution_count": 116,
   "metadata": {},
   "outputs": [],
   "source": [
    "import pandas as pd\n",
    "\n",
    "dataset = pd.read_csv('Cancer.csv')\n",
    "X = dataset.iloc[:, :-1].values\n",
    "y = dataset.iloc[:, -1].values"
   ]
  },
  {
   "cell_type": "code",
   "execution_count": 117,
   "metadata": {},
   "outputs": [
    {
     "data": {
      "text/html": [
       "<div>\n",
       "<style scoped>\n",
       "    .dataframe tbody tr th:only-of-type {\n",
       "        vertical-align: middle;\n",
       "    }\n",
       "\n",
       "    .dataframe tbody tr th {\n",
       "        vertical-align: top;\n",
       "    }\n",
       "\n",
       "    .dataframe thead th {\n",
       "        text-align: right;\n",
       "    }\n",
       "</style>\n",
       "<table border=\"1\" class=\"dataframe\">\n",
       "  <thead>\n",
       "    <tr style=\"text-align: right;\">\n",
       "      <th></th>\n",
       "      <th>0.063915</th>\n",
       "      <th>0.033242</th>\n",
       "      <th>0.018484</th>\n",
       "      <th>0.0086177</th>\n",
       "      <th>0.035629</th>\n",
       "      <th>0.037925</th>\n",
       "      <th>0.028865</th>\n",
       "      <th>0.061731</th>\n",
       "      <th>0.0631</th>\n",
       "      <th>0.024787</th>\n",
       "      <th>...</th>\n",
       "      <th>0.021515</th>\n",
       "      <th>0.017385</th>\n",
       "      <th>0.018564</th>\n",
       "      <th>0.010027</th>\n",
       "      <th>0.012907</th>\n",
       "      <th>0.023405</th>\n",
       "      <th>0.038839</th>\n",
       "      <th>0.038151</th>\n",
       "      <th>0.032085</th>\n",
       "      <th>C</th>\n",
       "    </tr>\n",
       "  </thead>\n",
       "  <tbody>\n",
       "    <tr>\n",
       "      <th>0</th>\n",
       "      <td>0.025409</td>\n",
       "      <td>0.051085</td>\n",
       "      <td>0.056305</td>\n",
       "      <td>0.021738</td>\n",
       "      <td>0.027410</td>\n",
       "      <td>0.014914</td>\n",
       "      <td>0.022455</td>\n",
       "      <td>0.023957</td>\n",
       "      <td>0.060527</td>\n",
       "      <td>0.047382</td>\n",
       "      <td>...</td>\n",
       "      <td>0.055033</td>\n",
       "      <td>0.080864</td>\n",
       "      <td>0.053423</td>\n",
       "      <td>0.051942</td>\n",
       "      <td>0.013187</td>\n",
       "      <td>0.028573</td>\n",
       "      <td>0.020427</td>\n",
       "      <td>0.023261</td>\n",
       "      <td>0.019975</td>\n",
       "      <td>C</td>\n",
       "    </tr>\n",
       "    <tr>\n",
       "      <th>1</th>\n",
       "      <td>0.025536</td>\n",
       "      <td>0.036123</td>\n",
       "      <td>0.054195</td>\n",
       "      <td>0.009735</td>\n",
       "      <td>0.027521</td>\n",
       "      <td>0.052255</td>\n",
       "      <td>0.042812</td>\n",
       "      <td>0.069087</td>\n",
       "      <td>0.069873</td>\n",
       "      <td>0.066629</td>\n",
       "      <td>...</td>\n",
       "      <td>0.033783</td>\n",
       "      <td>0.029022</td>\n",
       "      <td>0.046397</td>\n",
       "      <td>0.033288</td>\n",
       "      <td>0.041889</td>\n",
       "      <td>0.019256</td>\n",
       "      <td>-0.009447</td>\n",
       "      <td>0.021481</td>\n",
       "      <td>0.025569</td>\n",
       "      <td>C</td>\n",
       "    </tr>\n",
       "    <tr>\n",
       "      <th>2</th>\n",
       "      <td>0.012817</td>\n",
       "      <td>0.029652</td>\n",
       "      <td>0.079290</td>\n",
       "      <td>0.050677</td>\n",
       "      <td>0.039737</td>\n",
       "      <td>0.057713</td>\n",
       "      <td>0.044492</td>\n",
       "      <td>0.034581</td>\n",
       "      <td>0.042587</td>\n",
       "      <td>0.034147</td>\n",
       "      <td>...</td>\n",
       "      <td>0.036083</td>\n",
       "      <td>0.038598</td>\n",
       "      <td>0.048881</td>\n",
       "      <td>0.025569</td>\n",
       "      <td>0.026710</td>\n",
       "      <td>0.025122</td>\n",
       "      <td>0.047466</td>\n",
       "      <td>0.046706</td>\n",
       "      <td>0.043482</td>\n",
       "      <td>C</td>\n",
       "    </tr>\n",
       "    <tr>\n",
       "      <th>3</th>\n",
       "      <td>0.019846</td>\n",
       "      <td>-0.010577</td>\n",
       "      <td>-0.007504</td>\n",
       "      <td>0.019042</td>\n",
       "      <td>0.068786</td>\n",
       "      <td>0.061764</td>\n",
       "      <td>0.039036</td>\n",
       "      <td>0.020445</td>\n",
       "      <td>0.025988</td>\n",
       "      <td>0.066716</td>\n",
       "      <td>...</td>\n",
       "      <td>0.032044</td>\n",
       "      <td>0.026320</td>\n",
       "      <td>0.072016</td>\n",
       "      <td>0.070145</td>\n",
       "      <td>0.055744</td>\n",
       "      <td>0.051084</td>\n",
       "      <td>0.036683</td>\n",
       "      <td>0.043729</td>\n",
       "      <td>0.040289</td>\n",
       "      <td>C</td>\n",
       "    </tr>\n",
       "    <tr>\n",
       "      <th>4</th>\n",
       "      <td>0.039048</td>\n",
       "      <td>0.039355</td>\n",
       "      <td>0.001343</td>\n",
       "      <td>0.026221</td>\n",
       "      <td>0.044091</td>\n",
       "      <td>0.043953</td>\n",
       "      <td>0.039629</td>\n",
       "      <td>0.047926</td>\n",
       "      <td>0.046892</td>\n",
       "      <td>0.030589</td>\n",
       "      <td>...</td>\n",
       "      <td>0.065494</td>\n",
       "      <td>0.030681</td>\n",
       "      <td>0.039686</td>\n",
       "      <td>0.037256</td>\n",
       "      <td>0.022888</td>\n",
       "      <td>0.056221</td>\n",
       "      <td>0.055819</td>\n",
       "      <td>0.010087</td>\n",
       "      <td>0.006004</td>\n",
       "      <td>C</td>\n",
       "    </tr>\n",
       "  </tbody>\n",
       "</table>\n",
       "<p>5 rows × 4001 columns</p>\n",
       "</div>"
      ],
      "text/plain": [
       "   0.063915  0.033242  0.018484  0.0086177  0.035629  0.037925  0.028865  \\\n",
       "0  0.025409  0.051085  0.056305   0.021738  0.027410  0.014914  0.022455   \n",
       "1  0.025536  0.036123  0.054195   0.009735  0.027521  0.052255  0.042812   \n",
       "2  0.012817  0.029652  0.079290   0.050677  0.039737  0.057713  0.044492   \n",
       "3  0.019846 -0.010577 -0.007504   0.019042  0.068786  0.061764  0.039036   \n",
       "4  0.039048  0.039355  0.001343   0.026221  0.044091  0.043953  0.039629   \n",
       "\n",
       "   0.061731    0.0631  0.024787  ...  0.021515  0.017385  0.018564  0.010027  \\\n",
       "0  0.023957  0.060527  0.047382  ...  0.055033  0.080864  0.053423  0.051942   \n",
       "1  0.069087  0.069873  0.066629  ...  0.033783  0.029022  0.046397  0.033288   \n",
       "2  0.034581  0.042587  0.034147  ...  0.036083  0.038598  0.048881  0.025569   \n",
       "3  0.020445  0.025988  0.066716  ...  0.032044  0.026320  0.072016  0.070145   \n",
       "4  0.047926  0.046892  0.030589  ...  0.065494  0.030681  0.039686  0.037256   \n",
       "\n",
       "   0.012907  0.023405  0.038839  0.038151  0.032085  C  \n",
       "0  0.013187  0.028573  0.020427  0.023261  0.019975  C  \n",
       "1  0.041889  0.019256 -0.009447  0.021481  0.025569  C  \n",
       "2  0.026710  0.025122  0.047466  0.046706  0.043482  C  \n",
       "3  0.055744  0.051084  0.036683  0.043729  0.040289  C  \n",
       "4  0.022888  0.056221  0.055819  0.010087  0.006004  C  \n",
       "\n",
       "[5 rows x 4001 columns]"
      ]
     },
     "execution_count": 117,
     "metadata": {},
     "output_type": "execute_result"
    }
   ],
   "source": [
    "dataset.head()"
   ]
  },
  {
   "cell_type": "markdown",
   "metadata": {},
   "source": [
    "## Encoding the output data"
   ]
  },
  {
   "cell_type": "code",
   "execution_count": 118,
   "metadata": {},
   "outputs": [],
   "source": [
    "from sklearn.preprocessing import LabelEncoder\n",
    "\n",
    "# Encode labels 'C' and 'N'\n",
    "label_encoder = LabelEncoder()\n",
    "y = label_encoder.fit_transform(y)"
   ]
  },
  {
   "cell_type": "markdown",
   "metadata": {},
   "source": [
    "## Part A: PCA and Plot PC1-PC2"
   ]
  },
  {
   "cell_type": "markdown",
   "metadata": {},
   "source": [
    "### Perform PCA"
   ]
  },
  {
   "cell_type": "code",
   "execution_count": 119,
   "metadata": {},
   "outputs": [],
   "source": [
    "from sklearn.decomposition import PCA\n",
    "\n",
    "pca = PCA(n_components=2)\n",
    "X_pca = pca.fit_transform(X)\n",
    "\n",
    "pc_df = pd.DataFrame(data=X_pca, columns=['PC1', 'PC2'])"
   ]
  },
  {
   "cell_type": "markdown",
   "metadata": {},
   "source": [
    "### Plot PC1-PC2"
   ]
  },
  {
   "cell_type": "code",
   "execution_count": 120,
   "metadata": {},
   "outputs": [
    {
     "data": {
      "image/png": "[encoded data removed]",
      "text/plain": [
       "<Figure size 640x480 with 1 Axes>"
      ]
     },
     "metadata": {},
     "output_type": "display_data"
    }
   ],
   "source": [
    "import matplotlib.pyplot as plt\n",
    "\n",
    "plt.scatter(pc_df['PC1'], pc_df['PC2'], c=y, cmap='viridis')\n",
    "plt.title('PC1-PC2 for 216 patients')\n",
    "plt.xlabel('PC1')\n",
    "plt.ylabel('PC2')\n",
    "plt.show()"
   ]
  },
  {
   "cell_type": "markdown",
   "metadata": {},
   "source": [
    "## Part B: Calculate Information Preservation"
   ]
  },
  {
   "cell_type": "markdown",
   "metadata": {},
   "source": [
    "Create a PCA object with 10 components and fit with data"
   ]
  },
  {
   "cell_type": "code",
   "execution_count": 121,
   "metadata": {},
   "outputs": [],
   "source": [
    "pca = PCA(n_components=10)\n",
    "X_pca_10 = pca.fit_transform(X)"
   ]
  },
  {
   "cell_type": "markdown",
   "metadata": {},
   "source": [
    "Check preserved data"
   ]
  },
  {
   "cell_type": "code",
   "execution_count": 122,
   "metadata": {},
   "outputs": [
    {
     "name": "stdout",
     "output_type": "stream",
     "text": [
      "Percentage of information preserved: 97.22%\n"
     ]
    }
   ],
   "source": [
    "explained_variance_ratio = pca.explained_variance_ratio_\n",
    "info_preserved = sum(explained_variance_ratio[:10]) * 100\n",
    "print(f'Percentage of information preserved: {info_preserved:.2f}%')"
   ]
  },
  {
   "cell_type": "markdown",
   "metadata": {},
   "source": [
    "### Analysis"
   ]
  },
  {
   "cell_type": "markdown",
   "metadata": {},
   "source": [
    "By using the first 10 principal components, we are able to preserve 97.22% of the information, showing a very good dimensionality reduction, which retains the dataset's critical characteristics while significantly reducing its complexity. This means that it is possible to significantly reduce the feature space without sacrificing much of the data's essential information."
   ]
  },
  {
   "cell_type": "markdown",
   "metadata": {},
   "source": [
    "## Part C: Build an ANN Classifier"
   ]
  },
  {
   "cell_type": "markdown",
   "metadata": {},
   "source": [
    "Build the ANN with the first 10 PCs"
   ]
  },
  {
   "cell_type": "code",
   "execution_count": 123,
   "metadata": {},
   "outputs": [],
   "source": [
    "X_pca = pca.transform(X)"
   ]
  },
  {
   "cell_type": "markdown",
   "metadata": {},
   "source": [
    "Split the data into training and testing sets"
   ]
  },
  {
   "cell_type": "code",
   "execution_count": 124,
   "metadata": {},
   "outputs": [],
   "source": [
    "from sklearn.model_selection import train_test_split\n",
    "X_train, X_test, y_train, y_test = train_test_split(X_pca, y, test_size=0.2, random_state=42)"
   ]
  },
  {
   "cell_type": "markdown",
   "metadata": {},
   "source": [
    "Feature scaling"
   ]
  },
  {
   "cell_type": "code",
   "execution_count": 125,
   "metadata": {},
   "outputs": [],
   "source": [
    "from sklearn.preprocessing import StandardScaler\n",
    "\n",
    "scaler = StandardScaler()\n",
    "X_train = scaler.fit_transform(X_train)\n",
    "X_test = scaler.fit_transform(X_test)"
   ]
  },
  {
   "cell_type": "markdown",
   "metadata": {},
   "source": [
    "Build and train the model"
   ]
  },
  {
   "cell_type": "code",
   "execution_count": 178,
   "metadata": {},
   "outputs": [
    {
     "name": "stdout",
     "output_type": "stream",
     "text": [
      "Epoch 1/10\n",
      "6/6 [==============================] - 1s 5ms/step - loss: 0.6878 - accuracy: 0.5872\n",
      "Epoch 2/10\n",
      "6/6 [==============================] - 0s 5ms/step - loss: 0.6403 - accuracy: 0.6512\n",
      "Epoch 3/10\n",
      "6/6 [==============================] - 0s 5ms/step - loss: 0.5693 - accuracy: 0.7442\n",
      "Epoch 4/10\n",
      "6/6 [==============================] - 0s 7ms/step - loss: 0.5077 - accuracy: 0.8430\n",
      "Epoch 5/10\n",
      "6/6 [==============================] - 0s 6ms/step - loss: 0.4609 - accuracy: 0.8953\n",
      "Epoch 6/10\n",
      "6/6 [==============================] - 0s 5ms/step - loss: 0.3870 - accuracy: 0.9302\n",
      "Epoch 7/10\n",
      "6/6 [==============================] - 0s 5ms/step - loss: 0.3549 - accuracy: 0.9302\n",
      "Epoch 8/10\n",
      "6/6 [==============================] - 0s 5ms/step - loss: 0.3004 - accuracy: 0.9244\n",
      "Epoch 9/10\n",
      "6/6 [==============================] - 0s 7ms/step - loss: 0.2607 - accuracy: 0.9419\n",
      "Epoch 10/10\n",
      "6/6 [==============================] - 0s 8ms/step - loss: 0.2193 - accuracy: 0.9593\n",
      "2/2 [==============================] - 0s 7ms/step - loss: 0.2292 - accuracy: 0.9535\n",
      "Model Accuracy: 0.95\n"
     ]
    }
   ],
   "source": [
    "import tensorflow as tf\n",
    "\n",
    "# Build ANN model\n",
    "model = tf.keras.Sequential([\n",
    "    # Input layer, 10 principal components\n",
    "    tf.keras.layers.Input(shape=(10,)),\n",
    "\n",
    "    # More hidden layers\n",
    "    tf.keras.layers.Dense(128, activation='relu'),\n",
    "    tf.keras.layers.Dropout(0.3),\n",
    "    tf.keras.layers.Dense(64, activation='relu'),\n",
    "    tf.keras.layers.Dropout(0.3),\n",
    "\n",
    "    # Output layer, binary\n",
    "    tf.keras.layers.Dense(1, activation='sigmoid')\n",
    "])\n",
    "\n",
    "model.compile(optimizer='adam', loss='binary_crossentropy', metrics=['accuracy'])\n",
    "\n",
    "# Train the model\n",
    "model.fit(X_train, y_train, epochs=10, batch_size=32)\n",
    "\n",
    "# Evaluate the model\n",
    "loss, accuracy = model.evaluate(X_test, y_test)\n",
    "print(f\"Model Accuracy: {accuracy:.2f}\")"
   ]
  },
  {
   "cell_type": "markdown",
   "metadata": {},
   "source": [
    "## Try other classifiers"
   ]
  },
  {
   "cell_type": "markdown",
   "metadata": {},
   "source": [
    "### KNN"
   ]
  },
  {
   "cell_type": "code",
   "execution_count": 179,
   "metadata": {},
   "outputs": [
    {
     "name": "stdout",
     "output_type": "stream",
     "text": [
      "0.9767441860465116\n"
     ]
    }
   ],
   "source": [
    "from sklearn.metrics import accuracy_score\n",
    "from sklearn.neighbors import KNeighborsClassifier\n",
    "\n",
    "knn = KNeighborsClassifier(n_neighbors=5)\n",
    "knn.fit(X_train, y_train)\n",
    "y_pred = knn.predict(X_test)\n",
    "print(accuracy_score(y_test, y_pred))"
   ]
  },
  {
   "cell_type": "markdown",
   "metadata": {},
   "source": [
    "### Naive Bayes"
   ]
  },
  {
   "cell_type": "code",
   "execution_count": 180,
   "metadata": {},
   "outputs": [
    {
     "name": "stdout",
     "output_type": "stream",
     "text": [
      "0.9302325581395349\n"
     ]
    }
   ],
   "source": [
    "from sklearn.naive_bayes import GaussianNB\n",
    "\n",
    "nb_clf = GaussianNB()\n",
    "nb_clf.fit(X_train, y_train)\n",
    "y_pred = nb_clf.predict(X_test)\n",
    "print(accuracy_score(y_test, y_pred))"
   ]
  },
  {
   "cell_type": "markdown",
   "metadata": {},
   "source": [
    "### SVM"
   ]
  },
  {
   "cell_type": "code",
   "execution_count": 181,
   "metadata": {},
   "outputs": [
    {
     "name": "stdout",
     "output_type": "stream",
     "text": [
      "0.9302325581395349\n"
     ]
    }
   ],
   "source": [
    "from sklearn.svm import SVC\n",
    "\n",
    "svmrbf = SVC(kernel='rbf')\n",
    "svmrbf.fit(X_train, y_train)\n",
    "y_pred = svmrbf.predict(X_test)\n",
    "print(accuracy_score(y_test, y_pred))"
   ]
  },
  {
   "cell_type": "markdown",
   "metadata": {},
   "source": [
    "### Analysis"
   ]
  },
  {
   "cell_type": "markdown",
   "metadata": {},
   "source": [
    "As we can see the ANN performs well in comparison to the KNN, NB, and SVM models for this particular task. The ANN performs second best when it comes to accuracy with only the KNN model performing slightly better with an accuracy of ~0.977 compared to the ANN with an accuracy of 0.95. The other two models, the NB and SVM, also perform quite well, both with accuracies of 0.93."
   ]
  }
 ],
 "metadata": {
  "kernelspec": {
   "display_name": "Python 3",
   "language": "python",
   "name": "python3"
  },
  "language_info": {
   "codemirror_mode": {
    "name": "ipython",
    "version": 3
   },
   "file_extension": ".py",
   "mimetype": "text/x-python",
   "name": "python",
   "nbconvert_exporter": "python",
   "pygments_lexer": "ipython3",
   "version": "3.9.10"
  }
 },
 "nbformat": 4,
 "nbformat_minor": 2
}
